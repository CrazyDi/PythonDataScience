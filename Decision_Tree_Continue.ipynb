{
 "cells": [
  {
   "cell_type": "markdown",
   "metadata": {
    "collapsed": true,
    "pycharm": {
     "name": "#%% md\n"
    }
   },
   "source": [
    "Продолжаем работу с решающими деревьями. Попробуем довести задачу обучения дерева до конца."
   ]
  },
  {
   "cell_type": "code",
   "execution_count": 2,
   "outputs": [],
   "source": [
    "from sklearn import tree\n",
    "from sklearn.model_selection import train_test_split\n",
    "import pandas as pd\n",
    "import numpy as np\n",
    "import matplotlib.pyplot as plt\n",
    "import seaborn as sns\n",
    "%matplotlib inline"
   ],
   "metadata": {
    "collapsed": false,
    "pycharm": {
     "name": "#%%\n",
     "is_executing": false
    }
   }
  },
  {
   "cell_type": "markdown",
   "source": [
    "### Данные"
   ],
   "metadata": {
    "collapsed": false,
    "pycharm": {
     "name": "#%% md\n"
    }
   }
  },
  {
   "cell_type": "code",
   "execution_count": 3,
   "outputs": [
    {
     "data": {
      "text/plain": "   PassengerId  Survived  Pclass  \\\n0            1         0       3   \n1            2         1       1   \n2            3         1       3   \n3            4         1       1   \n4            5         0       3   \n\n                                                Name     Sex   Age  SibSp  \\\n0                            Braund, Mr. Owen Harris    male  22.0      1   \n1  Cumings, Mrs. John Bradley (Florence Briggs Th...  female  38.0      1   \n2                             Heikkinen, Miss. Laina  female  26.0      0   \n3       Futrelle, Mrs. Jacques Heath (Lily May Peel)  female  35.0      1   \n4                           Allen, Mr. William Henry    male  35.0      0   \n\n   Parch            Ticket     Fare Cabin Embarked  \n0      0         A/5 21171   7.2500   NaN        S  \n1      0          PC 17599  71.2833   C85        C  \n2      0  STON/O2. 3101282   7.9250   NaN        S  \n3      0            113803  53.1000  C123        S  \n4      0            373450   8.0500   NaN        S  ",
      "text/html": "<div>\n<style scoped>\n    .dataframe tbody tr th:only-of-type {\n        vertical-align: middle;\n    }\n\n    .dataframe tbody tr th {\n        vertical-align: top;\n    }\n\n    .dataframe thead th {\n        text-align: right;\n    }\n</style>\n<table border=\"1\" class=\"dataframe\">\n  <thead>\n    <tr style=\"text-align: right;\">\n      <th></th>\n      <th>PassengerId</th>\n      <th>Survived</th>\n      <th>Pclass</th>\n      <th>Name</th>\n      <th>Sex</th>\n      <th>Age</th>\n      <th>SibSp</th>\n      <th>Parch</th>\n      <th>Ticket</th>\n      <th>Fare</th>\n      <th>Cabin</th>\n      <th>Embarked</th>\n    </tr>\n  </thead>\n  <tbody>\n    <tr>\n      <th>0</th>\n      <td>1</td>\n      <td>0</td>\n      <td>3</td>\n      <td>Braund, Mr. Owen Harris</td>\n      <td>male</td>\n      <td>22.0</td>\n      <td>1</td>\n      <td>0</td>\n      <td>A/5 21171</td>\n      <td>7.2500</td>\n      <td>NaN</td>\n      <td>S</td>\n    </tr>\n    <tr>\n      <th>1</th>\n      <td>2</td>\n      <td>1</td>\n      <td>1</td>\n      <td>Cumings, Mrs. John Bradley (Florence Briggs Th...</td>\n      <td>female</td>\n      <td>38.0</td>\n      <td>1</td>\n      <td>0</td>\n      <td>PC 17599</td>\n      <td>71.2833</td>\n      <td>C85</td>\n      <td>C</td>\n    </tr>\n    <tr>\n      <th>2</th>\n      <td>3</td>\n      <td>1</td>\n      <td>3</td>\n      <td>Heikkinen, Miss. Laina</td>\n      <td>female</td>\n      <td>26.0</td>\n      <td>0</td>\n      <td>0</td>\n      <td>STON/O2. 3101282</td>\n      <td>7.9250</td>\n      <td>NaN</td>\n      <td>S</td>\n    </tr>\n    <tr>\n      <th>3</th>\n      <td>4</td>\n      <td>1</td>\n      <td>1</td>\n      <td>Futrelle, Mrs. Jacques Heath (Lily May Peel)</td>\n      <td>female</td>\n      <td>35.0</td>\n      <td>1</td>\n      <td>0</td>\n      <td>113803</td>\n      <td>53.1000</td>\n      <td>C123</td>\n      <td>S</td>\n    </tr>\n    <tr>\n      <th>4</th>\n      <td>5</td>\n      <td>0</td>\n      <td>3</td>\n      <td>Allen, Mr. William Henry</td>\n      <td>male</td>\n      <td>35.0</td>\n      <td>0</td>\n      <td>0</td>\n      <td>373450</td>\n      <td>8.0500</td>\n      <td>NaN</td>\n      <td>S</td>\n    </tr>\n  </tbody>\n</table>\n</div>"
     },
     "metadata": {},
     "output_type": "execute_result",
     "execution_count": 3
    }
   ],
   "source": [
    "titanic_data = pd.read_csv('data/titanic/train.csv')\n",
    "titanic_data.head()"
   ],
   "metadata": {
    "collapsed": false,
    "pycharm": {
     "name": "#%%\n",
     "is_executing": false
    }
   }
  },
  {
   "cell_type": "code",
   "execution_count": 4,
   "outputs": [
    {
     "data": {
      "text/plain": "   Pclass     Sex   Age  SibSp  Parch     Fare Embarked\n0       3    male  22.0      1      0   7.2500        S\n1       1  female  38.0      1      0  71.2833        C\n2       3  female  26.0      0      0   7.9250        S\n3       1  female  35.0      1      0  53.1000        S\n4       3    male  35.0      0      0   8.0500        S",
      "text/html": "<div>\n<style scoped>\n    .dataframe tbody tr th:only-of-type {\n        vertical-align: middle;\n    }\n\n    .dataframe tbody tr th {\n        vertical-align: top;\n    }\n\n    .dataframe thead th {\n        text-align: right;\n    }\n</style>\n<table border=\"1\" class=\"dataframe\">\n  <thead>\n    <tr style=\"text-align: right;\">\n      <th></th>\n      <th>Pclass</th>\n      <th>Sex</th>\n      <th>Age</th>\n      <th>SibSp</th>\n      <th>Parch</th>\n      <th>Fare</th>\n      <th>Embarked</th>\n    </tr>\n  </thead>\n  <tbody>\n    <tr>\n      <th>0</th>\n      <td>3</td>\n      <td>male</td>\n      <td>22.0</td>\n      <td>1</td>\n      <td>0</td>\n      <td>7.2500</td>\n      <td>S</td>\n    </tr>\n    <tr>\n      <th>1</th>\n      <td>1</td>\n      <td>female</td>\n      <td>38.0</td>\n      <td>1</td>\n      <td>0</td>\n      <td>71.2833</td>\n      <td>C</td>\n    </tr>\n    <tr>\n      <th>2</th>\n      <td>3</td>\n      <td>female</td>\n      <td>26.0</td>\n      <td>0</td>\n      <td>0</td>\n      <td>7.9250</td>\n      <td>S</td>\n    </tr>\n    <tr>\n      <th>3</th>\n      <td>1</td>\n      <td>female</td>\n      <td>35.0</td>\n      <td>1</td>\n      <td>0</td>\n      <td>53.1000</td>\n      <td>S</td>\n    </tr>\n    <tr>\n      <th>4</th>\n      <td>3</td>\n      <td>male</td>\n      <td>35.0</td>\n      <td>0</td>\n      <td>0</td>\n      <td>8.0500</td>\n      <td>S</td>\n    </tr>\n  </tbody>\n</table>\n</div>"
     },
     "metadata": {},
     "output_type": "execute_result",
     "execution_count": 4
    }
   ],
   "source": [
    "X = titanic_data.drop(['PassengerId', 'Survived', 'Name', 'Ticket', 'Cabin'], axis=1)\n",
    "X.head()"
   ],
   "metadata": {
    "collapsed": false,
    "pycharm": {
     "name": "#%%\n",
     "is_executing": false
    }
   }
  },
  {
   "cell_type": "code",
   "execution_count": 5,
   "outputs": [
    {
     "data": {
      "text/plain": "0    0\n1    1\n2    1\n3    1\n4    0\nName: Survived, dtype: int64"
     },
     "metadata": {},
     "output_type": "execute_result",
     "execution_count": 5
    }
   ],
   "source": [
    "y = titanic_data.Survived\n",
    "y.head()"
   ],
   "metadata": {
    "collapsed": false,
    "pycharm": {
     "name": "#%%\n",
     "is_executing": false
    }
   }
  },
  {
   "cell_type": "code",
   "execution_count": 6,
   "outputs": [
    {
     "data": {
      "text/plain": "   Pclass   Age  SibSp  Parch     Fare  Sex_female  Sex_male  Embarked_C  \\\n0       3  22.0      1      0   7.2500           0         1           0   \n1       1  38.0      1      0  71.2833           1         0           1   \n2       3  26.0      0      0   7.9250           1         0           0   \n3       1  35.0      1      0  53.1000           1         0           0   \n4       3  35.0      0      0   8.0500           0         1           0   \n\n   Embarked_Q  Embarked_S  \n0           0           1  \n1           0           0  \n2           0           1  \n3           0           1  \n4           0           1  ",
      "text/html": "<div>\n<style scoped>\n    .dataframe tbody tr th:only-of-type {\n        vertical-align: middle;\n    }\n\n    .dataframe tbody tr th {\n        vertical-align: top;\n    }\n\n    .dataframe thead th {\n        text-align: right;\n    }\n</style>\n<table border=\"1\" class=\"dataframe\">\n  <thead>\n    <tr style=\"text-align: right;\">\n      <th></th>\n      <th>Pclass</th>\n      <th>Age</th>\n      <th>SibSp</th>\n      <th>Parch</th>\n      <th>Fare</th>\n      <th>Sex_female</th>\n      <th>Sex_male</th>\n      <th>Embarked_C</th>\n      <th>Embarked_Q</th>\n      <th>Embarked_S</th>\n    </tr>\n  </thead>\n  <tbody>\n    <tr>\n      <th>0</th>\n      <td>3</td>\n      <td>22.0</td>\n      <td>1</td>\n      <td>0</td>\n      <td>7.2500</td>\n      <td>0</td>\n      <td>1</td>\n      <td>0</td>\n      <td>0</td>\n      <td>1</td>\n    </tr>\n    <tr>\n      <th>1</th>\n      <td>1</td>\n      <td>38.0</td>\n      <td>1</td>\n      <td>0</td>\n      <td>71.2833</td>\n      <td>1</td>\n      <td>0</td>\n      <td>1</td>\n      <td>0</td>\n      <td>0</td>\n    </tr>\n    <tr>\n      <th>2</th>\n      <td>3</td>\n      <td>26.0</td>\n      <td>0</td>\n      <td>0</td>\n      <td>7.9250</td>\n      <td>1</td>\n      <td>0</td>\n      <td>0</td>\n      <td>0</td>\n      <td>1</td>\n    </tr>\n    <tr>\n      <th>3</th>\n      <td>1</td>\n      <td>35.0</td>\n      <td>1</td>\n      <td>0</td>\n      <td>53.1000</td>\n      <td>1</td>\n      <td>0</td>\n      <td>0</td>\n      <td>0</td>\n      <td>1</td>\n    </tr>\n    <tr>\n      <th>4</th>\n      <td>3</td>\n      <td>35.0</td>\n      <td>0</td>\n      <td>0</td>\n      <td>8.0500</td>\n      <td>0</td>\n      <td>1</td>\n      <td>0</td>\n      <td>0</td>\n      <td>1</td>\n    </tr>\n  </tbody>\n</table>\n</div>"
     },
     "metadata": {},
     "output_type": "execute_result",
     "execution_count": 6
    }
   ],
   "source": [
    "X = pd.get_dummies(X)\n",
    "X = X.fillna({'Age': X.Age.median()})\n",
    "X.head()"
   ],
   "metadata": {
    "collapsed": false,
    "pycharm": {
     "name": "#%%\n",
     "is_executing": false
    }
   }
  },
  {
   "cell_type": "code",
   "execution_count": 7,
   "outputs": [
    {
     "data": {
      "text/plain": "     Pclass   Age  SibSp  Parch     Fare  Sex_female  Sex_male  Embarked_C  \\\n6         1  54.0      0      0  51.8625           0         1           0   \n718       3  28.0      0      0  15.5000           0         1           0   \n685       2  25.0      1      2  41.5792           0         1           1   \n73        3  26.0      1      0  14.4542           0         1           1   \n882       3  22.0      0      0  10.5167           1         0           0   \n\n     Embarked_Q  Embarked_S  \n6             0           1  \n718           1           0  \n685           0           0  \n73            0           0  \n882           0           1  ",
      "text/html": "<div>\n<style scoped>\n    .dataframe tbody tr th:only-of-type {\n        vertical-align: middle;\n    }\n\n    .dataframe tbody tr th {\n        vertical-align: top;\n    }\n\n    .dataframe thead th {\n        text-align: right;\n    }\n</style>\n<table border=\"1\" class=\"dataframe\">\n  <thead>\n    <tr style=\"text-align: right;\">\n      <th></th>\n      <th>Pclass</th>\n      <th>Age</th>\n      <th>SibSp</th>\n      <th>Parch</th>\n      <th>Fare</th>\n      <th>Sex_female</th>\n      <th>Sex_male</th>\n      <th>Embarked_C</th>\n      <th>Embarked_Q</th>\n      <th>Embarked_S</th>\n    </tr>\n  </thead>\n  <tbody>\n    <tr>\n      <th>6</th>\n      <td>1</td>\n      <td>54.0</td>\n      <td>0</td>\n      <td>0</td>\n      <td>51.8625</td>\n      <td>0</td>\n      <td>1</td>\n      <td>0</td>\n      <td>0</td>\n      <td>1</td>\n    </tr>\n    <tr>\n      <th>718</th>\n      <td>3</td>\n      <td>28.0</td>\n      <td>0</td>\n      <td>0</td>\n      <td>15.5000</td>\n      <td>0</td>\n      <td>1</td>\n      <td>0</td>\n      <td>1</td>\n      <td>0</td>\n    </tr>\n    <tr>\n      <th>685</th>\n      <td>2</td>\n      <td>25.0</td>\n      <td>1</td>\n      <td>2</td>\n      <td>41.5792</td>\n      <td>0</td>\n      <td>1</td>\n      <td>1</td>\n      <td>0</td>\n      <td>0</td>\n    </tr>\n    <tr>\n      <th>73</th>\n      <td>3</td>\n      <td>26.0</td>\n      <td>1</td>\n      <td>0</td>\n      <td>14.4542</td>\n      <td>0</td>\n      <td>1</td>\n      <td>1</td>\n      <td>0</td>\n      <td>0</td>\n    </tr>\n    <tr>\n      <th>882</th>\n      <td>3</td>\n      <td>22.0</td>\n      <td>0</td>\n      <td>0</td>\n      <td>10.5167</td>\n      <td>1</td>\n      <td>0</td>\n      <td>0</td>\n      <td>0</td>\n      <td>1</td>\n    </tr>\n  </tbody>\n</table>\n</div>"
     },
     "metadata": {},
     "output_type": "execute_result",
     "execution_count": 7
    }
   ],
   "source": [
    "X_train, X_test, y_train, y_test = train_test_split(X, y, test_size=0.33, random_state=42)\n",
    "X_train.head()"
   ],
   "metadata": {
    "collapsed": false,
    "pycharm": {
     "name": "#%%\n",
     "is_executing": false
    }
   }
  },
  {
   "cell_type": "markdown",
   "source": [
    "Создадим опять дерево и обучим его"
   ],
   "metadata": {
    "collapsed": false,
    "pycharm": {
     "name": "#%% md\n"
    }
   }
  },
  {
   "cell_type": "code",
   "execution_count": 8,
   "outputs": [
    {
     "data": {
      "text/plain": "DecisionTreeClassifier(ccp_alpha=0.0, class_weight=None, criterion='entropy',\n                       max_depth=3, max_features=None, max_leaf_nodes=None,\n                       min_impurity_decrease=0.0, min_impurity_split=None,\n                       min_samples_leaf=1, min_samples_split=2,\n                       min_weight_fraction_leaf=0.0, presort='deprecated',\n                       random_state=None, splitter='best')"
     },
     "metadata": {},
     "output_type": "execute_result",
     "execution_count": 8
    }
   ],
   "source": [
    "clf = tree.DecisionTreeClassifier(criterion='entropy', max_depth=3)\n",
    "clf.fit(X_train, y_train)"
   ],
   "metadata": {
    "collapsed": false,
    "pycharm": {
     "name": "#%%\n",
     "is_executing": false
    }
   }
  },
  {
   "cell_type": "code",
   "execution_count": 10,
   "outputs": [],
   "source": [
    "import os\n",
    "os.environ[\"PATH\"] += os.pathsep + \"C:\\\\Program Files (x86)\\\\graphviz2.38\\\\bin\" + os.pathsep + \"C:\\\\Program Files (x86)\\\\graphviz2.38\"\n",
    "from IPython.display import SVG\n",
    "from IPython.display import display\n",
    "from IPython.display import HTML\n",
    "from graphviz import Source"
   ],
   "metadata": {
    "collapsed": false,
    "pycharm": {
     "name": "#%%\n",
     "is_executing": false
    }
   }
  },
  {
   "cell_type": "code",
   "execution_count": 11,
   "outputs": [
    {
     "data": {
      "text/plain": "<IPython.core.display.SVG object>",
      "image/svg+xml": "<svg xmlns=\"http://www.w3.org/2000/svg\" xmlns:xlink=\"http://www.w3.org/1999/xlink\" width=\"980pt\" height=\"433pt\" viewBox=\"0.00 0.00 980.00 433.00\">\n<g id=\"graph0\" class=\"graph\" transform=\"scale(1 1) rotate(0) translate(4 429)\">\n<title>Tree</title>\n<polygon fill=\"white\" stroke=\"none\" points=\"-4,4 -4,-429 976,-429 976,4 -4,4\"/>\n<!-- 0 -->\n<g id=\"node1\" class=\"node\"><title>0</title>\n<polygon fill=\"#f4ccaf\" stroke=\"black\" points=\"533,-425 415,-425 415,-342 533,-342 533,-425\"/>\n<text text-anchor=\"middle\" x=\"474\" y=\"-409.8\" font-family=\"Times New Roman,serif\" font-size=\"14.00\">Sex_male &lt;= 0.5</text>\n<text text-anchor=\"middle\" x=\"474\" y=\"-394.8\" font-family=\"Times New Roman,serif\" font-size=\"14.00\">entropy = 0.953</text>\n<text text-anchor=\"middle\" x=\"474\" y=\"-379.8\" font-family=\"Times New Roman,serif\" font-size=\"14.00\">samples = 596</text>\n<text text-anchor=\"middle\" x=\"474\" y=\"-364.8\" font-family=\"Times New Roman,serif\" font-size=\"14.00\">value = [374, 222]</text>\n<text text-anchor=\"middle\" x=\"474\" y=\"-349.8\" font-family=\"Times New Roman,serif\" font-size=\"14.00\">class = Died</text>\n</g>\n<!-- 1 -->\n<g id=\"node2\" class=\"node\"><title>1</title>\n<polygon fill=\"#85c2ef\" stroke=\"black\" points=\"406.5,-306 295.5,-306 295.5,-223 406.5,-223 406.5,-306\"/>\n<text text-anchor=\"middle\" x=\"351\" y=\"-290.8\" font-family=\"Times New Roman,serif\" font-size=\"14.00\">Pclass &lt;= 2.5</text>\n<text text-anchor=\"middle\" x=\"351\" y=\"-275.8\" font-family=\"Times New Roman,serif\" font-size=\"14.00\">entropy = 0.851</text>\n<text text-anchor=\"middle\" x=\"351\" y=\"-260.8\" font-family=\"Times New Roman,serif\" font-size=\"14.00\">samples = 206</text>\n<text text-anchor=\"middle\" x=\"351\" y=\"-245.8\" font-family=\"Times New Roman,serif\" font-size=\"14.00\">value = [57, 149]</text>\n<text text-anchor=\"middle\" x=\"351\" y=\"-230.8\" font-family=\"Times New Roman,serif\" font-size=\"14.00\">class = Survived</text>\n</g>\n<!-- 0&#45;&gt;1 -->\n<g id=\"edge1\" class=\"edge\"><title>0-&gt;1</title>\n<path fill=\"none\" stroke=\"black\" d=\"M431.326,-341.907C421.499,-332.56 410.963,-322.538 400.861,-312.929\"/>\n<polygon fill=\"black\" stroke=\"black\" points=\"403.257,-310.377 393.599,-306.021 398.432,-315.449 403.257,-310.377\"/>\n<text text-anchor=\"middle\" x=\"394.224\" y=\"-327.313\" font-family=\"Times New Roman,serif\" font-size=\"14.00\">True</text>\n</g>\n<!-- 8 -->\n<g id=\"node9\" class=\"node\"><title>8</title>\n<polygon fill=\"#eb9e67\" stroke=\"black\" points=\"656.5,-306 545.5,-306 545.5,-223 656.5,-223 656.5,-306\"/>\n<text text-anchor=\"middle\" x=\"601\" y=\"-290.8\" font-family=\"Times New Roman,serif\" font-size=\"14.00\">Age &lt;= 3.5</text>\n<text text-anchor=\"middle\" x=\"601\" y=\"-275.8\" font-family=\"Times New Roman,serif\" font-size=\"14.00\">entropy = 0.696</text>\n<text text-anchor=\"middle\" x=\"601\" y=\"-260.8\" font-family=\"Times New Roman,serif\" font-size=\"14.00\">samples = 390</text>\n<text text-anchor=\"middle\" x=\"601\" y=\"-245.8\" font-family=\"Times New Roman,serif\" font-size=\"14.00\">value = [317, 73]</text>\n<text text-anchor=\"middle\" x=\"601\" y=\"-230.8\" font-family=\"Times New Roman,serif\" font-size=\"14.00\">class = Died</text>\n</g>\n<!-- 0&#45;&gt;8 -->\n<g id=\"edge8\" class=\"edge\"><title>0-&gt;8</title>\n<path fill=\"none\" stroke=\"black\" d=\"M518.062,-341.907C528.208,-332.56 539.087,-322.538 549.517,-312.929\"/>\n<polygon fill=\"black\" stroke=\"black\" points=\"552.033,-315.371 557.016,-306.021 547.29,-310.222 552.033,-315.371\"/>\n<text text-anchor=\"middle\" x=\"555.992\" y=\"-327.3\" font-family=\"Times New Roman,serif\" font-size=\"14.00\">False</text>\n</g>\n<!-- 2 -->\n<g id=\"node3\" class=\"node\"><title>2</title>\n<polygon fill=\"#41a1e6\" stroke=\"black\" points=\"220,-187 110,-187 110,-104 220,-104 220,-187\"/>\n<text text-anchor=\"middle\" x=\"165\" y=\"-171.8\" font-family=\"Times New Roman,serif\" font-size=\"14.00\">Age &lt;= 2.5</text>\n<text text-anchor=\"middle\" x=\"165\" y=\"-156.8\" font-family=\"Times New Roman,serif\" font-size=\"14.00\">entropy = 0.23</text>\n<text text-anchor=\"middle\" x=\"165\" y=\"-141.8\" font-family=\"Times New Roman,serif\" font-size=\"14.00\">samples = 107</text>\n<text text-anchor=\"middle\" x=\"165\" y=\"-126.8\" font-family=\"Times New Roman,serif\" font-size=\"14.00\">value = [4, 103]</text>\n<text text-anchor=\"middle\" x=\"165\" y=\"-111.8\" font-family=\"Times New Roman,serif\" font-size=\"14.00\">class = Survived</text>\n</g>\n<!-- 1&#45;&gt;2 -->\n<g id=\"edge2\" class=\"edge\"><title>1-&gt;2</title>\n<path fill=\"none\" stroke=\"black\" d=\"M295.446,-228.555C274.466,-215.358 250.435,-200.241 228.762,-186.608\"/>\n<polygon fill=\"black\" stroke=\"black\" points=\"230.596,-183.627 220.268,-181.265 226.869,-189.553 230.596,-183.627\"/>\n</g>\n<!-- 5 -->\n<g id=\"node6\" class=\"node\"><title>5</title>\n<polygon fill=\"#fceee5\" stroke=\"black\" points=\"404,-187 298,-187 298,-104 404,-104 404,-187\"/>\n<text text-anchor=\"middle\" x=\"351\" y=\"-171.8\" font-family=\"Times New Roman,serif\" font-size=\"14.00\">Fare &lt;= 23.35</text>\n<text text-anchor=\"middle\" x=\"351\" y=\"-156.8\" font-family=\"Times New Roman,serif\" font-size=\"14.00\">entropy = 0.996</text>\n<text text-anchor=\"middle\" x=\"351\" y=\"-141.8\" font-family=\"Times New Roman,serif\" font-size=\"14.00\">samples = 99</text>\n<text text-anchor=\"middle\" x=\"351\" y=\"-126.8\" font-family=\"Times New Roman,serif\" font-size=\"14.00\">value = [53, 46]</text>\n<text text-anchor=\"middle\" x=\"351\" y=\"-111.8\" font-family=\"Times New Roman,serif\" font-size=\"14.00\">class = Died</text>\n</g>\n<!-- 1&#45;&gt;5 -->\n<g id=\"edge5\" class=\"edge\"><title>1-&gt;5</title>\n<path fill=\"none\" stroke=\"black\" d=\"M351,-222.907C351,-214.649 351,-205.864 351,-197.302\"/>\n<polygon fill=\"black\" stroke=\"black\" points=\"354.5,-197.021 351,-187.021 347.5,-197.021 354.5,-197.021\"/>\n</g>\n<!-- 3 -->\n<g id=\"node4\" class=\"node\"><title>3</title>\n<polygon fill=\"#ffffff\" stroke=\"black\" points=\"92,-68 0,-68 0,-0 92,-0 92,-68\"/>\n<text text-anchor=\"middle\" x=\"46\" y=\"-52.8\" font-family=\"Times New Roman,serif\" font-size=\"14.00\">entropy = 1.0</text>\n<text text-anchor=\"middle\" x=\"46\" y=\"-37.8\" font-family=\"Times New Roman,serif\" font-size=\"14.00\">samples = 2</text>\n<text text-anchor=\"middle\" x=\"46\" y=\"-22.8\" font-family=\"Times New Roman,serif\" font-size=\"14.00\">value = [1, 1]</text>\n<text text-anchor=\"middle\" x=\"46\" y=\"-7.8\" font-family=\"Times New Roman,serif\" font-size=\"14.00\">class = Died</text>\n</g>\n<!-- 2&#45;&gt;3 -->\n<g id=\"edge3\" class=\"edge\"><title>2-&gt;3</title>\n<path fill=\"none\" stroke=\"black\" d=\"M120.689,-103.726C110.578,-94.423 99.841,-84.5428 89.7541,-75.2612\"/>\n<polygon fill=\"black\" stroke=\"black\" points=\"91.9173,-72.4953 82.1886,-68.2996 87.1774,-77.6464 91.9173,-72.4953\"/>\n</g>\n<!-- 4 -->\n<g id=\"node5\" class=\"node\"><title>4</title>\n<polygon fill=\"#3fa0e6\" stroke=\"black\" points=\"220,-68 110,-68 110,-0 220,-0 220,-68\"/>\n<text text-anchor=\"middle\" x=\"165\" y=\"-52.8\" font-family=\"Times New Roman,serif\" font-size=\"14.00\">entropy = 0.187</text>\n<text text-anchor=\"middle\" x=\"165\" y=\"-37.8\" font-family=\"Times New Roman,serif\" font-size=\"14.00\">samples = 105</text>\n<text text-anchor=\"middle\" x=\"165\" y=\"-22.8\" font-family=\"Times New Roman,serif\" font-size=\"14.00\">value = [3, 102]</text>\n<text text-anchor=\"middle\" x=\"165\" y=\"-7.8\" font-family=\"Times New Roman,serif\" font-size=\"14.00\">class = Survived</text>\n</g>\n<!-- 2&#45;&gt;4 -->\n<g id=\"edge4\" class=\"edge\"><title>2-&gt;4</title>\n<path fill=\"none\" stroke=\"black\" d=\"M165,-103.726C165,-95.5175 165,-86.8595 165,-78.56\"/>\n<polygon fill=\"black\" stroke=\"black\" points=\"168.5,-78.2996 165,-68.2996 161.5,-78.2996 168.5,-78.2996\"/>\n</g>\n<!-- 6 -->\n<g id=\"node7\" class=\"node\"><title>6</title>\n<polygon fill=\"#d7ebfa\" stroke=\"black\" points=\"348,-68 238,-68 238,-0 348,-0 348,-68\"/>\n<text text-anchor=\"middle\" x=\"293\" y=\"-52.8\" font-family=\"Times New Roman,serif\" font-size=\"14.00\">entropy = 0.991</text>\n<text text-anchor=\"middle\" x=\"293\" y=\"-37.8\" font-family=\"Times New Roman,serif\" font-size=\"14.00\">samples = 81</text>\n<text text-anchor=\"middle\" x=\"293\" y=\"-22.8\" font-family=\"Times New Roman,serif\" font-size=\"14.00\">value = [36, 45]</text>\n<text text-anchor=\"middle\" x=\"293\" y=\"-7.8\" font-family=\"Times New Roman,serif\" font-size=\"14.00\">class = Survived</text>\n</g>\n<!-- 5&#45;&gt;6 -->\n<g id=\"edge6\" class=\"edge\"><title>5-&gt;6</title>\n<path fill=\"none\" stroke=\"black\" d=\"M329.403,-103.726C324.813,-95.0615 319.959,-85.8962 315.342,-77.1802\"/>\n<polygon fill=\"black\" stroke=\"black\" points=\"318.412,-75.4982 310.638,-68.2996 312.226,-78.7748 318.412,-75.4982\"/>\n</g>\n<!-- 7 -->\n<g id=\"node8\" class=\"node\"><title>7</title>\n<polygon fill=\"#e78845\" stroke=\"black\" points=\"465.5,-68 366.5,-68 366.5,-0 465.5,-0 465.5,-68\"/>\n<text text-anchor=\"middle\" x=\"416\" y=\"-52.8\" font-family=\"Times New Roman,serif\" font-size=\"14.00\">entropy = 0.31</text>\n<text text-anchor=\"middle\" x=\"416\" y=\"-37.8\" font-family=\"Times New Roman,serif\" font-size=\"14.00\">samples = 18</text>\n<text text-anchor=\"middle\" x=\"416\" y=\"-22.8\" font-family=\"Times New Roman,serif\" font-size=\"14.00\">value = [17, 1]</text>\n<text text-anchor=\"middle\" x=\"416\" y=\"-7.8\" font-family=\"Times New Roman,serif\" font-size=\"14.00\">class = Died</text>\n</g>\n<!-- 5&#45;&gt;7 -->\n<g id=\"edge7\" class=\"edge\"><title>5-&gt;7</title>\n<path fill=\"none\" stroke=\"black\" d=\"M375.204,-103.726C380.401,-94.9703 385.902,-85.7032 391.125,-76.9051\"/>\n<polygon fill=\"black\" stroke=\"black\" points=\"394.138,-78.6853 396.233,-68.2996 388.119,-75.1121 394.138,-78.6853\"/>\n</g>\n<!-- 9 -->\n<g id=\"node10\" class=\"node\"><title>9</title>\n<polygon fill=\"#74baed\" stroke=\"black\" points=\"656,-187 546,-187 546,-104 656,-104 656,-187\"/>\n<text text-anchor=\"middle\" x=\"601\" y=\"-171.8\" font-family=\"Times New Roman,serif\" font-size=\"14.00\">SibSp &lt;= 3.0</text>\n<text text-anchor=\"middle\" x=\"601\" y=\"-156.8\" font-family=\"Times New Roman,serif\" font-size=\"14.00\">entropy = 0.779</text>\n<text text-anchor=\"middle\" x=\"601\" y=\"-141.8\" font-family=\"Times New Roman,serif\" font-size=\"14.00\">samples = 13</text>\n<text text-anchor=\"middle\" x=\"601\" y=\"-126.8\" font-family=\"Times New Roman,serif\" font-size=\"14.00\">value = [3, 10]</text>\n<text text-anchor=\"middle\" x=\"601\" y=\"-111.8\" font-family=\"Times New Roman,serif\" font-size=\"14.00\">class = Survived</text>\n</g>\n<!-- 8&#45;&gt;9 -->\n<g id=\"edge9\" class=\"edge\"><title>8-&gt;9</title>\n<path fill=\"none\" stroke=\"black\" d=\"M601,-222.907C601,-214.649 601,-205.864 601,-197.302\"/>\n<polygon fill=\"black\" stroke=\"black\" points=\"604.5,-197.021 601,-187.021 597.5,-197.021 604.5,-197.021\"/>\n</g>\n<!-- 12 -->\n<g id=\"node13\" class=\"node\"><title>12</title>\n<polygon fill=\"#ea9a61\" stroke=\"black\" points=\"847.5,-187 736.5,-187 736.5,-104 847.5,-104 847.5,-187\"/>\n<text text-anchor=\"middle\" x=\"792\" y=\"-171.8\" font-family=\"Times New Roman,serif\" font-size=\"14.00\">Fare &lt;= 52.277</text>\n<text text-anchor=\"middle\" x=\"792\" y=\"-156.8\" font-family=\"Times New Roman,serif\" font-size=\"14.00\">entropy = 0.651</text>\n<text text-anchor=\"middle\" x=\"792\" y=\"-141.8\" font-family=\"Times New Roman,serif\" font-size=\"14.00\">samples = 377</text>\n<text text-anchor=\"middle\" x=\"792\" y=\"-126.8\" font-family=\"Times New Roman,serif\" font-size=\"14.00\">value = [314, 63]</text>\n<text text-anchor=\"middle\" x=\"792\" y=\"-111.8\" font-family=\"Times New Roman,serif\" font-size=\"14.00\">class = Died</text>\n</g>\n<!-- 8&#45;&gt;12 -->\n<g id=\"edge12\" class=\"edge\"><title>8-&gt;12</title>\n<path fill=\"none\" stroke=\"black\" d=\"M656.502,-229.502C678.77,-215.861 704.579,-200.051 727.66,-185.912\"/>\n<polygon fill=\"black\" stroke=\"black\" points=\"729.661,-188.791 736.36,-180.583 726.004,-182.822 729.661,-188.791\"/>\n</g>\n<!-- 10 -->\n<g id=\"node11\" class=\"node\"><title>10</title>\n<polygon fill=\"#399de5\" stroke=\"black\" points=\"594,-68 484,-68 484,-0 594,-0 594,-68\"/>\n<text text-anchor=\"middle\" x=\"539\" y=\"-52.8\" font-family=\"Times New Roman,serif\" font-size=\"14.00\">entropy = 0.0</text>\n<text text-anchor=\"middle\" x=\"539\" y=\"-37.8\" font-family=\"Times New Roman,serif\" font-size=\"14.00\">samples = 9</text>\n<text text-anchor=\"middle\" x=\"539\" y=\"-22.8\" font-family=\"Times New Roman,serif\" font-size=\"14.00\">value = [0, 9]</text>\n<text text-anchor=\"middle\" x=\"539\" y=\"-7.8\" font-family=\"Times New Roman,serif\" font-size=\"14.00\">class = Survived</text>\n</g>\n<!-- 9&#45;&gt;10 -->\n<g id=\"edge10\" class=\"edge\"><title>9-&gt;10</title>\n<path fill=\"none\" stroke=\"black\" d=\"M577.913,-103.726C573.007,-95.0615 567.818,-85.8962 562.883,-77.1802\"/>\n<polygon fill=\"black\" stroke=\"black\" points=\"565.827,-75.277 557.855,-68.2996 559.736,-78.726 565.827,-75.277\"/>\n</g>\n<!-- 11 -->\n<g id=\"node12\" class=\"node\"><title>11</title>\n<polygon fill=\"#eeab7b\" stroke=\"black\" points=\"718,-68 612,-68 612,-0 718,-0 718,-68\"/>\n<text text-anchor=\"middle\" x=\"665\" y=\"-52.8\" font-family=\"Times New Roman,serif\" font-size=\"14.00\">entropy = 0.811</text>\n<text text-anchor=\"middle\" x=\"665\" y=\"-37.8\" font-family=\"Times New Roman,serif\" font-size=\"14.00\">samples = 4</text>\n<text text-anchor=\"middle\" x=\"665\" y=\"-22.8\" font-family=\"Times New Roman,serif\" font-size=\"14.00\">value = [3, 1]</text>\n<text text-anchor=\"middle\" x=\"665\" y=\"-7.8\" font-family=\"Times New Roman,serif\" font-size=\"14.00\">class = Died</text>\n</g>\n<!-- 9&#45;&gt;11 -->\n<g id=\"edge11\" class=\"edge\"><title>9-&gt;11</title>\n<path fill=\"none\" stroke=\"black\" d=\"M624.831,-103.726C629.896,-95.0615 635.252,-85.8962 640.347,-77.1802\"/>\n<polygon fill=\"black\" stroke=\"black\" points=\"643.513,-78.6992 645.537,-68.2996 637.469,-75.167 643.513,-78.6992\"/>\n</g>\n<!-- 13 -->\n<g id=\"node14\" class=\"node\"><title>13</title>\n<polygon fill=\"#e99559\" stroke=\"black\" points=\"847.5,-68 736.5,-68 736.5,-0 847.5,-0 847.5,-68\"/>\n<text text-anchor=\"middle\" x=\"792\" y=\"-52.8\" font-family=\"Times New Roman,serif\" font-size=\"14.00\">entropy = 0.58</text>\n<text text-anchor=\"middle\" x=\"792\" y=\"-37.8\" font-family=\"Times New Roman,serif\" font-size=\"14.00\">samples = 332</text>\n<text text-anchor=\"middle\" x=\"792\" y=\"-22.8\" font-family=\"Times New Roman,serif\" font-size=\"14.00\">value = [286, 46]</text>\n<text text-anchor=\"middle\" x=\"792\" y=\"-7.8\" font-family=\"Times New Roman,serif\" font-size=\"14.00\">class = Died</text>\n</g>\n<!-- 12&#45;&gt;13 -->\n<g id=\"edge13\" class=\"edge\"><title>12-&gt;13</title>\n<path fill=\"none\" stroke=\"black\" d=\"M792,-103.726C792,-95.5175 792,-86.8595 792,-78.56\"/>\n<polygon fill=\"black\" stroke=\"black\" points=\"795.5,-78.2996 792,-68.2996 788.5,-78.2996 795.5,-78.2996\"/>\n</g>\n<!-- 14 -->\n<g id=\"node15\" class=\"node\"><title>14</title>\n<polygon fill=\"#f5ceb1\" stroke=\"black\" points=\"972,-68 866,-68 866,-0 972,-0 972,-68\"/>\n<text text-anchor=\"middle\" x=\"919\" y=\"-52.8\" font-family=\"Times New Roman,serif\" font-size=\"14.00\">entropy = 0.956</text>\n<text text-anchor=\"middle\" x=\"919\" y=\"-37.8\" font-family=\"Times New Roman,serif\" font-size=\"14.00\">samples = 45</text>\n<text text-anchor=\"middle\" x=\"919\" y=\"-22.8\" font-family=\"Times New Roman,serif\" font-size=\"14.00\">value = [28, 17]</text>\n<text text-anchor=\"middle\" x=\"919\" y=\"-7.8\" font-family=\"Times New Roman,serif\" font-size=\"14.00\">class = Died</text>\n</g>\n<!-- 12&#45;&gt;14 -->\n<g id=\"edge14\" class=\"edge\"><title>12-&gt;14</title>\n<path fill=\"none\" stroke=\"black\" d=\"M839.29,-103.726C850.186,-94.3318 861.764,-84.349 872.621,-74.9883\"/>\n<polygon fill=\"black\" stroke=\"black\" points=\"875.09,-77.4804 880.379,-68.2996 870.519,-72.1789 875.09,-77.4804\"/>\n</g>\n</g>\n</svg>"
     },
     "metadata": {},
     "output_type": "display_data"
    }
   ],
   "source": [
    "graph = Source(tree.export_graphviz(clf, out_file=None, feature_names=list(X), \\\n",
    "                                    class_names=['Died', 'Survived'], filled=True))\n",
    "display(SVG(graph.pipe(format='svg')))"
   ],
   "metadata": {
    "collapsed": false,
    "pycharm": {
     "name": "#%%\n",
     "is_executing": false
    }
   }
  },
  {
   "cell_type": "markdown",
   "source": [
    "Применим другие параметры:\n",
    "* min_sample_split - минимально допустимый размер выборки, по котором можно спуститься вниз;"
   ],
   "metadata": {
    "collapsed": false,
    "pycharm": {
     "name": "#%% md\n"
    }
   }
  },
  {
   "cell_type": "code",
   "execution_count": 12,
   "outputs": [
    {
     "data": {
      "text/plain": "<IPython.core.display.SVG object>",
      "image/svg+xml": "<svg xmlns=\"http://www.w3.org/2000/svg\" xmlns:xlink=\"http://www.w3.org/1999/xlink\" width=\"500pt\" height=\"433pt\" viewBox=\"0.00 0.00 500.00 433.00\">\n<g id=\"graph0\" class=\"graph\" transform=\"scale(1 1) rotate(0) translate(4 429)\">\n<title>Tree</title>\n<polygon fill=\"white\" stroke=\"none\" points=\"-4,4 -4,-429 496,-429 496,4 -4,4\"/>\n<!-- 0 -->\n<g id=\"node1\" class=\"node\"><title>0</title>\n<polygon fill=\"#f4ccaf\" stroke=\"black\" points=\"309,-425 187,-425 187,-342 309,-342 309,-425\"/>\n<text text-anchor=\"middle\" x=\"248\" y=\"-409.8\" font-family=\"Times New Roman,serif\" font-size=\"14.00\">Sex_female &lt;= 0.5</text>\n<text text-anchor=\"middle\" x=\"248\" y=\"-394.8\" font-family=\"Times New Roman,serif\" font-size=\"14.00\">entropy = 0.953</text>\n<text text-anchor=\"middle\" x=\"248\" y=\"-379.8\" font-family=\"Times New Roman,serif\" font-size=\"14.00\">samples = 596</text>\n<text text-anchor=\"middle\" x=\"248\" y=\"-364.8\" font-family=\"Times New Roman,serif\" font-size=\"14.00\">value = [374, 222]</text>\n<text text-anchor=\"middle\" x=\"248\" y=\"-349.8\" font-family=\"Times New Roman,serif\" font-size=\"14.00\">class = Died</text>\n</g>\n<!-- 1 -->\n<g id=\"node2\" class=\"node\"><title>1</title>\n<polygon fill=\"#eb9e67\" stroke=\"black\" points=\"239.5,-306 128.5,-306 128.5,-223 239.5,-223 239.5,-306\"/>\n<text text-anchor=\"middle\" x=\"184\" y=\"-290.8\" font-family=\"Times New Roman,serif\" font-size=\"14.00\">Age &lt;= 3.5</text>\n<text text-anchor=\"middle\" x=\"184\" y=\"-275.8\" font-family=\"Times New Roman,serif\" font-size=\"14.00\">entropy = 0.696</text>\n<text text-anchor=\"middle\" x=\"184\" y=\"-260.8\" font-family=\"Times New Roman,serif\" font-size=\"14.00\">samples = 390</text>\n<text text-anchor=\"middle\" x=\"184\" y=\"-245.8\" font-family=\"Times New Roman,serif\" font-size=\"14.00\">value = [317, 73]</text>\n<text text-anchor=\"middle\" x=\"184\" y=\"-230.8\" font-family=\"Times New Roman,serif\" font-size=\"14.00\">class = Died</text>\n</g>\n<!-- 0&#45;&gt;1 -->\n<g id=\"edge1\" class=\"edge\"><title>0-&gt;1</title>\n<path fill=\"none\" stroke=\"black\" d=\"M225.796,-341.907C221.03,-333.195 215.944,-323.897 211.019,-314.893\"/>\n<polygon fill=\"black\" stroke=\"black\" points=\"214.035,-313.114 206.165,-306.021 207.894,-316.474 214.035,-313.114\"/>\n<text text-anchor=\"middle\" x=\"199.14\" y=\"-326.313\" font-family=\"Times New Roman,serif\" font-size=\"14.00\">True</text>\n</g>\n<!-- 6 -->\n<g id=\"node7\" class=\"node\"><title>6</title>\n<polygon fill=\"#85c2ef\" stroke=\"black\" points=\"368.5,-306 257.5,-306 257.5,-223 368.5,-223 368.5,-306\"/>\n<text text-anchor=\"middle\" x=\"313\" y=\"-290.8\" font-family=\"Times New Roman,serif\" font-size=\"14.00\">Pclass &lt;= 2.5</text>\n<text text-anchor=\"middle\" x=\"313\" y=\"-275.8\" font-family=\"Times New Roman,serif\" font-size=\"14.00\">entropy = 0.851</text>\n<text text-anchor=\"middle\" x=\"313\" y=\"-260.8\" font-family=\"Times New Roman,serif\" font-size=\"14.00\">samples = 206</text>\n<text text-anchor=\"middle\" x=\"313\" y=\"-245.8\" font-family=\"Times New Roman,serif\" font-size=\"14.00\">value = [57, 149]</text>\n<text text-anchor=\"middle\" x=\"313\" y=\"-230.8\" font-family=\"Times New Roman,serif\" font-size=\"14.00\">class = Survived</text>\n</g>\n<!-- 0&#45;&gt;6 -->\n<g id=\"edge6\" class=\"edge\"><title>0-&gt;6</title>\n<path fill=\"none\" stroke=\"black\" d=\"M270.551,-341.907C275.391,-333.195 280.557,-323.897 285.559,-314.893\"/>\n<polygon fill=\"black\" stroke=\"black\" points=\"288.692,-316.462 290.488,-306.021 282.572,-313.063 288.692,-316.462\"/>\n<text text-anchor=\"middle\" x=\"297.356\" y=\"-326.359\" font-family=\"Times New Roman,serif\" font-size=\"14.00\">False</text>\n</g>\n<!-- 2 -->\n<g id=\"node3\" class=\"node\"><title>2</title>\n<polygon fill=\"#74baed\" stroke=\"black\" points=\"110,-179.5 0,-179.5 0,-111.5 110,-111.5 110,-179.5\"/>\n<text text-anchor=\"middle\" x=\"55\" y=\"-164.3\" font-family=\"Times New Roman,serif\" font-size=\"14.00\">entropy = 0.779</text>\n<text text-anchor=\"middle\" x=\"55\" y=\"-149.3\" font-family=\"Times New Roman,serif\" font-size=\"14.00\">samples = 13</text>\n<text text-anchor=\"middle\" x=\"55\" y=\"-134.3\" font-family=\"Times New Roman,serif\" font-size=\"14.00\">value = [3, 10]</text>\n<text text-anchor=\"middle\" x=\"55\" y=\"-119.3\" font-family=\"Times New Roman,serif\" font-size=\"14.00\">class = Survived</text>\n</g>\n<!-- 1&#45;&gt;2 -->\n<g id=\"edge2\" class=\"edge\"><title>1-&gt;2</title>\n<path fill=\"none\" stroke=\"black\" d=\"M139.244,-222.907C126.226,-211.101 112.021,-198.217 99.0469,-186.45\"/>\n<polygon fill=\"black\" stroke=\"black\" points=\"101.327,-183.793 91.5687,-179.667 96.6245,-188.978 101.327,-183.793\"/>\n</g>\n<!-- 3 -->\n<g id=\"node4\" class=\"node\"><title>3</title>\n<polygon fill=\"#ea9a61\" stroke=\"black\" points=\"239.5,-187 128.5,-187 128.5,-104 239.5,-104 239.5,-187\"/>\n<text text-anchor=\"middle\" x=\"184\" y=\"-171.8\" font-family=\"Times New Roman,serif\" font-size=\"14.00\">Fare &lt;= 52.277</text>\n<text text-anchor=\"middle\" x=\"184\" y=\"-156.8\" font-family=\"Times New Roman,serif\" font-size=\"14.00\">entropy = 0.651</text>\n<text text-anchor=\"middle\" x=\"184\" y=\"-141.8\" font-family=\"Times New Roman,serif\" font-size=\"14.00\">samples = 377</text>\n<text text-anchor=\"middle\" x=\"184\" y=\"-126.8\" font-family=\"Times New Roman,serif\" font-size=\"14.00\">value = [314, 63]</text>\n<text text-anchor=\"middle\" x=\"184\" y=\"-111.8\" font-family=\"Times New Roman,serif\" font-size=\"14.00\">class = Died</text>\n</g>\n<!-- 1&#45;&gt;3 -->\n<g id=\"edge3\" class=\"edge\"><title>1-&gt;3</title>\n<path fill=\"none\" stroke=\"black\" d=\"M184,-222.907C184,-214.649 184,-205.864 184,-197.302\"/>\n<polygon fill=\"black\" stroke=\"black\" points=\"187.5,-197.021 184,-187.021 180.5,-197.021 187.5,-197.021\"/>\n</g>\n<!-- 4 -->\n<g id=\"node5\" class=\"node\"><title>4</title>\n<polygon fill=\"#e99559\" stroke=\"black\" points=\"115.5,-68 4.5,-68 4.5,-0 115.5,-0 115.5,-68\"/>\n<text text-anchor=\"middle\" x=\"60\" y=\"-52.8\" font-family=\"Times New Roman,serif\" font-size=\"14.00\">entropy = 0.58</text>\n<text text-anchor=\"middle\" x=\"60\" y=\"-37.8\" font-family=\"Times New Roman,serif\" font-size=\"14.00\">samples = 332</text>\n<text text-anchor=\"middle\" x=\"60\" y=\"-22.8\" font-family=\"Times New Roman,serif\" font-size=\"14.00\">value = [286, 46]</text>\n<text text-anchor=\"middle\" x=\"60\" y=\"-7.8\" font-family=\"Times New Roman,serif\" font-size=\"14.00\">class = Died</text>\n</g>\n<!-- 3&#45;&gt;4 -->\n<g id=\"edge4\" class=\"edge\"><title>3-&gt;4</title>\n<path fill=\"none\" stroke=\"black\" d=\"M137.827,-103.726C127.189,-94.3318 115.884,-84.349 105.284,-74.9883\"/>\n<polygon fill=\"black\" stroke=\"black\" points=\"107.522,-72.2953 97.7091,-68.2996 102.888,-77.5424 107.522,-72.2953\"/>\n</g>\n<!-- 5 -->\n<g id=\"node6\" class=\"node\"><title>5</title>\n<polygon fill=\"#f5ceb1\" stroke=\"black\" points=\"240,-68 134,-68 134,-0 240,-0 240,-68\"/>\n<text text-anchor=\"middle\" x=\"187\" y=\"-52.8\" font-family=\"Times New Roman,serif\" font-size=\"14.00\">entropy = 0.956</text>\n<text text-anchor=\"middle\" x=\"187\" y=\"-37.8\" font-family=\"Times New Roman,serif\" font-size=\"14.00\">samples = 45</text>\n<text text-anchor=\"middle\" x=\"187\" y=\"-22.8\" font-family=\"Times New Roman,serif\" font-size=\"14.00\">value = [28, 17]</text>\n<text text-anchor=\"middle\" x=\"187\" y=\"-7.8\" font-family=\"Times New Roman,serif\" font-size=\"14.00\">class = Died</text>\n</g>\n<!-- 3&#45;&gt;5 -->\n<g id=\"edge5\" class=\"edge\"><title>3-&gt;5</title>\n<path fill=\"none\" stroke=\"black\" d=\"M185.117,-103.726C185.342,-95.5175 185.579,-86.8595 185.807,-78.56\"/>\n<polygon fill=\"black\" stroke=\"black\" points=\"189.312,-78.3917 186.088,-68.2996 182.315,-78.2 189.312,-78.3917\"/>\n</g>\n<!-- 7 -->\n<g id=\"node8\" class=\"node\"><title>7</title>\n<polygon fill=\"#41a1e6\" stroke=\"black\" points=\"368,-187 258,-187 258,-104 368,-104 368,-187\"/>\n<text text-anchor=\"middle\" x=\"313\" y=\"-171.8\" font-family=\"Times New Roman,serif\" font-size=\"14.00\">Age &lt;= 2.5</text>\n<text text-anchor=\"middle\" x=\"313\" y=\"-156.8\" font-family=\"Times New Roman,serif\" font-size=\"14.00\">entropy = 0.23</text>\n<text text-anchor=\"middle\" x=\"313\" y=\"-141.8\" font-family=\"Times New Roman,serif\" font-size=\"14.00\">samples = 107</text>\n<text text-anchor=\"middle\" x=\"313\" y=\"-126.8\" font-family=\"Times New Roman,serif\" font-size=\"14.00\">value = [4, 103]</text>\n<text text-anchor=\"middle\" x=\"313\" y=\"-111.8\" font-family=\"Times New Roman,serif\" font-size=\"14.00\">class = Survived</text>\n</g>\n<!-- 6&#45;&gt;7 -->\n<g id=\"edge7\" class=\"edge\"><title>6-&gt;7</title>\n<path fill=\"none\" stroke=\"black\" d=\"M313,-222.907C313,-214.649 313,-205.864 313,-197.302\"/>\n<polygon fill=\"black\" stroke=\"black\" points=\"316.5,-197.021 313,-187.021 309.5,-197.021 316.5,-197.021\"/>\n</g>\n<!-- 10 -->\n<g id=\"node11\" class=\"node\"><title>10</title>\n<polygon fill=\"#fceee5\" stroke=\"black\" points=\"492,-179.5 386,-179.5 386,-111.5 492,-111.5 492,-179.5\"/>\n<text text-anchor=\"middle\" x=\"439\" y=\"-164.3\" font-family=\"Times New Roman,serif\" font-size=\"14.00\">entropy = 0.996</text>\n<text text-anchor=\"middle\" x=\"439\" y=\"-149.3\" font-family=\"Times New Roman,serif\" font-size=\"14.00\">samples = 99</text>\n<text text-anchor=\"middle\" x=\"439\" y=\"-134.3\" font-family=\"Times New Roman,serif\" font-size=\"14.00\">value = [53, 46]</text>\n<text text-anchor=\"middle\" x=\"439\" y=\"-119.3\" font-family=\"Times New Roman,serif\" font-size=\"14.00\">class = Died</text>\n</g>\n<!-- 6&#45;&gt;10 -->\n<g id=\"edge10\" class=\"edge\"><title>6-&gt;10</title>\n<path fill=\"none\" stroke=\"black\" d=\"M356.715,-222.907C369.311,-211.211 383.046,-198.457 395.622,-186.78\"/>\n<polygon fill=\"black\" stroke=\"black\" points=\"398.335,-189.036 403.282,-179.667 393.572,-183.907 398.335,-189.036\"/>\n</g>\n<!-- 8 -->\n<g id=\"node9\" class=\"node\"><title>8</title>\n<polygon fill=\"#ffffff\" stroke=\"black\" points=\"356,-68 264,-68 264,-0 356,-0 356,-68\"/>\n<text text-anchor=\"middle\" x=\"310\" y=\"-52.8\" font-family=\"Times New Roman,serif\" font-size=\"14.00\">entropy = 1.0</text>\n<text text-anchor=\"middle\" x=\"310\" y=\"-37.8\" font-family=\"Times New Roman,serif\" font-size=\"14.00\">samples = 2</text>\n<text text-anchor=\"middle\" x=\"310\" y=\"-22.8\" font-family=\"Times New Roman,serif\" font-size=\"14.00\">value = [1, 1]</text>\n<text text-anchor=\"middle\" x=\"310\" y=\"-7.8\" font-family=\"Times New Roman,serif\" font-size=\"14.00\">class = Died</text>\n</g>\n<!-- 7&#45;&gt;8 -->\n<g id=\"edge8\" class=\"edge\"><title>7-&gt;8</title>\n<path fill=\"none\" stroke=\"black\" d=\"M311.883,-103.726C311.658,-95.5175 311.421,-86.8595 311.193,-78.56\"/>\n<polygon fill=\"black\" stroke=\"black\" points=\"314.685,-78.2 310.912,-68.2996 307.688,-78.3917 314.685,-78.2\"/>\n</g>\n<!-- 9 -->\n<g id=\"node10\" class=\"node\"><title>9</title>\n<polygon fill=\"#3fa0e6\" stroke=\"black\" points=\"484,-68 374,-68 374,-0 484,-0 484,-68\"/>\n<text text-anchor=\"middle\" x=\"429\" y=\"-52.8\" font-family=\"Times New Roman,serif\" font-size=\"14.00\">entropy = 0.187</text>\n<text text-anchor=\"middle\" x=\"429\" y=\"-37.8\" font-family=\"Times New Roman,serif\" font-size=\"14.00\">samples = 105</text>\n<text text-anchor=\"middle\" x=\"429\" y=\"-22.8\" font-family=\"Times New Roman,serif\" font-size=\"14.00\">value = [3, 102]</text>\n<text text-anchor=\"middle\" x=\"429\" y=\"-7.8\" font-family=\"Times New Roman,serif\" font-size=\"14.00\">class = Survived</text>\n</g>\n<!-- 7&#45;&gt;9 -->\n<g id=\"edge9\" class=\"edge\"><title>7-&gt;9</title>\n<path fill=\"none\" stroke=\"black\" d=\"M356.194,-103.726C366.05,-94.423 376.516,-84.5428 386.349,-75.2612\"/>\n<polygon fill=\"black\" stroke=\"black\" points=\"388.854,-77.7092 393.724,-68.2996 384.049,-72.6189 388.854,-77.7092\"/>\n</g>\n</g>\n</svg>"
     },
     "metadata": {},
     "output_type": "display_data"
    }
   ],
   "source": [
    "clf = tree.DecisionTreeClassifier(criterion='entropy', max_depth=3, min_samples_split=100)\n",
    "clf.fit(X_train, y_train)\n",
    "graph = Source(tree.export_graphviz(clf, out_file=None, feature_names=list(X), \\\n",
    "                                    class_names=['Died', 'Survived'], filled=True))\n",
    "display(SVG(graph.pipe(format='svg')))"
   ],
   "metadata": {
    "collapsed": false,
    "pycharm": {
     "name": "#%%\n",
     "is_executing": false
    }
   }
  },
  {
   "cell_type": "markdown",
   "source": [
    "* min_sample_leaf - минимальный размер выборки для листа"
   ],
   "metadata": {
    "collapsed": false,
    "pycharm": {
     "name": "#%% md\n"
    }
   }
  },
  {
   "cell_type": "code",
   "execution_count": 13,
   "outputs": [
    {
     "data": {
      "text/plain": "<IPython.core.display.SVG object>",
      "image/svg+xml": "<svg xmlns=\"http://www.w3.org/2000/svg\" xmlns:xlink=\"http://www.w3.org/1999/xlink\" width=\"503pt\" height=\"433pt\" viewBox=\"0.00 0.00 503.00 433.00\">\n<g id=\"graph0\" class=\"graph\" transform=\"scale(1 1) rotate(0) translate(4 429)\">\n<title>Tree</title>\n<polygon fill=\"white\" stroke=\"none\" points=\"-4,4 -4,-429 499,-429 499,4 -4,4\"/>\n<!-- 0 -->\n<g id=\"node1\" class=\"node\"><title>0</title>\n<polygon fill=\"#f4ccaf\" stroke=\"black\" points=\"309,-425 187,-425 187,-342 309,-342 309,-425\"/>\n<text text-anchor=\"middle\" x=\"248\" y=\"-409.8\" font-family=\"Times New Roman,serif\" font-size=\"14.00\">Sex_female &lt;= 0.5</text>\n<text text-anchor=\"middle\" x=\"248\" y=\"-394.8\" font-family=\"Times New Roman,serif\" font-size=\"14.00\">entropy = 0.953</text>\n<text text-anchor=\"middle\" x=\"248\" y=\"-379.8\" font-family=\"Times New Roman,serif\" font-size=\"14.00\">samples = 596</text>\n<text text-anchor=\"middle\" x=\"248\" y=\"-364.8\" font-family=\"Times New Roman,serif\" font-size=\"14.00\">value = [374, 222]</text>\n<text text-anchor=\"middle\" x=\"248\" y=\"-349.8\" font-family=\"Times New Roman,serif\" font-size=\"14.00\">class = Died</text>\n</g>\n<!-- 1 -->\n<g id=\"node2\" class=\"node\"><title>1</title>\n<polygon fill=\"#eb9e67\" stroke=\"black\" points=\"239.5,-306 128.5,-306 128.5,-223 239.5,-223 239.5,-306\"/>\n<text text-anchor=\"middle\" x=\"184\" y=\"-290.8\" font-family=\"Times New Roman,serif\" font-size=\"14.00\">Age &lt;= 3.5</text>\n<text text-anchor=\"middle\" x=\"184\" y=\"-275.8\" font-family=\"Times New Roman,serif\" font-size=\"14.00\">entropy = 0.696</text>\n<text text-anchor=\"middle\" x=\"184\" y=\"-260.8\" font-family=\"Times New Roman,serif\" font-size=\"14.00\">samples = 390</text>\n<text text-anchor=\"middle\" x=\"184\" y=\"-245.8\" font-family=\"Times New Roman,serif\" font-size=\"14.00\">value = [317, 73]</text>\n<text text-anchor=\"middle\" x=\"184\" y=\"-230.8\" font-family=\"Times New Roman,serif\" font-size=\"14.00\">class = Died</text>\n</g>\n<!-- 0&#45;&gt;1 -->\n<g id=\"edge1\" class=\"edge\"><title>0-&gt;1</title>\n<path fill=\"none\" stroke=\"black\" d=\"M225.796,-341.907C221.03,-333.195 215.944,-323.897 211.019,-314.893\"/>\n<polygon fill=\"black\" stroke=\"black\" points=\"214.035,-313.114 206.165,-306.021 207.894,-316.474 214.035,-313.114\"/>\n<text text-anchor=\"middle\" x=\"199.14\" y=\"-326.313\" font-family=\"Times New Roman,serif\" font-size=\"14.00\">True</text>\n</g>\n<!-- 6 -->\n<g id=\"node7\" class=\"node\"><title>6</title>\n<polygon fill=\"#85c2ef\" stroke=\"black\" points=\"368.5,-306 257.5,-306 257.5,-223 368.5,-223 368.5,-306\"/>\n<text text-anchor=\"middle\" x=\"313\" y=\"-290.8\" font-family=\"Times New Roman,serif\" font-size=\"14.00\">Pclass &lt;= 2.5</text>\n<text text-anchor=\"middle\" x=\"313\" y=\"-275.8\" font-family=\"Times New Roman,serif\" font-size=\"14.00\">entropy = 0.851</text>\n<text text-anchor=\"middle\" x=\"313\" y=\"-260.8\" font-family=\"Times New Roman,serif\" font-size=\"14.00\">samples = 206</text>\n<text text-anchor=\"middle\" x=\"313\" y=\"-245.8\" font-family=\"Times New Roman,serif\" font-size=\"14.00\">value = [57, 149]</text>\n<text text-anchor=\"middle\" x=\"313\" y=\"-230.8\" font-family=\"Times New Roman,serif\" font-size=\"14.00\">class = Survived</text>\n</g>\n<!-- 0&#45;&gt;6 -->\n<g id=\"edge6\" class=\"edge\"><title>0-&gt;6</title>\n<path fill=\"none\" stroke=\"black\" d=\"M270.551,-341.907C275.391,-333.195 280.557,-323.897 285.559,-314.893\"/>\n<polygon fill=\"black\" stroke=\"black\" points=\"288.692,-316.462 290.488,-306.021 282.572,-313.063 288.692,-316.462\"/>\n<text text-anchor=\"middle\" x=\"297.356\" y=\"-326.359\" font-family=\"Times New Roman,serif\" font-size=\"14.00\">False</text>\n</g>\n<!-- 2 -->\n<g id=\"node3\" class=\"node\"><title>2</title>\n<polygon fill=\"#74baed\" stroke=\"black\" points=\"110,-179.5 0,-179.5 0,-111.5 110,-111.5 110,-179.5\"/>\n<text text-anchor=\"middle\" x=\"55\" y=\"-164.3\" font-family=\"Times New Roman,serif\" font-size=\"14.00\">entropy = 0.779</text>\n<text text-anchor=\"middle\" x=\"55\" y=\"-149.3\" font-family=\"Times New Roman,serif\" font-size=\"14.00\">samples = 13</text>\n<text text-anchor=\"middle\" x=\"55\" y=\"-134.3\" font-family=\"Times New Roman,serif\" font-size=\"14.00\">value = [3, 10]</text>\n<text text-anchor=\"middle\" x=\"55\" y=\"-119.3\" font-family=\"Times New Roman,serif\" font-size=\"14.00\">class = Survived</text>\n</g>\n<!-- 1&#45;&gt;2 -->\n<g id=\"edge2\" class=\"edge\"><title>1-&gt;2</title>\n<path fill=\"none\" stroke=\"black\" d=\"M139.244,-222.907C126.226,-211.101 112.021,-198.217 99.0469,-186.45\"/>\n<polygon fill=\"black\" stroke=\"black\" points=\"101.327,-183.793 91.5687,-179.667 96.6245,-188.978 101.327,-183.793\"/>\n</g>\n<!-- 3 -->\n<g id=\"node4\" class=\"node\"><title>3</title>\n<polygon fill=\"#ea9a61\" stroke=\"black\" points=\"239.5,-187 128.5,-187 128.5,-104 239.5,-104 239.5,-187\"/>\n<text text-anchor=\"middle\" x=\"184\" y=\"-171.8\" font-family=\"Times New Roman,serif\" font-size=\"14.00\">Fare &lt;= 52.277</text>\n<text text-anchor=\"middle\" x=\"184\" y=\"-156.8\" font-family=\"Times New Roman,serif\" font-size=\"14.00\">entropy = 0.651</text>\n<text text-anchor=\"middle\" x=\"184\" y=\"-141.8\" font-family=\"Times New Roman,serif\" font-size=\"14.00\">samples = 377</text>\n<text text-anchor=\"middle\" x=\"184\" y=\"-126.8\" font-family=\"Times New Roman,serif\" font-size=\"14.00\">value = [314, 63]</text>\n<text text-anchor=\"middle\" x=\"184\" y=\"-111.8\" font-family=\"Times New Roman,serif\" font-size=\"14.00\">class = Died</text>\n</g>\n<!-- 1&#45;&gt;3 -->\n<g id=\"edge3\" class=\"edge\"><title>1-&gt;3</title>\n<path fill=\"none\" stroke=\"black\" d=\"M184,-222.907C184,-214.649 184,-205.864 184,-197.302\"/>\n<polygon fill=\"black\" stroke=\"black\" points=\"187.5,-197.021 184,-187.021 180.5,-197.021 187.5,-197.021\"/>\n</g>\n<!-- 4 -->\n<g id=\"node5\" class=\"node\"><title>4</title>\n<polygon fill=\"#e99559\" stroke=\"black\" points=\"113.5,-68 2.5,-68 2.5,-0 113.5,-0 113.5,-68\"/>\n<text text-anchor=\"middle\" x=\"58\" y=\"-52.8\" font-family=\"Times New Roman,serif\" font-size=\"14.00\">entropy = 0.58</text>\n<text text-anchor=\"middle\" x=\"58\" y=\"-37.8\" font-family=\"Times New Roman,serif\" font-size=\"14.00\">samples = 332</text>\n<text text-anchor=\"middle\" x=\"58\" y=\"-22.8\" font-family=\"Times New Roman,serif\" font-size=\"14.00\">value = [286, 46]</text>\n<text text-anchor=\"middle\" x=\"58\" y=\"-7.8\" font-family=\"Times New Roman,serif\" font-size=\"14.00\">class = Died</text>\n</g>\n<!-- 3&#45;&gt;4 -->\n<g id=\"edge4\" class=\"edge\"><title>3-&gt;4</title>\n<path fill=\"none\" stroke=\"black\" d=\"M137.082,-103.726C126.272,-94.3318 114.785,-84.349 104.014,-74.9883\"/>\n<polygon fill=\"black\" stroke=\"black\" points=\"106.161,-72.2174 96.3173,-68.2996 101.57,-77.501 106.161,-72.2174\"/>\n</g>\n<!-- 5 -->\n<g id=\"node6\" class=\"node\"><title>5</title>\n<polygon fill=\"#f5ceb1\" stroke=\"black\" points=\"238,-68 132,-68 132,-0 238,-0 238,-68\"/>\n<text text-anchor=\"middle\" x=\"185\" y=\"-52.8\" font-family=\"Times New Roman,serif\" font-size=\"14.00\">entropy = 0.956</text>\n<text text-anchor=\"middle\" x=\"185\" y=\"-37.8\" font-family=\"Times New Roman,serif\" font-size=\"14.00\">samples = 45</text>\n<text text-anchor=\"middle\" x=\"185\" y=\"-22.8\" font-family=\"Times New Roman,serif\" font-size=\"14.00\">value = [28, 17]</text>\n<text text-anchor=\"middle\" x=\"185\" y=\"-7.8\" font-family=\"Times New Roman,serif\" font-size=\"14.00\">class = Died</text>\n</g>\n<!-- 3&#45;&gt;5 -->\n<g id=\"edge5\" class=\"edge\"><title>3-&gt;5</title>\n<path fill=\"none\" stroke=\"black\" d=\"M184.372,-103.726C184.447,-95.5175 184.526,-86.8595 184.602,-78.56\"/>\n<polygon fill=\"black\" stroke=\"black\" points=\"188.104,-78.3312 184.696,-68.2996 181.105,-78.2672 188.104,-78.3312\"/>\n</g>\n<!-- 7 -->\n<g id=\"node8\" class=\"node\"><title>7</title>\n<polygon fill=\"#41a1e6\" stroke=\"black\" points=\"368,-187 258,-187 258,-104 368,-104 368,-187\"/>\n<text text-anchor=\"middle\" x=\"313\" y=\"-171.8\" font-family=\"Times New Roman,serif\" font-size=\"14.00\">Fare &lt;= 149.035</text>\n<text text-anchor=\"middle\" x=\"313\" y=\"-156.8\" font-family=\"Times New Roman,serif\" font-size=\"14.00\">entropy = 0.23</text>\n<text text-anchor=\"middle\" x=\"313\" y=\"-141.8\" font-family=\"Times New Roman,serif\" font-size=\"14.00\">samples = 107</text>\n<text text-anchor=\"middle\" x=\"313\" y=\"-126.8\" font-family=\"Times New Roman,serif\" font-size=\"14.00\">value = [4, 103]</text>\n<text text-anchor=\"middle\" x=\"313\" y=\"-111.8\" font-family=\"Times New Roman,serif\" font-size=\"14.00\">class = Survived</text>\n</g>\n<!-- 6&#45;&gt;7 -->\n<g id=\"edge7\" class=\"edge\"><title>6-&gt;7</title>\n<path fill=\"none\" stroke=\"black\" d=\"M313,-222.907C313,-214.649 313,-205.864 313,-197.302\"/>\n<polygon fill=\"black\" stroke=\"black\" points=\"316.5,-197.021 313,-187.021 309.5,-197.021 316.5,-197.021\"/>\n</g>\n<!-- 10 -->\n<g id=\"node11\" class=\"node\"><title>10</title>\n<polygon fill=\"#fceee5\" stroke=\"black\" points=\"492,-179.5 386,-179.5 386,-111.5 492,-111.5 492,-179.5\"/>\n<text text-anchor=\"middle\" x=\"439\" y=\"-164.3\" font-family=\"Times New Roman,serif\" font-size=\"14.00\">entropy = 0.996</text>\n<text text-anchor=\"middle\" x=\"439\" y=\"-149.3\" font-family=\"Times New Roman,serif\" font-size=\"14.00\">samples = 99</text>\n<text text-anchor=\"middle\" x=\"439\" y=\"-134.3\" font-family=\"Times New Roman,serif\" font-size=\"14.00\">value = [53, 46]</text>\n<text text-anchor=\"middle\" x=\"439\" y=\"-119.3\" font-family=\"Times New Roman,serif\" font-size=\"14.00\">class = Died</text>\n</g>\n<!-- 6&#45;&gt;10 -->\n<g id=\"edge10\" class=\"edge\"><title>6-&gt;10</title>\n<path fill=\"none\" stroke=\"black\" d=\"M356.715,-222.907C369.311,-211.211 383.046,-198.457 395.622,-186.78\"/>\n<polygon fill=\"black\" stroke=\"black\" points=\"398.335,-189.036 403.282,-179.667 393.572,-183.907 398.335,-189.036\"/>\n</g>\n<!-- 8 -->\n<g id=\"node9\" class=\"node\"><title>8</title>\n<polygon fill=\"#3d9fe6\" stroke=\"black\" points=\"367,-68 257,-68 257,-0 367,-0 367,-68\"/>\n<text text-anchor=\"middle\" x=\"312\" y=\"-52.8\" font-family=\"Times New Roman,serif\" font-size=\"14.00\">entropy = 0.149</text>\n<text text-anchor=\"middle\" x=\"312\" y=\"-37.8\" font-family=\"Times New Roman,serif\" font-size=\"14.00\">samples = 94</text>\n<text text-anchor=\"middle\" x=\"312\" y=\"-22.8\" font-family=\"Times New Roman,serif\" font-size=\"14.00\">value = [2, 92]</text>\n<text text-anchor=\"middle\" x=\"312\" y=\"-7.8\" font-family=\"Times New Roman,serif\" font-size=\"14.00\">class = Survived</text>\n</g>\n<!-- 7&#45;&gt;8 -->\n<g id=\"edge8\" class=\"edge\"><title>7-&gt;8</title>\n<path fill=\"none\" stroke=\"black\" d=\"M312.628,-103.726C312.553,-95.5175 312.474,-86.8595 312.398,-78.56\"/>\n<polygon fill=\"black\" stroke=\"black\" points=\"315.895,-78.2672 312.304,-68.2996 308.896,-78.3312 315.895,-78.2672\"/>\n</g>\n<!-- 9 -->\n<g id=\"node10\" class=\"node\"><title>9</title>\n<polygon fill=\"#5dafea\" stroke=\"black\" points=\"495,-68 385,-68 385,-0 495,-0 495,-68\"/>\n<text text-anchor=\"middle\" x=\"440\" y=\"-52.8\" font-family=\"Times New Roman,serif\" font-size=\"14.00\">entropy = 0.619</text>\n<text text-anchor=\"middle\" x=\"440\" y=\"-37.8\" font-family=\"Times New Roman,serif\" font-size=\"14.00\">samples = 13</text>\n<text text-anchor=\"middle\" x=\"440\" y=\"-22.8\" font-family=\"Times New Roman,serif\" font-size=\"14.00\">value = [2, 11]</text>\n<text text-anchor=\"middle\" x=\"440\" y=\"-7.8\" font-family=\"Times New Roman,serif\" font-size=\"14.00\">class = Survived</text>\n</g>\n<!-- 7&#45;&gt;9 -->\n<g id=\"edge9\" class=\"edge\"><title>7-&gt;9</title>\n<path fill=\"none\" stroke=\"black\" d=\"M360.29,-103.726C371.186,-94.3318 382.764,-84.349 393.621,-74.9883\"/>\n<polygon fill=\"black\" stroke=\"black\" points=\"396.09,-77.4804 401.379,-68.2996 391.519,-72.1789 396.09,-77.4804\"/>\n</g>\n</g>\n</svg>"
     },
     "metadata": {},
     "output_type": "display_data"
    }
   ],
   "source": [
    "clf = tree.DecisionTreeClassifier(criterion='entropy', max_depth=3, min_samples_split=100, min_samples_leaf=10)\n",
    "clf.fit(X_train, y_train)\n",
    "graph = Source(tree.export_graphviz(clf, out_file=None, feature_names=list(X), \\\n",
    "                                    class_names=['Died', 'Survived'], filled=True))\n",
    "display(SVG(graph.pipe(format='svg')))"
   ],
   "metadata": {
    "collapsed": false,
    "pycharm": {
     "name": "#%%\n",
     "is_executing": false
    }
   }
  },
  {
   "cell_type": "markdown",
   "source": [
    "# Random forest"
   ],
   "metadata": {
    "collapsed": false,
    "pycharm": {
     "name": "#%% md\n"
    }
   }
  },
  {
   "cell_type": "code",
   "execution_count": 17,
   "outputs": [],
   "source": [
    "from sklearn.ensemble import RandomForestClassifier\n",
    "from sklearn.model_selection import GridSearchCV"
   ],
   "metadata": {
    "collapsed": false,
    "pycharm": {
     "name": "#%%\n",
     "is_executing": false
    }
   }
  },
  {
   "cell_type": "code",
   "execution_count": 15,
   "outputs": [],
   "source": [
    "clf_rf = RandomForestClassifier()"
   ],
   "metadata": {
    "collapsed": false,
    "pycharm": {
     "name": "#%%\n",
     "is_executing": false
    }
   }
  },
  {
   "cell_type": "code",
   "execution_count": 16,
   "outputs": [],
   "source": [
    "parameters = {'n_estimators': [10, 20, 30], 'max_depth': [2, 5, 7, 10]}"
   ],
   "metadata": {
    "collapsed": false,
    "pycharm": {
     "name": "#%%\n",
     "is_executing": false
    }
   }
  },
  {
   "cell_type": "code",
   "execution_count": 18,
   "outputs": [],
   "source": [
    "grid_search_cv_clf = GridSearchCV(clf_rf, parameters, cv=5)"
   ],
   "metadata": {
    "collapsed": false,
    "pycharm": {
     "name": "#%%\n",
     "is_executing": false
    }
   }
  },
  {
   "cell_type": "code",
   "execution_count": 19,
   "outputs": [
    {
     "data": {
      "text/plain": "GridSearchCV(cv=5, error_score=nan,\n             estimator=RandomForestClassifier(bootstrap=True, ccp_alpha=0.0,\n                                              class_weight=None,\n                                              criterion='gini', max_depth=None,\n                                              max_features='auto',\n                                              max_leaf_nodes=None,\n                                              max_samples=None,\n                                              min_impurity_decrease=0.0,\n                                              min_impurity_split=None,\n                                              min_samples_leaf=1,\n                                              min_samples_split=2,\n                                              min_weight_fraction_leaf=0.0,\n                                              n_estimators=100, n_jobs=None,\n                                              oob_score=False,\n                                              random_state=None, verbose=0,\n                                              warm_start=False),\n             iid='deprecated', n_jobs=None,\n             param_grid={'max_depth': [2, 5, 7, 10],\n                         'n_estimators': [10, 20, 30]},\n             pre_dispatch='2*n_jobs', refit=True, return_train_score=False,\n             scoring=None, verbose=0)"
     },
     "metadata": {},
     "output_type": "execute_result",
     "execution_count": 19
    }
   ],
   "source": [
    "grid_search_cv_clf.fit(X_train, y_train)"
   ],
   "metadata": {
    "collapsed": false,
    "pycharm": {
     "name": "#%%\n",
     "is_executing": false
    }
   }
  },
  {
   "cell_type": "code",
   "execution_count": 20,
   "outputs": [
    {
     "data": {
      "text/plain": "{'max_depth': 7, 'n_estimators': 10}"
     },
     "metadata": {},
     "output_type": "execute_result",
     "execution_count": 20
    }
   ],
   "source": [
    "grid_search_cv_clf.best_params_"
   ],
   "metadata": {
    "collapsed": false,
    "pycharm": {
     "name": "#%%\n",
     "is_executing": false
    }
   }
  },
  {
   "cell_type": "code",
   "execution_count": 21,
   "outputs": [],
   "source": [
    "best_clf = grid_search_cv_clf.best_estimator_"
   ],
   "metadata": {
    "collapsed": false,
    "pycharm": {
     "name": "#%%\n",
     "is_executing": false
    }
   }
  },
  {
   "cell_type": "code",
   "execution_count": 22,
   "outputs": [
    {
     "data": {
      "text/plain": "0.7898305084745763"
     },
     "metadata": {},
     "output_type": "execute_result",
     "execution_count": 22
    }
   ],
   "source": [
    "best_clf.score(X_test, y_test)"
   ],
   "metadata": {
    "collapsed": false,
    "pycharm": {
     "name": "#%%\n",
     "is_executing": false
    }
   }
  },
  {
   "cell_type": "code",
   "execution_count": 24,
   "outputs": [],
   "source": [
    "feature_importance = best_clf.feature_importances_"
   ],
   "metadata": {
    "collapsed": false,
    "pycharm": {
     "name": "#%%\n",
     "is_executing": false
    }
   }
  },
  {
   "cell_type": "code",
   "execution_count": 26,
   "outputs": [
    {
     "data": {
      "text/plain": "      feature  feature_importance\n0      Pclass            0.126844\n1         Age            0.163275\n2       SibSp            0.032325\n3       Parch            0.046593\n4        Fare            0.179137\n5  Sex_female            0.233065\n6    Sex_male            0.180481\n7  Embarked_C            0.020017\n8  Embarked_Q            0.010511\n9  Embarked_S            0.007753",
      "text/html": "<div>\n<style scoped>\n    .dataframe tbody tr th:only-of-type {\n        vertical-align: middle;\n    }\n\n    .dataframe tbody tr th {\n        vertical-align: top;\n    }\n\n    .dataframe thead th {\n        text-align: right;\n    }\n</style>\n<table border=\"1\" class=\"dataframe\">\n  <thead>\n    <tr style=\"text-align: right;\">\n      <th></th>\n      <th>feature</th>\n      <th>feature_importance</th>\n    </tr>\n  </thead>\n  <tbody>\n    <tr>\n      <th>0</th>\n      <td>Pclass</td>\n      <td>0.126844</td>\n    </tr>\n    <tr>\n      <th>1</th>\n      <td>Age</td>\n      <td>0.163275</td>\n    </tr>\n    <tr>\n      <th>2</th>\n      <td>SibSp</td>\n      <td>0.032325</td>\n    </tr>\n    <tr>\n      <th>3</th>\n      <td>Parch</td>\n      <td>0.046593</td>\n    </tr>\n    <tr>\n      <th>4</th>\n      <td>Fare</td>\n      <td>0.179137</td>\n    </tr>\n    <tr>\n      <th>5</th>\n      <td>Sex_female</td>\n      <td>0.233065</td>\n    </tr>\n    <tr>\n      <th>6</th>\n      <td>Sex_male</td>\n      <td>0.180481</td>\n    </tr>\n    <tr>\n      <th>7</th>\n      <td>Embarked_C</td>\n      <td>0.020017</td>\n    </tr>\n    <tr>\n      <th>8</th>\n      <td>Embarked_Q</td>\n      <td>0.010511</td>\n    </tr>\n    <tr>\n      <th>9</th>\n      <td>Embarked_S</td>\n      <td>0.007753</td>\n    </tr>\n  </tbody>\n</table>\n</div>"
     },
     "metadata": {},
     "output_type": "execute_result",
     "execution_count": 26
    }
   ],
   "source": [
    "feature_importance_df = pd.DataFrame({'feature': list(X_train),\n",
    "                                       'feature_importance': feature_importance})\n",
    "feature_importance_df"
   ],
   "metadata": {
    "collapsed": false,
    "pycharm": {
     "name": "#%%\n",
     "is_executing": false
    }
   }
  },
  {
   "cell_type": "code",
   "execution_count": 27,
   "outputs": [
    {
     "data": {
      "text/plain": "      feature  feature_importance\n5  Sex_female            0.233065\n6    Sex_male            0.180481\n4        Fare            0.179137\n1         Age            0.163275\n0      Pclass            0.126844\n3       Parch            0.046593\n2       SibSp            0.032325\n7  Embarked_C            0.020017\n8  Embarked_Q            0.010511\n9  Embarked_S            0.007753",
      "text/html": "<div>\n<style scoped>\n    .dataframe tbody tr th:only-of-type {\n        vertical-align: middle;\n    }\n\n    .dataframe tbody tr th {\n        vertical-align: top;\n    }\n\n    .dataframe thead th {\n        text-align: right;\n    }\n</style>\n<table border=\"1\" class=\"dataframe\">\n  <thead>\n    <tr style=\"text-align: right;\">\n      <th></th>\n      <th>feature</th>\n      <th>feature_importance</th>\n    </tr>\n  </thead>\n  <tbody>\n    <tr>\n      <th>5</th>\n      <td>Sex_female</td>\n      <td>0.233065</td>\n    </tr>\n    <tr>\n      <th>6</th>\n      <td>Sex_male</td>\n      <td>0.180481</td>\n    </tr>\n    <tr>\n      <th>4</th>\n      <td>Fare</td>\n      <td>0.179137</td>\n    </tr>\n    <tr>\n      <th>1</th>\n      <td>Age</td>\n      <td>0.163275</td>\n    </tr>\n    <tr>\n      <th>0</th>\n      <td>Pclass</td>\n      <td>0.126844</td>\n    </tr>\n    <tr>\n      <th>3</th>\n      <td>Parch</td>\n      <td>0.046593</td>\n    </tr>\n    <tr>\n      <th>2</th>\n      <td>SibSp</td>\n      <td>0.032325</td>\n    </tr>\n    <tr>\n      <th>7</th>\n      <td>Embarked_C</td>\n      <td>0.020017</td>\n    </tr>\n    <tr>\n      <th>8</th>\n      <td>Embarked_Q</td>\n      <td>0.010511</td>\n    </tr>\n    <tr>\n      <th>9</th>\n      <td>Embarked_S</td>\n      <td>0.007753</td>\n    </tr>\n  </tbody>\n</table>\n</div>"
     },
     "metadata": {},
     "output_type": "execute_result",
     "execution_count": 27
    }
   ],
   "source": [
    "feature_importance_df.sort_values('feature_importance', ascending=False)\n"
   ],
   "metadata": {
    "collapsed": false,
    "pycharm": {
     "name": "#%%\n",
     "is_executing": false
    }
   }
  },
  {
   "cell_type": "markdown",
   "source": [
    "## ЗАДАЧА\n",
    "\n",
    "Воспользуемся данными о сердечных заболеваниях и обучим на них Random Forest. \n",
    "Постройте график важности переменных для классификации и выберите среди предложенных вариантов наиболее похожий."
   ],
   "metadata": {
    "collapsed": false
   }
  },
  {
   "cell_type": "code",
   "execution_count": 28,
   "outputs": [
    {
     "data": {
      "text/plain": "   age  sex  cp  trestbps  chol  fbs  restecg  thalach  exang  oldpeak  slope  \\\n0   63    1   3       145   233    1        0      150      0      2.3      0   \n1   37    1   2       130   250    0        1      187      0      3.5      0   \n2   41    0   1       130   204    0        0      172      0      1.4      2   \n3   56    1   1       120   236    0        1      178      0      0.8      2   \n4   57    0   0       120   354    0        1      163      1      0.6      2   \n\n   ca  thal  target  \n0   0     1       1  \n1   0     2       1  \n2   0     2       1  \n3   0     2       1  \n4   0     2       1  ",
      "text/html": "<div>\n<style scoped>\n    .dataframe tbody tr th:only-of-type {\n        vertical-align: middle;\n    }\n\n    .dataframe tbody tr th {\n        vertical-align: top;\n    }\n\n    .dataframe thead th {\n        text-align: right;\n    }\n</style>\n<table border=\"1\" class=\"dataframe\">\n  <thead>\n    <tr style=\"text-align: right;\">\n      <th></th>\n      <th>age</th>\n      <th>sex</th>\n      <th>cp</th>\n      <th>trestbps</th>\n      <th>chol</th>\n      <th>fbs</th>\n      <th>restecg</th>\n      <th>thalach</th>\n      <th>exang</th>\n      <th>oldpeak</th>\n      <th>slope</th>\n      <th>ca</th>\n      <th>thal</th>\n      <th>target</th>\n    </tr>\n  </thead>\n  <tbody>\n    <tr>\n      <th>0</th>\n      <td>63</td>\n      <td>1</td>\n      <td>3</td>\n      <td>145</td>\n      <td>233</td>\n      <td>1</td>\n      <td>0</td>\n      <td>150</td>\n      <td>0</td>\n      <td>2.3</td>\n      <td>0</td>\n      <td>0</td>\n      <td>1</td>\n      <td>1</td>\n    </tr>\n    <tr>\n      <th>1</th>\n      <td>37</td>\n      <td>1</td>\n      <td>2</td>\n      <td>130</td>\n      <td>250</td>\n      <td>0</td>\n      <td>1</td>\n      <td>187</td>\n      <td>0</td>\n      <td>3.5</td>\n      <td>0</td>\n      <td>0</td>\n      <td>2</td>\n      <td>1</td>\n    </tr>\n    <tr>\n      <th>2</th>\n      <td>41</td>\n      <td>0</td>\n      <td>1</td>\n      <td>130</td>\n      <td>204</td>\n      <td>0</td>\n      <td>0</td>\n      <td>172</td>\n      <td>0</td>\n      <td>1.4</td>\n      <td>2</td>\n      <td>0</td>\n      <td>2</td>\n      <td>1</td>\n    </tr>\n    <tr>\n      <th>3</th>\n      <td>56</td>\n      <td>1</td>\n      <td>1</td>\n      <td>120</td>\n      <td>236</td>\n      <td>0</td>\n      <td>1</td>\n      <td>178</td>\n      <td>0</td>\n      <td>0.8</td>\n      <td>2</td>\n      <td>0</td>\n      <td>2</td>\n      <td>1</td>\n    </tr>\n    <tr>\n      <th>4</th>\n      <td>57</td>\n      <td>0</td>\n      <td>0</td>\n      <td>120</td>\n      <td>354</td>\n      <td>0</td>\n      <td>1</td>\n      <td>163</td>\n      <td>1</td>\n      <td>0.6</td>\n      <td>2</td>\n      <td>0</td>\n      <td>2</td>\n      <td>1</td>\n    </tr>\n  </tbody>\n</table>\n</div>"
     },
     "metadata": {},
     "output_type": "execute_result",
     "execution_count": 28
    }
   ],
   "source": [
    "heart_data = pd.read_csv('data/heart.csv')\n",
    "heart_data.head()"
   ],
   "metadata": {
    "collapsed": false,
    "pycharm": {
     "name": "#%%\n",
     "is_executing": false
    }
   }
  },
  {
   "cell_type": "code",
   "execution_count": 31,
   "outputs": [
    {
     "data": {
      "text/plain": "   age  sex  cp  trestbps  chol  fbs  restecg  thalach  exang  oldpeak  slope  \\\n0   63    1   3       145   233    1        0      150      0      2.3      0   \n1   37    1   2       130   250    0        1      187      0      3.5      0   \n2   41    0   1       130   204    0        0      172      0      1.4      2   \n3   56    1   1       120   236    0        1      178      0      0.8      2   \n4   57    0   0       120   354    0        1      163      1      0.6      2   \n\n   ca  thal  \n0   0     1  \n1   0     2  \n2   0     2  \n3   0     2  \n4   0     2  ",
      "text/html": "<div>\n<style scoped>\n    .dataframe tbody tr th:only-of-type {\n        vertical-align: middle;\n    }\n\n    .dataframe tbody tr th {\n        vertical-align: top;\n    }\n\n    .dataframe thead th {\n        text-align: right;\n    }\n</style>\n<table border=\"1\" class=\"dataframe\">\n  <thead>\n    <tr style=\"text-align: right;\">\n      <th></th>\n      <th>age</th>\n      <th>sex</th>\n      <th>cp</th>\n      <th>trestbps</th>\n      <th>chol</th>\n      <th>fbs</th>\n      <th>restecg</th>\n      <th>thalach</th>\n      <th>exang</th>\n      <th>oldpeak</th>\n      <th>slope</th>\n      <th>ca</th>\n      <th>thal</th>\n    </tr>\n  </thead>\n  <tbody>\n    <tr>\n      <th>0</th>\n      <td>63</td>\n      <td>1</td>\n      <td>3</td>\n      <td>145</td>\n      <td>233</td>\n      <td>1</td>\n      <td>0</td>\n      <td>150</td>\n      <td>0</td>\n      <td>2.3</td>\n      <td>0</td>\n      <td>0</td>\n      <td>1</td>\n    </tr>\n    <tr>\n      <th>1</th>\n      <td>37</td>\n      <td>1</td>\n      <td>2</td>\n      <td>130</td>\n      <td>250</td>\n      <td>0</td>\n      <td>1</td>\n      <td>187</td>\n      <td>0</td>\n      <td>3.5</td>\n      <td>0</td>\n      <td>0</td>\n      <td>2</td>\n    </tr>\n    <tr>\n      <th>2</th>\n      <td>41</td>\n      <td>0</td>\n      <td>1</td>\n      <td>130</td>\n      <td>204</td>\n      <td>0</td>\n      <td>0</td>\n      <td>172</td>\n      <td>0</td>\n      <td>1.4</td>\n      <td>2</td>\n      <td>0</td>\n      <td>2</td>\n    </tr>\n    <tr>\n      <th>3</th>\n      <td>56</td>\n      <td>1</td>\n      <td>1</td>\n      <td>120</td>\n      <td>236</td>\n      <td>0</td>\n      <td>1</td>\n      <td>178</td>\n      <td>0</td>\n      <td>0.8</td>\n      <td>2</td>\n      <td>0</td>\n      <td>2</td>\n    </tr>\n    <tr>\n      <th>4</th>\n      <td>57</td>\n      <td>0</td>\n      <td>0</td>\n      <td>120</td>\n      <td>354</td>\n      <td>0</td>\n      <td>1</td>\n      <td>163</td>\n      <td>1</td>\n      <td>0.6</td>\n      <td>2</td>\n      <td>0</td>\n      <td>2</td>\n    </tr>\n  </tbody>\n</table>\n</div>"
     },
     "metadata": {},
     "output_type": "execute_result",
     "execution_count": 31
    }
   ],
   "source": [
    "heart_X = heart_data.drop('target', axis=1)\n",
    "heart_X.head()"
   ],
   "metadata": {
    "collapsed": false,
    "pycharm": {
     "name": "#%%\n",
     "is_executing": false
    }
   }
  },
  {
   "cell_type": "code",
   "execution_count": 32,
   "outputs": [
    {
     "data": {
      "text/plain": "0    1\n1    1\n2    1\n3    1\n4    1\nName: target, dtype: int64"
     },
     "metadata": {},
     "output_type": "execute_result",
     "execution_count": 32
    }
   ],
   "source": [
    "heart_y = heart_data.target\n",
    "heart_y.head()"
   ],
   "metadata": {
    "collapsed": false,
    "pycharm": {
     "name": "#%%\n",
     "is_executing": false
    }
   }
  },
  {
   "cell_type": "code",
   "execution_count": 36,
   "outputs": [
    {
     "data": {
      "text/plain": "RandomForestClassifier(bootstrap=True, ccp_alpha=0.0, class_weight=None,\n                       criterion='gini', max_depth=5, max_features='auto',\n                       max_leaf_nodes=None, max_samples=None,\n                       min_impurity_decrease=0.0, min_impurity_split=None,\n                       min_samples_leaf=1, min_samples_split=2,\n                       min_weight_fraction_leaf=0.0, n_estimators=10,\n                       n_jobs=None, oob_score=False, random_state=None,\n                       verbose=0, warm_start=False)"
     },
     "metadata": {},
     "output_type": "execute_result",
     "execution_count": 36
    }
   ],
   "source": [
    "np.random.seed(0)\n",
    "clf_heart = RandomForestClassifier(10, max_depth=5)\n",
    "clf_heart.fit(heart_X, heart_y)"
   ],
   "metadata": {
    "collapsed": false,
    "pycharm": {
     "name": "#%%\n",
     "is_executing": false
    }
   }
  },
  {
   "cell_type": "code",
   "execution_count": 37,
   "outputs": [
    {
     "data": {
      "text/plain": "<matplotlib.axes._subplots.AxesSubplot at 0x1b8360e8>"
     },
     "metadata": {},
     "output_type": "execute_result",
     "execution_count": 37
    },
    {
     "data": {
      "text/plain": "<Figure size 864x576 with 1 Axes>",
      "image/png": "[encoded data removed]"
     },
     "metadata": {
      "needs_background": "light"
     },
     "output_type": "display_data"
    }
   ],
   "source": [
    "imp = pd.DataFrame(clf_heart.feature_importances_, index=heart_X.columns, columns=['importance'])\n",
    "imp.sort_values('importance').plot(kind='barh', figsize=(12, 8))\n"
   ],
   "metadata": {
    "collapsed": false,
    "pycharm": {
     "name": "#%%\n",
     "is_executing": false
    }
   }
  }
 ],
 "metadata": {
  "kernelspec": {
   "display_name": "Python 3",
   "language": "python",
   "name": "python3"
  },
  "language_info": {
   "codemirror_mode": {
    "name": "ipython",
    "version": 2
   },
   "file_extension": ".py",
   "mimetype": "text/x-python",
   "name": "python",
   "nbconvert_exporter": "python",
   "pygments_lexer": "ipython2",
   "version": "2.7.6"
  },
  "pycharm": {
   "stem_cell": {
    "cell_type": "raw",
    "source": [],
    "metadata": {
     "collapsed": false
    }
   }
  }
 },
 "nbformat": 4,
 "nbformat_minor": 0
}