{
 "cells": [
  {
   "cell_type": "markdown",
   "metadata": {
    "collapsed": true,
    "pycharm": {
     "name": "#%% md\n"
    }
   },
   "source": [
    "## ЗАДАЧА\n",
    "\n",
    "Убедимся в том, что всё так происходит на самом деле. Скачайте тренировочный датасэт с ирисами, \n",
    "обучите деревья с глубиной от 1 до 100. Целевой переменной при обучении является переменная species. \n",
    "При этом записывайте его скор (DecisionTreeClassifier.score()) на тренировочных данных, \n",
    "и аккуратность предсказаний (accuracy_score) на тестовом датасэте. Затем визуализируйте зависимость скора и \n",
    "аккуратности предсказаний от глубины дерева и выберите правильную визуализацию из предложенных."
   ]
  },
  {
   "cell_type": "code",
   "execution_count": 30,
   "outputs": [],
   "source": [
    "from sklearn import tree\n",
    "import pandas as pd\n",
    "import matplotlib.pyplot as plt\n",
    "import seaborn as sns\n",
    "import numpy as np\n",
    "from sklearn.model_selection import cross_val_score, train_test_split, GridSearchCV, RandomizedSearchCV\n",
    "from sklearn.datasets import load_iris\n",
    "from sklearn.metrics import confusion_matrix\n",
    "%matplotlib inline"
   ],
   "metadata": {
    "collapsed": false,
    "pycharm": {
     "name": "#%%\n",
     "is_executing": false
    }
   }
  },
  {
   "cell_type": "code",
   "execution_count": 3,
   "outputs": [
    {
     "data": {
      "text/plain": "   sepal length  sepal length  petal length  petal length\n0           7.4           7.4           6.1           6.1\n1           5.0           5.0           1.5           1.5\n2           4.8           4.8           1.6           1.6\n3           5.8           5.8           5.1           5.1\n4           7.2           7.2           6.1           6.1",
      "text/html": "<div>\n<style scoped>\n    .dataframe tbody tr th:only-of-type {\n        vertical-align: middle;\n    }\n\n    .dataframe tbody tr th {\n        vertical-align: top;\n    }\n\n    .dataframe thead th {\n        text-align: right;\n    }\n</style>\n<table border=\"1\" class=\"dataframe\">\n  <thead>\n    <tr style=\"text-align: right;\">\n      <th></th>\n      <th>sepal length</th>\n      <th>sepal length</th>\n      <th>petal length</th>\n      <th>petal length</th>\n    </tr>\n  </thead>\n  <tbody>\n    <tr>\n      <th>0</th>\n      <td>7.4</td>\n      <td>7.4</td>\n      <td>6.1</td>\n      <td>6.1</td>\n    </tr>\n    <tr>\n      <th>1</th>\n      <td>5.0</td>\n      <td>5.0</td>\n      <td>1.5</td>\n      <td>1.5</td>\n    </tr>\n    <tr>\n      <th>2</th>\n      <td>4.8</td>\n      <td>4.8</td>\n      <td>1.6</td>\n      <td>1.6</td>\n    </tr>\n    <tr>\n      <th>3</th>\n      <td>5.8</td>\n      <td>5.8</td>\n      <td>5.1</td>\n      <td>5.1</td>\n    </tr>\n    <tr>\n      <th>4</th>\n      <td>7.2</td>\n      <td>7.2</td>\n      <td>6.1</td>\n      <td>6.1</td>\n    </tr>\n  </tbody>\n</table>\n</div>"
     },
     "metadata": {},
     "output_type": "execute_result",
     "execution_count": 3
    }
   ],
   "source": [
    "train_iris = pd.read_csv('data/train_iris.csv')\n",
    "X_train_iris = train_iris[['sepal length', 'sepal length', 'petal length', 'petal length']]\n",
    "y_train_iris = train_iris.species\n",
    "X_train_iris.head()"
   ],
   "metadata": {
    "collapsed": false,
    "pycharm": {
     "name": "#%%\n",
     "is_executing": false
    }
   }
  },
  {
   "cell_type": "code",
   "execution_count": 4,
   "outputs": [
    {
     "data": {
      "text/plain": "   sepal length  sepal length  petal length  petal length\n0           5.8           5.8           5.1           5.1\n1           5.9           5.9           4.8           4.8\n2           6.0           6.0           4.8           4.8\n3           5.2           5.2           3.9           3.9\n4           5.1           5.1           1.9           1.9",
      "text/html": "<div>\n<style scoped>\n    .dataframe tbody tr th:only-of-type {\n        vertical-align: middle;\n    }\n\n    .dataframe tbody tr th {\n        vertical-align: top;\n    }\n\n    .dataframe thead th {\n        text-align: right;\n    }\n</style>\n<table border=\"1\" class=\"dataframe\">\n  <thead>\n    <tr style=\"text-align: right;\">\n      <th></th>\n      <th>sepal length</th>\n      <th>sepal length</th>\n      <th>petal length</th>\n      <th>petal length</th>\n    </tr>\n  </thead>\n  <tbody>\n    <tr>\n      <th>0</th>\n      <td>5.8</td>\n      <td>5.8</td>\n      <td>5.1</td>\n      <td>5.1</td>\n    </tr>\n    <tr>\n      <th>1</th>\n      <td>5.9</td>\n      <td>5.9</td>\n      <td>4.8</td>\n      <td>4.8</td>\n    </tr>\n    <tr>\n      <th>2</th>\n      <td>6.0</td>\n      <td>6.0</td>\n      <td>4.8</td>\n      <td>4.8</td>\n    </tr>\n    <tr>\n      <th>3</th>\n      <td>5.2</td>\n      <td>5.2</td>\n      <td>3.9</td>\n      <td>3.9</td>\n    </tr>\n    <tr>\n      <th>4</th>\n      <td>5.1</td>\n      <td>5.1</td>\n      <td>1.9</td>\n      <td>1.9</td>\n    </tr>\n  </tbody>\n</table>\n</div>"
     },
     "metadata": {},
     "output_type": "execute_result",
     "execution_count": 4
    }
   ],
   "source": [
    "test_iris = pd.read_csv('data/test_iris.csv')\n",
    "X_test_iris = test_iris[['sepal length', 'sepal length', 'petal length', 'petal length']]\n",
    "y_test_iris = test_iris.species\n",
    "X_test_iris.head()"
   ],
   "metadata": {
    "collapsed": false,
    "pycharm": {
     "name": "#%%\n",
     "is_executing": false
    }
   }
  },
  {
   "cell_type": "code",
   "execution_count": 5,
   "outputs": [
    {
     "data": {
      "text/plain": "   max_depth  train_score  test_score  cross_val_score\n0          1         0.70        0.60             0.70\n0          2         0.97        0.92             0.94\n0          3         0.97        0.92             0.92\n0          4         0.99        0.94             0.94\n0          5         0.99        0.94             0.92",
      "text/html": "<div>\n<style scoped>\n    .dataframe tbody tr th:only-of-type {\n        vertical-align: middle;\n    }\n\n    .dataframe tbody tr th {\n        vertical-align: top;\n    }\n\n    .dataframe thead th {\n        text-align: right;\n    }\n</style>\n<table border=\"1\" class=\"dataframe\">\n  <thead>\n    <tr style=\"text-align: right;\">\n      <th></th>\n      <th>max_depth</th>\n      <th>train_score</th>\n      <th>test_score</th>\n      <th>cross_val_score</th>\n    </tr>\n  </thead>\n  <tbody>\n    <tr>\n      <th>0</th>\n      <td>1</td>\n      <td>0.70</td>\n      <td>0.60</td>\n      <td>0.70</td>\n    </tr>\n    <tr>\n      <th>0</th>\n      <td>2</td>\n      <td>0.97</td>\n      <td>0.92</td>\n      <td>0.94</td>\n    </tr>\n    <tr>\n      <th>0</th>\n      <td>3</td>\n      <td>0.97</td>\n      <td>0.92</td>\n      <td>0.92</td>\n    </tr>\n    <tr>\n      <th>0</th>\n      <td>4</td>\n      <td>0.99</td>\n      <td>0.94</td>\n      <td>0.94</td>\n    </tr>\n    <tr>\n      <th>0</th>\n      <td>5</td>\n      <td>0.99</td>\n      <td>0.94</td>\n      <td>0.92</td>\n    </tr>\n  </tbody>\n</table>\n</div>"
     },
     "metadata": {},
     "output_type": "execute_result",
     "execution_count": 5
    }
   ],
   "source": [
    "np.random.seed(0)\n",
    "max_depth_value = range(1, 100)\n",
    "score_data = pd.DataFrame()\n",
    "for max_depth in max_depth_value:\n",
    "    \n",
    "    iris_clf = tree.DecisionTreeClassifier(criterion='entropy', max_depth=max_depth)\n",
    "    iris_clf.fit(X_train_iris, y_train_iris)\n",
    "    train_score = iris_clf.score(X_train_iris, y_train_iris)\n",
    "    test_score = iris_clf.score(X_test_iris, y_test_iris)\n",
    "    \n",
    "    mean_cross_val_score = cross_val_score(iris_clf, X_test_iris, y_test_iris, cv=5).mean()\n",
    "        \n",
    "    temp_score_data = pd.DataFrame({'max_depth': [max_depth], \n",
    "                                    'train_score': [train_score], \n",
    "                                    'test_score': [test_score], \n",
    "                                    'cross_val_score': [mean_cross_val_score]})\n",
    "    score_data = score_data.append(temp_score_data)\n",
    "score_data.head()"
   ],
   "metadata": {
    "collapsed": false,
    "pycharm": {
     "name": "#%%\n",
     "is_executing": false
    }
   }
  },
  {
   "cell_type": "code",
   "execution_count": 6,
   "outputs": [
    {
     "data": {
      "text/plain": "   max_depth     set_type  score\n0          1  train_score   0.70\n1          2  train_score   0.97\n2          3  train_score   0.97\n3          4  train_score   0.99\n4          5  train_score   0.99",
      "text/html": "<div>\n<style scoped>\n    .dataframe tbody tr th:only-of-type {\n        vertical-align: middle;\n    }\n\n    .dataframe tbody tr th {\n        vertical-align: top;\n    }\n\n    .dataframe thead th {\n        text-align: right;\n    }\n</style>\n<table border=\"1\" class=\"dataframe\">\n  <thead>\n    <tr style=\"text-align: right;\">\n      <th></th>\n      <th>max_depth</th>\n      <th>set_type</th>\n      <th>score</th>\n    </tr>\n  </thead>\n  <tbody>\n    <tr>\n      <th>0</th>\n      <td>1</td>\n      <td>train_score</td>\n      <td>0.70</td>\n    </tr>\n    <tr>\n      <th>1</th>\n      <td>2</td>\n      <td>train_score</td>\n      <td>0.97</td>\n    </tr>\n    <tr>\n      <th>2</th>\n      <td>3</td>\n      <td>train_score</td>\n      <td>0.97</td>\n    </tr>\n    <tr>\n      <th>3</th>\n      <td>4</td>\n      <td>train_score</td>\n      <td>0.99</td>\n    </tr>\n    <tr>\n      <th>4</th>\n      <td>5</td>\n      <td>train_score</td>\n      <td>0.99</td>\n    </tr>\n  </tbody>\n</table>\n</div>"
     },
     "metadata": {},
     "output_type": "execute_result",
     "execution_count": 6
    }
   ],
   "source": [
    "score_data_long = pd.melt(score_data, \n",
    "                          id_vars=['max_depth'],\n",
    "                          value_vars=['train_score', 'test_score', 'cross_val_score'],\n",
    "                          var_name='set_type', value_name='score')\n",
    "score_data_long.head()"
   ],
   "metadata": {
    "collapsed": false,
    "pycharm": {
     "name": "#%%\n",
     "is_executing": false
    }
   }
  },
  {
   "cell_type": "code",
   "execution_count": 7,
   "outputs": [
    {
     "data": {
      "text/plain": "<matplotlib.axes._subplots.AxesSubplot at 0x1822d3b8>"
     },
     "metadata": {},
     "output_type": "execute_result",
     "execution_count": 7
    },
    {
     "data": {
      "text/plain": "<Figure size 432x288 with 1 Axes>",
      "image/png": "[encoded data removed]"
     },
     "metadata": {
      "needs_background": "light"
     },
     "output_type": "display_data"
    }
   ],
   "source": [
    "sns.lineplot(x=\"max_depth\", y=\"score\", hue=\"set_type\", data=score_data_long)"
   ],
   "metadata": {
    "collapsed": false,
    "pycharm": {
     "name": "#%%\n",
     "is_executing": false
    }
   }
  },
  {
   "cell_type": "markdown",
   "source": [
    "## ЗАДАЧА\n",
    "\n",
    "Мы собрали побольше данных о котиках и собачках, и готовы обучить нашего робота их классифицировать! \n",
    "Скачайте тренировочный датасэт и  обучите на нём Decision Tree. После этого скачайте датасэт \n",
    "из задания и предскажите какие наблюдения к кому относятся. Введите число собачек в вашем датасэте."
   ],
   "metadata": {
    "collapsed": false
   }
  },
  {
   "cell_type": "code",
   "execution_count": 8,
   "outputs": [
    {
     "data": {
      "text/plain": "   Длина  Высота  Шерстист  Гавкает  Лазает по деревьям\n0     15    18.0         1        1                   0\n1     20    24.0         1        0                   0\n2     34    40.8         1        1                   0\n3     26    31.2         1        1                   0\n4     16    19.2         1        1                   0",
      "text/html": "<div>\n<style scoped>\n    .dataframe tbody tr th:only-of-type {\n        vertical-align: middle;\n    }\n\n    .dataframe tbody tr th {\n        vertical-align: top;\n    }\n\n    .dataframe thead th {\n        text-align: right;\n    }\n</style>\n<table border=\"1\" class=\"dataframe\">\n  <thead>\n    <tr style=\"text-align: right;\">\n      <th></th>\n      <th>Длина</th>\n      <th>Высота</th>\n      <th>Шерстист</th>\n      <th>Гавкает</th>\n      <th>Лазает по деревьям</th>\n    </tr>\n  </thead>\n  <tbody>\n    <tr>\n      <th>0</th>\n      <td>15</td>\n      <td>18.0</td>\n      <td>1</td>\n      <td>1</td>\n      <td>0</td>\n    </tr>\n    <tr>\n      <th>1</th>\n      <td>20</td>\n      <td>24.0</td>\n      <td>1</td>\n      <td>0</td>\n      <td>0</td>\n    </tr>\n    <tr>\n      <th>2</th>\n      <td>34</td>\n      <td>40.8</td>\n      <td>1</td>\n      <td>1</td>\n      <td>0</td>\n    </tr>\n    <tr>\n      <th>3</th>\n      <td>26</td>\n      <td>31.2</td>\n      <td>1</td>\n      <td>1</td>\n      <td>0</td>\n    </tr>\n    <tr>\n      <th>4</th>\n      <td>16</td>\n      <td>19.2</td>\n      <td>1</td>\n      <td>1</td>\n      <td>0</td>\n    </tr>\n  </tbody>\n</table>\n</div>"
     },
     "metadata": {},
     "output_type": "execute_result",
     "execution_count": 8
    }
   ],
   "source": [
    "dog_train = pd.read_csv('data/dogs_n_cats.csv')\n",
    "X_dog_train = dog_train[['Длина', 'Высота', 'Шерстист', 'Гавкает', 'Лазает по деревьям']]\n",
    "y_dog_train = dog_train[['Вид']]\n",
    "X_dog_train.head()"
   ],
   "metadata": {
    "collapsed": false,
    "pycharm": {
     "name": "#%%\n",
     "is_executing": false
    }
   }
  },
  {
   "cell_type": "code",
   "execution_count": 9,
   "outputs": [
    {
     "data": {
      "text/plain": "[Text(167.4, 163.07999999999998, 'X[1] <= 11.8\\nentropy = 1.0\\nsamples = 1000\\nvalue = [500, 500]'),\n Text(83.7, 54.360000000000014, 'entropy = 0.0\\nsamples = 500\\nvalue = [500, 0]'),\n Text(251.10000000000002, 54.360000000000014, 'entropy = 0.0\\nsamples = 500\\nvalue = [0, 500]')]"
     },
     "metadata": {},
     "output_type": "execute_result",
     "execution_count": 9
    },
    {
     "data": {
      "text/plain": "<Figure size 432x288 with 1 Axes>",
      "image/png": "[encoded data removed]"
     },
     "metadata": {
      "needs_background": "light"
     },
     "output_type": "display_data"
    }
   ],
   "source": [
    "dog_clf = tree.DecisionTreeClassifier(criterion='entropy', max_depth=1)\n",
    "dog_clf.fit(X_dog_train, y_dog_train)\n",
    "\n",
    "tree.plot_tree(dog_clf)"
   ],
   "metadata": {
    "collapsed": false,
    "pycharm": {
     "name": "#%%\n",
     "is_executing": false
    }
   }
  },
  {
   "cell_type": "code",
   "execution_count": 10,
   "outputs": [
    {
     "data": {
      "text/plain": "   Длина  Высота  Шерстист  Гавкает  Лазает по деревьям\n0     31    37.2         1        0                   0\n1     22    26.4         1        1                   0\n2     18    21.6         1        1                   0\n3     18    21.6         1        1                   0\n4     33    39.6         1        1                   0",
      "text/html": "<div>\n<style scoped>\n    .dataframe tbody tr th:only-of-type {\n        vertical-align: middle;\n    }\n\n    .dataframe tbody tr th {\n        vertical-align: top;\n    }\n\n    .dataframe thead th {\n        text-align: right;\n    }\n</style>\n<table border=\"1\" class=\"dataframe\">\n  <thead>\n    <tr style=\"text-align: right;\">\n      <th></th>\n      <th>Длина</th>\n      <th>Высота</th>\n      <th>Шерстист</th>\n      <th>Гавкает</th>\n      <th>Лазает по деревьям</th>\n    </tr>\n  </thead>\n  <tbody>\n    <tr>\n      <th>0</th>\n      <td>31</td>\n      <td>37.2</td>\n      <td>1</td>\n      <td>0</td>\n      <td>0</td>\n    </tr>\n    <tr>\n      <th>1</th>\n      <td>22</td>\n      <td>26.4</td>\n      <td>1</td>\n      <td>1</td>\n      <td>0</td>\n    </tr>\n    <tr>\n      <th>2</th>\n      <td>18</td>\n      <td>21.6</td>\n      <td>1</td>\n      <td>1</td>\n      <td>0</td>\n    </tr>\n    <tr>\n      <th>3</th>\n      <td>18</td>\n      <td>21.6</td>\n      <td>1</td>\n      <td>1</td>\n      <td>0</td>\n    </tr>\n    <tr>\n      <th>4</th>\n      <td>33</td>\n      <td>39.6</td>\n      <td>1</td>\n      <td>1</td>\n      <td>0</td>\n    </tr>\n  </tbody>\n</table>\n</div>"
     },
     "metadata": {},
     "output_type": "execute_result",
     "execution_count": 10
    }
   ],
   "source": [
    "dog_test = pd.read_json('data/dataset_209691_15.txt')\n",
    "dog_test.head()"
   ],
   "metadata": {
    "collapsed": false,
    "pycharm": {
     "name": "#%%\n",
     "is_executing": false
    }
   }
  },
  {
   "cell_type": "code",
   "execution_count": 11,
   "outputs": [
    {
     "data": {
      "text/plain": "57"
     },
     "metadata": {},
     "output_type": "execute_result",
     "execution_count": 11
    }
   ],
   "source": [
    "res = dog_clf.predict(dog_test)\n",
    "len(res[res=='собачка'])"
   ],
   "metadata": {
    "collapsed": false,
    "pycharm": {
     "name": "#%%\n",
     "is_executing": false
    }
   }
  },
  {
   "cell_type": "markdown",
   "source": [
    "## ЗАДАЧА\n",
    "\n",
    "Скачайте набор данных с тремя переменными: sex, exang, num. \n",
    "Представьте, что при помощи дерева решений мы хотим классифицировать есть или нет \n",
    "у пациента заболевание сердца (переменная num), основываясь на двух признаках: \n",
    "пол (sex) и наличие/отсутсвие стенокардии (exang). Обучите дерево решений на этих данных, \n",
    "используйте entropy в качестве критерия.\n",
    "\n",
    " \n",
    "\n",
    "Укажите, чему будет равняться значение Information Gain для переменной,  которая будет \n",
    "помещена в корень дерева."
   ],
   "metadata": {
    "collapsed": false,
    "pycharm": {
     "name": "#%% md\n"
    }
   }
  },
  {
   "cell_type": "code",
   "execution_count": 12,
   "outputs": [
    {
     "data": {
      "text/plain": "   sex  exang  num\n0    1      1    1\n1    1      1    1\n2    1      0    1\n3    1      0    0\n4    1      0    1",
      "text/html": "<div>\n<style scoped>\n    .dataframe tbody tr th:only-of-type {\n        vertical-align: middle;\n    }\n\n    .dataframe tbody tr th {\n        vertical-align: top;\n    }\n\n    .dataframe thead th {\n        text-align: right;\n    }\n</style>\n<table border=\"1\" class=\"dataframe\">\n  <thead>\n    <tr style=\"text-align: right;\">\n      <th></th>\n      <th>sex</th>\n      <th>exang</th>\n      <th>num</th>\n    </tr>\n  </thead>\n  <tbody>\n    <tr>\n      <th>0</th>\n      <td>1</td>\n      <td>1</td>\n      <td>1</td>\n    </tr>\n    <tr>\n      <th>1</th>\n      <td>1</td>\n      <td>1</td>\n      <td>1</td>\n    </tr>\n    <tr>\n      <th>2</th>\n      <td>1</td>\n      <td>0</td>\n      <td>1</td>\n    </tr>\n    <tr>\n      <th>3</th>\n      <td>1</td>\n      <td>0</td>\n      <td>0</td>\n    </tr>\n    <tr>\n      <th>4</th>\n      <td>1</td>\n      <td>0</td>\n      <td>1</td>\n    </tr>\n  </tbody>\n</table>\n</div>"
     },
     "metadata": {},
     "output_type": "execute_result",
     "execution_count": 12
    }
   ],
   "source": [
    "train_data = pd.read_csv('data/train_data_tree.csv')\n",
    "train_data.head()"
   ],
   "metadata": {
    "collapsed": false,
    "pycharm": {
     "name": "#%%\n",
     "is_executing": false
    }
   }
  },
  {
   "cell_type": "code",
   "execution_count": 13,
   "outputs": [
    {
     "data": {
      "text/plain": "   sex  exang\n0    1      1\n1    1      1\n2    1      0\n3    1      0\n4    1      0",
      "text/html": "<div>\n<style scoped>\n    .dataframe tbody tr th:only-of-type {\n        vertical-align: middle;\n    }\n\n    .dataframe tbody tr th {\n        vertical-align: top;\n    }\n\n    .dataframe thead th {\n        text-align: right;\n    }\n</style>\n<table border=\"1\" class=\"dataframe\">\n  <thead>\n    <tr style=\"text-align: right;\">\n      <th></th>\n      <th>sex</th>\n      <th>exang</th>\n    </tr>\n  </thead>\n  <tbody>\n    <tr>\n      <th>0</th>\n      <td>1</td>\n      <td>1</td>\n    </tr>\n    <tr>\n      <th>1</th>\n      <td>1</td>\n      <td>1</td>\n    </tr>\n    <tr>\n      <th>2</th>\n      <td>1</td>\n      <td>0</td>\n    </tr>\n    <tr>\n      <th>3</th>\n      <td>1</td>\n      <td>0</td>\n    </tr>\n    <tr>\n      <th>4</th>\n      <td>1</td>\n      <td>0</td>\n    </tr>\n  </tbody>\n</table>\n</div>"
     },
     "metadata": {},
     "output_type": "execute_result",
     "execution_count": 13
    }
   ],
   "source": [
    "X_train = train_data[['sex', 'exang']]\n",
    "X_train.head()"
   ],
   "metadata": {
    "collapsed": false,
    "pycharm": {
     "name": "#%%\n",
     "is_executing": false
    }
   }
  },
  {
   "cell_type": "code",
   "execution_count": 14,
   "outputs": [
    {
     "data": {
      "text/plain": "0    1\n1    1\n2    1\n3    0\n4    1\nName: num, dtype: int64"
     },
     "metadata": {},
     "output_type": "execute_result",
     "execution_count": 14
    }
   ],
   "source": [
    "y_train = train_data.num\n",
    "y_train.head()"
   ],
   "metadata": {
    "collapsed": false,
    "pycharm": {
     "name": "#%%\n",
     "is_executing": false
    }
   }
  },
  {
   "cell_type": "code",
   "execution_count": 15,
   "outputs": [
    {
     "data": {
      "text/plain": "DecisionTreeClassifier(ccp_alpha=0.0, class_weight=None, criterion='entropy',\n                       max_depth=None, max_features=None, max_leaf_nodes=None,\n                       min_impurity_decrease=0.0, min_impurity_split=None,\n                       min_samples_leaf=1, min_samples_split=2,\n                       min_weight_fraction_leaf=0.0, presort='deprecated',\n                       random_state=None, splitter='best')"
     },
     "metadata": {},
     "output_type": "execute_result",
     "execution_count": 15
    }
   ],
   "source": [
    "clf_data = tree.DecisionTreeClassifier(criterion='entropy')\n",
    "clf_data.fit(X_train, y_train)"
   ],
   "metadata": {
    "collapsed": false,
    "pycharm": {
     "name": "#%%\n",
     "is_executing": false
    }
   }
  },
  {
   "cell_type": "code",
   "execution_count": 16,
   "outputs": [
    {
     "data": {
      "text/plain": "[Text(167.4, 181.2, 'X[1] <= 0.5\\nentropy = 0.996\\nsamples = 238\\nvalue = [128, 110]'),\n Text(83.7, 108.72, 'X[0] <= 0.5\\nentropy = 0.903\\nsamples = 157\\nvalue = [107, 50]'),\n Text(41.85, 36.23999999999998, 'entropy = 0.612\\nsamples = 53\\nvalue = [45, 8]'),\n Text(125.55000000000001, 36.23999999999998, 'entropy = 0.973\\nsamples = 104\\nvalue = [62, 42]'),\n Text(251.10000000000002, 108.72, 'X[0] <= 0.5\\nentropy = 0.826\\nsamples = 81\\nvalue = [21, 60]'),\n Text(209.25, 36.23999999999998, 'entropy = 0.954\\nsamples = 16\\nvalue = [6, 10]'),\n Text(292.95, 36.23999999999998, 'entropy = 0.779\\nsamples = 65\\nvalue = [15, 50]')]"
     },
     "metadata": {},
     "output_type": "execute_result",
     "execution_count": 16
    },
    {
     "data": {
      "text/plain": "<Figure size 432x288 with 1 Axes>",
      "image/png": "[encoded data removed]"
     },
     "metadata": {
      "needs_background": "light"
     },
     "output_type": "display_data"
    }
   ],
   "source": [
    "tree.plot_tree(clf_data, filled=True)"
   ],
   "metadata": {
    "collapsed": false,
    "pycharm": {
     "name": "#%%\n",
     "is_executing": false
    }
   }
  },
  {
   "cell_type": "markdown",
   "source": [
    "## ЗАДАЧА\n",
    "\n",
    "Для начала опробуем наше дерево на классическом наборе iris, где собраны данные о длине, \n",
    "ширине чашелистиков и лепестков ирисов и их принадлежности к виду. В sklearn он уже встроен, что довольно удобно.\n",
    "\n",
    "Итак, вам даны 2 numpy эррея с измеренными признаками ирисов и их принадлежностью к виду. \n",
    "Сначала попробуем примитивный способ с разбиением данных на 2 датасэта. \n",
    "Используйте функцию train_test_split для разделения имеющихся данных на тренировочный и тестовый наборы данных, \n",
    "75% и 25% соответственно.\n",
    "Затем создайте дерево dt с параметрами по умолчанию и обучите его на тренировочных данных, \n",
    "а после предскажите классы, к которым принадлежат данные из тестовой выборки, \n",
    "сохраните результат предсказаний в переменную predicted."
   ],
   "metadata": {
    "collapsed": false,
    "pycharm": {
     "name": "#%% md\n",
     "is_executing": false
    }
   }
  },
  {
   "cell_type": "code",
   "execution_count": 21,
   "outputs": [],
   "source": [
    "iris = load_iris()\n",
    "X = iris.data\n",
    "y = iris.target"
   ],
   "metadata": {
    "collapsed": false,
    "pycharm": {
     "name": "#%%\n",
     "is_executing": false
    }
   }
  },
  {
   "cell_type": "code",
   "execution_count": 22,
   "outputs": [],
   "source": [
    "X_train, X_test, y_train, y_test = train_test_split(X, y, test_size=0.25)"
   ],
   "metadata": {
    "collapsed": false,
    "pycharm": {
     "name": "#%%\n",
     "is_executing": false
    }
   }
  },
  {
   "cell_type": "code",
   "execution_count": 23,
   "outputs": [
    {
     "data": {
      "text/plain": "DecisionTreeClassifier(ccp_alpha=0.0, class_weight=None, criterion='gini',\n                       max_depth=None, max_features=None, max_leaf_nodes=None,\n                       min_impurity_decrease=0.0, min_impurity_split=None,\n                       min_samples_leaf=1, min_samples_split=2,\n                       min_weight_fraction_leaf=0.0, presort='deprecated',\n                       random_state=None, splitter='best')"
     },
     "metadata": {},
     "output_type": "execute_result",
     "execution_count": 23
    }
   ],
   "source": [
    "clf_iris = tree.DecisionTreeClassifier()\n",
    "clf_iris.fit(X_train, y_train)"
   ],
   "metadata": {
    "collapsed": false,
    "pycharm": {
     "name": "#%%\n",
     "is_executing": false
    }
   }
  },
  {
   "cell_type": "code",
   "execution_count": 24,
   "outputs": [
    {
     "data": {
      "text/plain": "array([0, 0, 2, 0, 2, 0, 2, 0, 1, 0, 0, 2, 1, 0, 0, 0, 1, 2, 0, 0, 1, 1,\n       2, 0, 1, 2, 0, 0, 2, 2, 2, 2, 0, 1, 1, 0, 0, 0])"
     },
     "metadata": {},
     "output_type": "execute_result",
     "execution_count": 24
    }
   ],
   "source": [
    "predicted = clf_iris.predict(X_test)\n",
    "predicted"
   ],
   "metadata": {
    "collapsed": false,
    "pycharm": {
     "name": "#%%\n",
     "is_executing": false
    }
   }
  },
  {
   "cell_type": "markdown",
   "source": [
    "## ЗАДАЧА\n",
    "\n",
    "Теперь задание - осуществите перебор всех деревьев на данных ириса по следующим параметрам:\n",
    "максимальная глубина - от 1 до 10 уровней\n",
    "минимальное число проб для разделения - от 2 до 10\n",
    "минимальное число проб в листе - от 1 до 10\n",
    "и сохраните в переменную best_tree лучшее дерево. Переменную с GridSearchCV назовите search"
   ],
   "metadata": {
    "collapsed": false,
    "pycharm": {
     "name": "#%% md\n"
    }
   }
  },
  {
   "cell_type": "code",
   "execution_count": 25,
   "outputs": [],
   "source": [
    "iris = load_iris()\n",
    "X = iris.data\n",
    "y = iris.target"
   ],
   "metadata": {
    "collapsed": false,
    "pycharm": {
     "name": "#%%\n",
     "is_executing": false
    }
   }
  },
  {
   "cell_type": "code",
   "execution_count": 27,
   "outputs": [],
   "source": [
    "parameters = {'max_depth': range(1, 30), 'min_samples_split': range(2, 10), 'min_samples_leaf': range(1, 10)}\n",
    "iris_clf = tree.DecisionTreeClassifier()\n",
    "search = GridSearchCV(iris_clf, parameters)\n",
    "search.fit(X, y)\n",
    "best_tree = search.best_estimator_"
   ],
   "metadata": {
    "collapsed": false,
    "pycharm": {
     "name": "#%%\n",
     "is_executing": false
    }
   }
  },
  {
   "cell_type": "markdown",
   "source": [
    "## ЗАДАЧА\n",
    "\n",
    "Осуществим поиск по тем же параметрам что и в предыдущем задании с помощью RandomizedSearchCV\n",
    "\n",
    "максимальная глубина - от 1 до 10 уровней\n",
    "минимальное число проб для разделения - от 2 до 10\n",
    "минимальное число проб в листе - от 1 до 10\n",
    "Cохраните в переменную best_tree лучшее дерево. Переменную с RandomizedSearchCV назовите search"
   ],
   "metadata": {
    "collapsed": false,
    "pycharm": {
     "name": "#%% md\n"
    }
   }
  },
  {
   "cell_type": "code",
   "execution_count": 29,
   "outputs": [],
   "source": [
    "parameters = {'max_depth': range(1, 30), 'min_samples_split': range(2, 10), 'min_samples_leaf': range(1, 10)}\n",
    "iris_clf = tree.DecisionTreeClassifier()\n",
    "search = RandomizedSearchCV(iris_clf, parameters)\n",
    "search.fit(X, y)\n",
    "best_tree = search.best_estimator_\n"
   ],
   "metadata": {
    "collapsed": false,
    "pycharm": {
     "name": "#%%\n",
     "is_executing": false
    }
   }
  }
 ],
 "metadata": {
  "kernelspec": {
   "display_name": "Python 3",
   "language": "python",
   "name": "python3"
  },
  "language_info": {
   "codemirror_mode": {
    "name": "ipython",
    "version": 2
   },
   "file_extension": ".py",
   "mimetype": "text/x-python",
   "name": "python",
   "nbconvert_exporter": "python",
   "pygments_lexer": "ipython2",
   "version": "2.7.6"
  },
  "pycharm": {
   "stem_cell": {
    "cell_type": "raw",
    "source": [],
    "metadata": {
     "collapsed": false
    }
   }
  }
 },
 "nbformat": 4,
 "nbformat_minor": 0
}