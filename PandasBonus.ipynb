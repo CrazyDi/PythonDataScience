{
 "cells": [
  {
   "cell_type": "markdown",
   "metadata": {
    "collapsed": true,
    "pycharm": {
     "name": "#%% md\n"
    }
   },
   "source": [
    "# Дополнительные сведения о Pandas"
   ]
  },
  {
   "cell_type": "code",
   "execution_count": 1,
   "outputs": [],
   "source": [
    "import numpy as np\n",
    "import pandas as pd"
   ],
   "metadata": {
    "collapsed": false,
    "pycharm": {
     "name": "#%%\n",
     "is_executing": false
    }
   }
  },
  {
   "cell_type": "markdown",
   "source": [
    "## Данные"
   ],
   "metadata": {
    "collapsed": false,
    "pycharm": {
     "name": "#%% md\n"
    }
   }
  },
  {
   "cell_type": "code",
   "execution_count": 2,
   "outputs": [
    {
     "data": {
      "text/plain": "   color      director_name  num_critic_for_reviews  duration  \\\n0  Color      James Cameron                   723.0     178.0   \n1  Color     Gore Verbinski                   302.0     169.0   \n2  Color         Sam Mendes                   602.0     148.0   \n3  Color  Christopher Nolan                   813.0     164.0   \n4    NaN        Doug Walker                     NaN       NaN   \n\n   director_facebook_likes  actor_3_facebook_likes      actor_2_name  \\\n0                      0.0                   855.0  Joel David Moore   \n1                    563.0                  1000.0     Orlando Bloom   \n2                      0.0                   161.0      Rory Kinnear   \n3                  22000.0                 23000.0    Christian Bale   \n4                    131.0                     NaN        Rob Walker   \n\n   actor_1_facebook_likes        gross                           genres  ...  \\\n0                  1000.0  760505847.0  Action|Adventure|Fantasy|Sci-Fi  ...   \n1                 40000.0  309404152.0         Action|Adventure|Fantasy  ...   \n2                 11000.0  200074175.0        Action|Adventure|Thriller  ...   \n3                 27000.0  448130642.0                  Action|Thriller  ...   \n4                   131.0          NaN                      Documentary  ...   \n\n  num_user_for_reviews language  country  content_rating       budget  \\\n0               3054.0  English      USA           PG-13  237000000.0   \n1               1238.0  English      USA           PG-13  300000000.0   \n2                994.0  English       UK           PG-13  245000000.0   \n3               2701.0  English      USA           PG-13  250000000.0   \n4                  NaN      NaN      NaN             NaN          NaN   \n\n   title_year actor_2_facebook_likes imdb_score  aspect_ratio  \\\n0      2009.0                  936.0        7.9          1.78   \n1      2007.0                 5000.0        7.1          2.35   \n2      2015.0                  393.0        6.8          2.35   \n3      2012.0                23000.0        8.5          2.35   \n4         NaN                   12.0        7.1           NaN   \n\n  movie_facebook_likes  \n0                33000  \n1                    0  \n2                85000  \n3               164000  \n4                    0  \n\n[5 rows x 28 columns]",
      "text/html": "<div>\n<style scoped>\n    .dataframe tbody tr th:only-of-type {\n        vertical-align: middle;\n    }\n\n    .dataframe tbody tr th {\n        vertical-align: top;\n    }\n\n    .dataframe thead th {\n        text-align: right;\n    }\n</style>\n<table border=\"1\" class=\"dataframe\">\n  <thead>\n    <tr style=\"text-align: right;\">\n      <th></th>\n      <th>color</th>\n      <th>director_name</th>\n      <th>num_critic_for_reviews</th>\n      <th>duration</th>\n      <th>director_facebook_likes</th>\n      <th>actor_3_facebook_likes</th>\n      <th>actor_2_name</th>\n      <th>actor_1_facebook_likes</th>\n      <th>gross</th>\n      <th>genres</th>\n      <th>...</th>\n      <th>num_user_for_reviews</th>\n      <th>language</th>\n      <th>country</th>\n      <th>content_rating</th>\n      <th>budget</th>\n      <th>title_year</th>\n      <th>actor_2_facebook_likes</th>\n      <th>imdb_score</th>\n      <th>aspect_ratio</th>\n      <th>movie_facebook_likes</th>\n    </tr>\n  </thead>\n  <tbody>\n    <tr>\n      <th>0</th>\n      <td>Color</td>\n      <td>James Cameron</td>\n      <td>723.0</td>\n      <td>178.0</td>\n      <td>0.0</td>\n      <td>855.0</td>\n      <td>Joel David Moore</td>\n      <td>1000.0</td>\n      <td>760505847.0</td>\n      <td>Action|Adventure|Fantasy|Sci-Fi</td>\n      <td>...</td>\n      <td>3054.0</td>\n      <td>English</td>\n      <td>USA</td>\n      <td>PG-13</td>\n      <td>237000000.0</td>\n      <td>2009.0</td>\n      <td>936.0</td>\n      <td>7.9</td>\n      <td>1.78</td>\n      <td>33000</td>\n    </tr>\n    <tr>\n      <th>1</th>\n      <td>Color</td>\n      <td>Gore Verbinski</td>\n      <td>302.0</td>\n      <td>169.0</td>\n      <td>563.0</td>\n      <td>1000.0</td>\n      <td>Orlando Bloom</td>\n      <td>40000.0</td>\n      <td>309404152.0</td>\n      <td>Action|Adventure|Fantasy</td>\n      <td>...</td>\n      <td>1238.0</td>\n      <td>English</td>\n      <td>USA</td>\n      <td>PG-13</td>\n      <td>300000000.0</td>\n      <td>2007.0</td>\n      <td>5000.0</td>\n      <td>7.1</td>\n      <td>2.35</td>\n      <td>0</td>\n    </tr>\n    <tr>\n      <th>2</th>\n      <td>Color</td>\n      <td>Sam Mendes</td>\n      <td>602.0</td>\n      <td>148.0</td>\n      <td>0.0</td>\n      <td>161.0</td>\n      <td>Rory Kinnear</td>\n      <td>11000.0</td>\n      <td>200074175.0</td>\n      <td>Action|Adventure|Thriller</td>\n      <td>...</td>\n      <td>994.0</td>\n      <td>English</td>\n      <td>UK</td>\n      <td>PG-13</td>\n      <td>245000000.0</td>\n      <td>2015.0</td>\n      <td>393.0</td>\n      <td>6.8</td>\n      <td>2.35</td>\n      <td>85000</td>\n    </tr>\n    <tr>\n      <th>3</th>\n      <td>Color</td>\n      <td>Christopher Nolan</td>\n      <td>813.0</td>\n      <td>164.0</td>\n      <td>22000.0</td>\n      <td>23000.0</td>\n      <td>Christian Bale</td>\n      <td>27000.0</td>\n      <td>448130642.0</td>\n      <td>Action|Thriller</td>\n      <td>...</td>\n      <td>2701.0</td>\n      <td>English</td>\n      <td>USA</td>\n      <td>PG-13</td>\n      <td>250000000.0</td>\n      <td>2012.0</td>\n      <td>23000.0</td>\n      <td>8.5</td>\n      <td>2.35</td>\n      <td>164000</td>\n    </tr>\n    <tr>\n      <th>4</th>\n      <td>NaN</td>\n      <td>Doug Walker</td>\n      <td>NaN</td>\n      <td>NaN</td>\n      <td>131.0</td>\n      <td>NaN</td>\n      <td>Rob Walker</td>\n      <td>131.0</td>\n      <td>NaN</td>\n      <td>Documentary</td>\n      <td>...</td>\n      <td>NaN</td>\n      <td>NaN</td>\n      <td>NaN</td>\n      <td>NaN</td>\n      <td>NaN</td>\n      <td>NaN</td>\n      <td>12.0</td>\n      <td>7.1</td>\n      <td>NaN</td>\n      <td>0</td>\n    </tr>\n  </tbody>\n</table>\n<p>5 rows × 28 columns</p>\n</div>"
     },
     "metadata": {},
     "output_type": "execute_result",
     "execution_count": 2
    }
   ],
   "source": [
    "movie = pd.read_csv('data/movie_metadata.csv')\n",
    "movie.head()"
   ],
   "metadata": {
    "collapsed": false,
    "pycharm": {
     "name": "#%%\n",
     "is_executing": false
    }
   }
  },
  {
   "cell_type": "code",
   "execution_count": 3,
   "outputs": [
    {
     "data": {
      "text/plain": "                                         movie_title  \\\n0                                            Avatar    \n1          Pirates of the Caribbean: At World's End    \n2                                           Spectre    \n3                             The Dark Knight Rises    \n4  Star Wars: Episode VII - The Force Awakens    ...   \n\n                            genres  \n0  Action|Adventure|Fantasy|Sci-Fi  \n1         Action|Adventure|Fantasy  \n2        Action|Adventure|Thriller  \n3                  Action|Thriller  \n4                      Documentary  ",
      "text/html": "<div>\n<style scoped>\n    .dataframe tbody tr th:only-of-type {\n        vertical-align: middle;\n    }\n\n    .dataframe tbody tr th {\n        vertical-align: top;\n    }\n\n    .dataframe thead th {\n        text-align: right;\n    }\n</style>\n<table border=\"1\" class=\"dataframe\">\n  <thead>\n    <tr style=\"text-align: right;\">\n      <th></th>\n      <th>movie_title</th>\n      <th>genres</th>\n    </tr>\n  </thead>\n  <tbody>\n    <tr>\n      <th>0</th>\n      <td>Avatar</td>\n      <td>Action|Adventure|Fantasy|Sci-Fi</td>\n    </tr>\n    <tr>\n      <th>1</th>\n      <td>Pirates of the Caribbean: At World's End</td>\n      <td>Action|Adventure|Fantasy</td>\n    </tr>\n    <tr>\n      <th>2</th>\n      <td>Spectre</td>\n      <td>Action|Adventure|Thriller</td>\n    </tr>\n    <tr>\n      <th>3</th>\n      <td>The Dark Knight Rises</td>\n      <td>Action|Thriller</td>\n    </tr>\n    <tr>\n      <th>4</th>\n      <td>Star Wars: Episode VII - The Force Awakens    ...</td>\n      <td>Documentary</td>\n    </tr>\n  </tbody>\n</table>\n</div>"
     },
     "metadata": {},
     "output_type": "execute_result",
     "execution_count": 3
    }
   ],
   "source": [
    "genres = movie[['movie_title', 'genres']]\n",
    "genres.head()"
   ],
   "metadata": {
    "collapsed": false,
    "pycharm": {
     "name": "#%%\n",
     "is_executing": false
    }
   }
  },
  {
   "cell_type": "code",
   "execution_count": 4,
   "outputs": [],
   "source": [
    "def reversator(value):\n",
    "    return value[::-1]"
   ],
   "metadata": {
    "collapsed": false,
    "pycharm": {
     "name": "#%%\n",
     "is_executing": false
    }
   }
  },
  {
   "cell_type": "code",
   "execution_count": 5,
   "outputs": [
    {
     "data": {
      "text/plain": "        budget  duration\n0  237000000.0     178.0\n1  300000000.0     169.0\n2  245000000.0     148.0\n3  250000000.0     164.0\n4          NaN       NaN",
      "text/html": "<div>\n<style scoped>\n    .dataframe tbody tr th:only-of-type {\n        vertical-align: middle;\n    }\n\n    .dataframe tbody tr th {\n        vertical-align: top;\n    }\n\n    .dataframe thead th {\n        text-align: right;\n    }\n</style>\n<table border=\"1\" class=\"dataframe\">\n  <thead>\n    <tr style=\"text-align: right;\">\n      <th></th>\n      <th>budget</th>\n      <th>duration</th>\n    </tr>\n  </thead>\n  <tbody>\n    <tr>\n      <th>0</th>\n      <td>237000000.0</td>\n      <td>178.0</td>\n    </tr>\n    <tr>\n      <th>1</th>\n      <td>300000000.0</td>\n      <td>169.0</td>\n    </tr>\n    <tr>\n      <th>2</th>\n      <td>245000000.0</td>\n      <td>148.0</td>\n    </tr>\n    <tr>\n      <th>3</th>\n      <td>250000000.0</td>\n      <td>164.0</td>\n    </tr>\n    <tr>\n      <th>4</th>\n      <td>NaN</td>\n      <td>NaN</td>\n    </tr>\n  </tbody>\n</table>\n</div>"
     },
     "metadata": {},
     "output_type": "execute_result",
     "execution_count": 5
    }
   ],
   "source": [
    "budget = movie[['budget', 'duration']]\n",
    "budget.head()"
   ],
   "metadata": {
    "collapsed": false,
    "pycharm": {
     "name": "#%%\n",
     "is_executing": false
    }
   }
  },
  {
   "cell_type": "code",
   "execution_count": 6,
   "outputs": [
    {
     "data": {
      "text/plain": "        budget  duration\n0  237000001.0     179.0\n1  300000001.0     170.0\n2  245000001.0     149.0\n3  250000001.0     165.0\n4          NaN       NaN",
      "text/html": "<div>\n<style scoped>\n    .dataframe tbody tr th:only-of-type {\n        vertical-align: middle;\n    }\n\n    .dataframe tbody tr th {\n        vertical-align: top;\n    }\n\n    .dataframe thead th {\n        text-align: right;\n    }\n</style>\n<table border=\"1\" class=\"dataframe\">\n  <thead>\n    <tr style=\"text-align: right;\">\n      <th></th>\n      <th>budget</th>\n      <th>duration</th>\n    </tr>\n  </thead>\n  <tbody>\n    <tr>\n      <th>0</th>\n      <td>237000001.0</td>\n      <td>179.0</td>\n    </tr>\n    <tr>\n      <th>1</th>\n      <td>300000001.0</td>\n      <td>170.0</td>\n    </tr>\n    <tr>\n      <th>2</th>\n      <td>245000001.0</td>\n      <td>149.0</td>\n    </tr>\n    <tr>\n      <th>3</th>\n      <td>250000001.0</td>\n      <td>165.0</td>\n    </tr>\n    <tr>\n      <th>4</th>\n      <td>NaN</td>\n      <td>NaN</td>\n    </tr>\n  </tbody>\n</table>\n</div>"
     },
     "metadata": {},
     "output_type": "execute_result",
     "execution_count": 6
    }
   ],
   "source": [
    "budget.applymap(lambda x: x + 1).head()"
   ],
   "metadata": {
    "collapsed": false,
    "pycharm": {
     "name": "#%%\n",
     "is_executing": false
    }
   }
  },
  {
   "cell_type": "code",
   "execution_count": 7,
   "outputs": [
    {
     "data": {
      "text/plain": "budget      3.975262e+07\nduration    1.072011e+02\ndtype: float64"
     },
     "metadata": {},
     "output_type": "execute_result",
     "execution_count": 7
    }
   ],
   "source": [
    "budget.apply(np.mean, axis=0)"
   ],
   "metadata": {
    "collapsed": false,
    "pycharm": {
     "name": "#%%\n",
     "is_executing": false
    }
   }
  },
  {
   "cell_type": "code",
   "execution_count": 8,
   "outputs": [
    {
     "data": {
      "text/plain": "        budget  duration\n0  237000001.0     179.0\n1  300000001.0     170.0\n2  245000001.0     149.0\n3  250000001.0     165.0\n4          NaN       NaN",
      "text/html": "<div>\n<style scoped>\n    .dataframe tbody tr th:only-of-type {\n        vertical-align: middle;\n    }\n\n    .dataframe tbody tr th {\n        vertical-align: top;\n    }\n\n    .dataframe thead th {\n        text-align: right;\n    }\n</style>\n<table border=\"1\" class=\"dataframe\">\n  <thead>\n    <tr style=\"text-align: right;\">\n      <th></th>\n      <th>budget</th>\n      <th>duration</th>\n    </tr>\n  </thead>\n  <tbody>\n    <tr>\n      <th>0</th>\n      <td>237000001.0</td>\n      <td>179.0</td>\n    </tr>\n    <tr>\n      <th>1</th>\n      <td>300000001.0</td>\n      <td>170.0</td>\n    </tr>\n    <tr>\n      <th>2</th>\n      <td>245000001.0</td>\n      <td>149.0</td>\n    </tr>\n    <tr>\n      <th>3</th>\n      <td>250000001.0</td>\n      <td>165.0</td>\n    </tr>\n    <tr>\n      <th>4</th>\n      <td>NaN</td>\n      <td>NaN</td>\n    </tr>\n  </tbody>\n</table>\n</div>"
     },
     "metadata": {},
     "output_type": "execute_result",
     "execution_count": 8
    }
   ],
   "source": [
    "budget.apply(lambda x: x + 1).head()"
   ],
   "metadata": {
    "collapsed": false,
    "pycharm": {
     "name": "#%%\n",
     "is_executing": false
    }
   }
  },
  {
   "cell_type": "code",
   "execution_count": 9,
   "outputs": [],
   "source": [
    "def mm(col):\n",
    "    return np.mean(col) + 1"
   ],
   "metadata": {
    "collapsed": false,
    "pycharm": {
     "name": "#%%\n",
     "is_executing": false
    }
   }
  },
  {
   "cell_type": "code",
   "execution_count": 10,
   "outputs": [
    {
     "data": {
      "text/plain": "budget      3.975262e+07\nduration    1.082011e+02\ndtype: float64"
     },
     "metadata": {},
     "output_type": "execute_result",
     "execution_count": 10
    }
   ],
   "source": [
    "budget.apply(mm)"
   ],
   "metadata": {
    "collapsed": false,
    "pycharm": {
     "name": "#%%\n",
     "is_executing": false
    }
   }
  },
  {
   "cell_type": "code",
   "execution_count": 11,
   "outputs": [
    {
     "data": {
      "text/plain": "   Unnamed: 0  sepal length  sepal width  petal length  petal width  species\n0           0           5.1          3.5           1.4          0.2        0\n1           1           4.9          3.0           1.4          0.2        0\n2           2           4.7          3.2           1.3          0.2        0\n3           3           4.6          3.1           1.5          0.2        0\n4           4           5.0          3.6           1.4          0.2        0",
      "text/html": "<div>\n<style scoped>\n    .dataframe tbody tr th:only-of-type {\n        vertical-align: middle;\n    }\n\n    .dataframe tbody tr th {\n        vertical-align: top;\n    }\n\n    .dataframe thead th {\n        text-align: right;\n    }\n</style>\n<table border=\"1\" class=\"dataframe\">\n  <thead>\n    <tr style=\"text-align: right;\">\n      <th></th>\n      <th>Unnamed: 0</th>\n      <th>sepal length</th>\n      <th>sepal width</th>\n      <th>petal length</th>\n      <th>petal width</th>\n      <th>species</th>\n    </tr>\n  </thead>\n  <tbody>\n    <tr>\n      <th>0</th>\n      <td>0</td>\n      <td>5.1</td>\n      <td>3.5</td>\n      <td>1.4</td>\n      <td>0.2</td>\n      <td>0</td>\n    </tr>\n    <tr>\n      <th>1</th>\n      <td>1</td>\n      <td>4.9</td>\n      <td>3.0</td>\n      <td>1.4</td>\n      <td>0.2</td>\n      <td>0</td>\n    </tr>\n    <tr>\n      <th>2</th>\n      <td>2</td>\n      <td>4.7</td>\n      <td>3.2</td>\n      <td>1.3</td>\n      <td>0.2</td>\n      <td>0</td>\n    </tr>\n    <tr>\n      <th>3</th>\n      <td>3</td>\n      <td>4.6</td>\n      <td>3.1</td>\n      <td>1.5</td>\n      <td>0.2</td>\n      <td>0</td>\n    </tr>\n    <tr>\n      <th>4</th>\n      <td>4</td>\n      <td>5.0</td>\n      <td>3.6</td>\n      <td>1.4</td>\n      <td>0.2</td>\n      <td>0</td>\n    </tr>\n  </tbody>\n</table>\n</div>"
     },
     "metadata": {},
     "output_type": "execute_result",
     "execution_count": 11
    }
   ],
   "source": [
    "iris = pd.read_csv('data/iris.csv')\n",
    "iris.head()"
   ],
   "metadata": {
    "collapsed": false,
    "pycharm": {
     "name": "#%%\n",
     "is_executing": false
    }
   }
  },
  {
   "cell_type": "code",
   "execution_count": 12,
   "outputs": [
    {
     "name": "stdout",
     "text": [
      "209 µs ± 5.18 µs per loop (mean ± std. dev. of 7 runs, 1000 loops each)\n"
     ],
     "output_type": "stream"
    }
   ],
   "source": [
    "%%timeit\n",
    "iris.mean(axis=0)"
   ],
   "metadata": {
    "collapsed": false,
    "pycharm": {
     "name": "#%%\n",
     "is_executing": false
    }
   }
  },
  {
   "cell_type": "code",
   "execution_count": 14,
   "outputs": [
    {
     "name": "stdout",
     "text": [
      "1.04 ms ± 8.67 µs per loop (mean ± std. dev. of 7 runs, 1000 loops each)\n"
     ],
     "output_type": "stream"
    }
   ],
   "source": [
    "%%timeit \n",
    "iris.apply(np.mean)"
   ],
   "metadata": {
    "collapsed": false,
    "pycharm": {
     "name": "#%%\n",
     "is_executing": false
    }
   }
  },
  {
   "cell_type": "code",
   "execution_count": 15,
   "outputs": [
    {
     "name": "stdout",
     "text": [
      "265 µs ± 5.72 µs per loop (mean ± std. dev. of 7 runs, 1000 loops each)\n"
     ],
     "output_type": "stream"
    }
   ],
   "source": [
    "%%timeit\n",
    "iris.apply('mean')"
   ],
   "metadata": {
    "collapsed": false,
    "pycharm": {
     "name": "#%%\n",
     "is_executing": false
    }
   }
  },
  {
   "cell_type": "code",
   "execution_count": 16,
   "outputs": [
    {
     "name": "stdout",
     "text": [
      "10.2 ms ± 255 µs per loop (mean ± std. dev. of 7 runs, 100 loops each)\n"
     ],
     "output_type": "stream"
    }
   ],
   "source": [
    "%%timeit\n",
    "iris.describe().loc['mean']"
   ],
   "metadata": {
    "collapsed": false,
    "pycharm": {
     "name": "#%%\n",
     "is_executing": false
    }
   }
  },
  {
   "cell_type": "markdown",
   "source": [
    "## TIMESERIES"
   ],
   "metadata": {
    "collapsed": false
   }
  },
  {
   "cell_type": "code",
   "execution_count": 19,
   "outputs": [
    {
     "data": {
      "text/plain": "              Open    High     Low   Close    Volume\nDate                                                \n2010-01-04  136.25  136.61  133.14  133.90   7600543\n2010-01-05  133.43  135.48  131.81  134.69   8856456\n2010-01-06  134.60  134.73  131.65  132.25   7180977\n2010-01-07  132.01  132.32  128.80  130.00  11030124\n2010-01-08  130.56  133.68  129.03  133.52   9833829",
      "text/html": "<div>\n<style scoped>\n    .dataframe tbody tr th:only-of-type {\n        vertical-align: middle;\n    }\n\n    .dataframe tbody tr th {\n        vertical-align: top;\n    }\n\n    .dataframe thead th {\n        text-align: right;\n    }\n</style>\n<table border=\"1\" class=\"dataframe\">\n  <thead>\n    <tr style=\"text-align: right;\">\n      <th></th>\n      <th>Open</th>\n      <th>High</th>\n      <th>Low</th>\n      <th>Close</th>\n      <th>Volume</th>\n    </tr>\n    <tr>\n      <th>Date</th>\n      <th></th>\n      <th></th>\n      <th></th>\n      <th></th>\n      <th></th>\n    </tr>\n  </thead>\n  <tbody>\n    <tr>\n      <th>2010-01-04</th>\n      <td>136.25</td>\n      <td>136.61</td>\n      <td>133.14</td>\n      <td>133.90</td>\n      <td>7600543</td>\n    </tr>\n    <tr>\n      <th>2010-01-05</th>\n      <td>133.43</td>\n      <td>135.48</td>\n      <td>131.81</td>\n      <td>134.69</td>\n      <td>8856456</td>\n    </tr>\n    <tr>\n      <th>2010-01-06</th>\n      <td>134.60</td>\n      <td>134.73</td>\n      <td>131.65</td>\n      <td>132.25</td>\n      <td>7180977</td>\n    </tr>\n    <tr>\n      <th>2010-01-07</th>\n      <td>132.01</td>\n      <td>132.32</td>\n      <td>128.80</td>\n      <td>130.00</td>\n      <td>11030124</td>\n    </tr>\n    <tr>\n      <th>2010-01-08</th>\n      <td>130.56</td>\n      <td>133.68</td>\n      <td>129.03</td>\n      <td>133.52</td>\n      <td>9833829</td>\n    </tr>\n  </tbody>\n</table>\n</div>"
     },
     "metadata": {},
     "output_type": "execute_result",
     "execution_count": 19
    }
   ],
   "source": [
    "stock = pd.read_csv('data/amzn_stock.csv.txt', index_col='Date', parse_dates=True)\n",
    "stock.head()"
   ],
   "metadata": {
    "collapsed": false,
    "pycharm": {
     "name": "#%%\n",
     "is_executing": false
    }
   }
  },
  {
   "cell_type": "code",
   "execution_count": 21,
   "outputs": [
    {
     "data": {
      "text/plain": "DatetimeIndex(['2010-01-04', '2010-01-05', '2010-01-06', '2010-01-07',\n               '2010-01-08', '2010-01-11', '2010-01-12', '2010-01-13',\n               '2010-01-14', '2010-01-15',\n               ...\n               '2017-07-03', '2017-07-05', '2017-07-06', '2017-07-07',\n               '2017-07-10', '2017-07-11', '2017-07-12', '2017-07-13',\n               '2017-07-14', '2017-07-17'],\n              dtype='datetime64[ns]', name='Date', length=1896, freq=None)"
     },
     "metadata": {},
     "output_type": "execute_result",
     "execution_count": 21
    }
   ],
   "source": [
    "stock.index"
   ],
   "metadata": {
    "collapsed": false,
    "pycharm": {
     "name": "#%%\n",
     "is_executing": false
    }
   }
  },
  {
   "cell_type": "code",
   "execution_count": 22,
   "outputs": [
    {
     "data": {
      "text/plain": "              Open    High     Low   Close    Volume\nDate                                                \n2010-01-04  136.25  136.61  133.14  133.90   7600543\n2010-01-05  133.43  135.48  131.81  134.69   8856456\n2010-01-06  134.60  134.73  131.65  132.25   7180977\n2010-01-07  132.01  132.32  128.80  130.00  11030124\n2010-01-08  130.56  133.68  129.03  133.52   9833829\n...            ...     ...     ...     ...       ...\n2010-12-27  181.90  183.14  180.45  182.14   2249734\n2010-12-28  182.10  182.77  181.05  181.09   1975718\n2010-12-29  181.80  184.35  180.41  183.37   3122379\n2010-12-30  183.92  184.55  182.75  182.75   1961549\n2010-12-31  181.96  182.30  179.51  180.00   3453895\n\n[251 rows x 5 columns]",
      "text/html": "<div>\n<style scoped>\n    .dataframe tbody tr th:only-of-type {\n        vertical-align: middle;\n    }\n\n    .dataframe tbody tr th {\n        vertical-align: top;\n    }\n\n    .dataframe thead th {\n        text-align: right;\n    }\n</style>\n<table border=\"1\" class=\"dataframe\">\n  <thead>\n    <tr style=\"text-align: right;\">\n      <th></th>\n      <th>Open</th>\n      <th>High</th>\n      <th>Low</th>\n      <th>Close</th>\n      <th>Volume</th>\n    </tr>\n    <tr>\n      <th>Date</th>\n      <th></th>\n      <th></th>\n      <th></th>\n      <th></th>\n      <th></th>\n    </tr>\n  </thead>\n  <tbody>\n    <tr>\n      <th>2010-01-04</th>\n      <td>136.25</td>\n      <td>136.61</td>\n      <td>133.14</td>\n      <td>133.90</td>\n      <td>7600543</td>\n    </tr>\n    <tr>\n      <th>2010-01-05</th>\n      <td>133.43</td>\n      <td>135.48</td>\n      <td>131.81</td>\n      <td>134.69</td>\n      <td>8856456</td>\n    </tr>\n    <tr>\n      <th>2010-01-06</th>\n      <td>134.60</td>\n      <td>134.73</td>\n      <td>131.65</td>\n      <td>132.25</td>\n      <td>7180977</td>\n    </tr>\n    <tr>\n      <th>2010-01-07</th>\n      <td>132.01</td>\n      <td>132.32</td>\n      <td>128.80</td>\n      <td>130.00</td>\n      <td>11030124</td>\n    </tr>\n    <tr>\n      <th>2010-01-08</th>\n      <td>130.56</td>\n      <td>133.68</td>\n      <td>129.03</td>\n      <td>133.52</td>\n      <td>9833829</td>\n    </tr>\n    <tr>\n      <th>...</th>\n      <td>...</td>\n      <td>...</td>\n      <td>...</td>\n      <td>...</td>\n      <td>...</td>\n    </tr>\n    <tr>\n      <th>2010-12-27</th>\n      <td>181.90</td>\n      <td>183.14</td>\n      <td>180.45</td>\n      <td>182.14</td>\n      <td>2249734</td>\n    </tr>\n    <tr>\n      <th>2010-12-28</th>\n      <td>182.10</td>\n      <td>182.77</td>\n      <td>181.05</td>\n      <td>181.09</td>\n      <td>1975718</td>\n    </tr>\n    <tr>\n      <th>2010-12-29</th>\n      <td>181.80</td>\n      <td>184.35</td>\n      <td>180.41</td>\n      <td>183.37</td>\n      <td>3122379</td>\n    </tr>\n    <tr>\n      <th>2010-12-30</th>\n      <td>183.92</td>\n      <td>184.55</td>\n      <td>182.75</td>\n      <td>182.75</td>\n      <td>1961549</td>\n    </tr>\n    <tr>\n      <th>2010-12-31</th>\n      <td>181.96</td>\n      <td>182.30</td>\n      <td>179.51</td>\n      <td>180.00</td>\n      <td>3453895</td>\n    </tr>\n  </tbody>\n</table>\n<p>251 rows × 5 columns</p>\n</div>"
     },
     "metadata": {},
     "output_type": "execute_result",
     "execution_count": 22
    }
   ],
   "source": [
    "stock['2010']"
   ],
   "metadata": {
    "collapsed": false,
    "pycharm": {
     "name": "#%%\n",
     "is_executing": false
    }
   }
  },
  {
   "cell_type": "code",
   "execution_count": 23,
   "outputs": [
    {
     "data": {
      "text/plain": "              Open    High     Low   Close    Volume\nDate                                                \n2010-02-01  123.18  124.86  113.82  118.87  37774317\n2010-02-02  118.79  118.98  114.40  118.12  23084986\n2010-02-03  117.12  119.61  116.56  119.10  12409012\n2010-02-04  118.64  120.33  115.74  115.94  12783912\n2010-02-05  115.88  117.65  114.10  117.39  11027086\n2010-02-08  119.38  121.00  116.56  116.83   9898391\n2010-02-09  118.20  119.09  117.00  118.03   9227158\n2010-02-10  118.00  118.61  116.00  117.36   6236250\n2010-02-11  117.21  120.42  116.50  120.09   8344469\n2010-02-12  118.99  119.94  117.50  119.66   8075533\n2010-02-16  120.06  120.50  117.18  117.53   8938494\n2010-02-17  117.08  117.13  115.55  116.31   8947449\n2010-02-18  115.84  118.51  114.82  118.08   9807497\n2010-02-19  117.91  119.09  117.00  117.52   7117494\n2010-02-22  117.37  118.97  116.18  118.01   6809386\n2010-02-23  118.01  119.25  116.51  117.24   7069011\n2010-02-24  117.96  119.80  117.15  119.72   7393039\n2010-02-25  118.17  118.34  115.85  118.20   9535889\n2010-02-26  117.88  119.43  117.00  118.40   5721864\n2010-03-01  118.85  124.66  117.53  124.54  13300501\n2010-03-02  125.01  127.35  124.80  125.53  12098298\n2010-03-03  125.40  126.94  124.43  125.89   6443021\n2010-03-04  125.96  128.85  125.57  128.53   7509644\n2010-03-05  129.13  129.45  127.07  128.91   6771126\n2010-03-08  128.30  130.85  127.71  130.11   5607327\n2010-03-09  129.59  130.81  127.97  128.82   6071029\n2010-03-10  129.11  131.17  128.48  130.51   5627431\n2010-03-11  130.45  133.62  130.36  133.58   7244668\n2010-03-12  134.20  134.20  131.18  131.82   6151927\n2010-03-15  131.70  132.00  128.63  131.13   6329310\n2010-03-16  131.24  132.29  130.50  131.79   4136434\n2010-03-17  132.41  132.69  131.22  131.34   4358962\n2010-03-18  131.02  132.85  130.44  132.76   5024120\n2010-03-19  133.71  133.71  129.66  130.35   8906225\n2010-03-22  130.20  130.96  128.64  130.47   5383302\n2010-03-23  130.89  130.94  128.07  129.26   4213607\n2010-03-24  128.64  129.40  127.20  128.04   4703238\n2010-03-25  129.14  136.91  128.04  134.73  16212627\n2010-03-26  134.90  136.99  133.76  135.06   6575480\n2010-03-29  135.37  136.63  134.33  135.12   4627668\n2010-03-30  135.74  138.19  135.36  136.58   6202284\n2010-03-31  136.00  136.80  134.48  135.77   4602196",
      "text/html": "<div>\n<style scoped>\n    .dataframe tbody tr th:only-of-type {\n        vertical-align: middle;\n    }\n\n    .dataframe tbody tr th {\n        vertical-align: top;\n    }\n\n    .dataframe thead th {\n        text-align: right;\n    }\n</style>\n<table border=\"1\" class=\"dataframe\">\n  <thead>\n    <tr style=\"text-align: right;\">\n      <th></th>\n      <th>Open</th>\n      <th>High</th>\n      <th>Low</th>\n      <th>Close</th>\n      <th>Volume</th>\n    </tr>\n    <tr>\n      <th>Date</th>\n      <th></th>\n      <th></th>\n      <th></th>\n      <th></th>\n      <th></th>\n    </tr>\n  </thead>\n  <tbody>\n    <tr>\n      <th>2010-02-01</th>\n      <td>123.18</td>\n      <td>124.86</td>\n      <td>113.82</td>\n      <td>118.87</td>\n      <td>37774317</td>\n    </tr>\n    <tr>\n      <th>2010-02-02</th>\n      <td>118.79</td>\n      <td>118.98</td>\n      <td>114.40</td>\n      <td>118.12</td>\n      <td>23084986</td>\n    </tr>\n    <tr>\n      <th>2010-02-03</th>\n      <td>117.12</td>\n      <td>119.61</td>\n      <td>116.56</td>\n      <td>119.10</td>\n      <td>12409012</td>\n    </tr>\n    <tr>\n      <th>2010-02-04</th>\n      <td>118.64</td>\n      <td>120.33</td>\n      <td>115.74</td>\n      <td>115.94</td>\n      <td>12783912</td>\n    </tr>\n    <tr>\n      <th>2010-02-05</th>\n      <td>115.88</td>\n      <td>117.65</td>\n      <td>114.10</td>\n      <td>117.39</td>\n      <td>11027086</td>\n    </tr>\n    <tr>\n      <th>2010-02-08</th>\n      <td>119.38</td>\n      <td>121.00</td>\n      <td>116.56</td>\n      <td>116.83</td>\n      <td>9898391</td>\n    </tr>\n    <tr>\n      <th>2010-02-09</th>\n      <td>118.20</td>\n      <td>119.09</td>\n      <td>117.00</td>\n      <td>118.03</td>\n      <td>9227158</td>\n    </tr>\n    <tr>\n      <th>2010-02-10</th>\n      <td>118.00</td>\n      <td>118.61</td>\n      <td>116.00</td>\n      <td>117.36</td>\n      <td>6236250</td>\n    </tr>\n    <tr>\n      <th>2010-02-11</th>\n      <td>117.21</td>\n      <td>120.42</td>\n      <td>116.50</td>\n      <td>120.09</td>\n      <td>8344469</td>\n    </tr>\n    <tr>\n      <th>2010-02-12</th>\n      <td>118.99</td>\n      <td>119.94</td>\n      <td>117.50</td>\n      <td>119.66</td>\n      <td>8075533</td>\n    </tr>\n    <tr>\n      <th>2010-02-16</th>\n      <td>120.06</td>\n      <td>120.50</td>\n      <td>117.18</td>\n      <td>117.53</td>\n      <td>8938494</td>\n    </tr>\n    <tr>\n      <th>2010-02-17</th>\n      <td>117.08</td>\n      <td>117.13</td>\n      <td>115.55</td>\n      <td>116.31</td>\n      <td>8947449</td>\n    </tr>\n    <tr>\n      <th>2010-02-18</th>\n      <td>115.84</td>\n      <td>118.51</td>\n      <td>114.82</td>\n      <td>118.08</td>\n      <td>9807497</td>\n    </tr>\n    <tr>\n      <th>2010-02-19</th>\n      <td>117.91</td>\n      <td>119.09</td>\n      <td>117.00</td>\n      <td>117.52</td>\n      <td>7117494</td>\n    </tr>\n    <tr>\n      <th>2010-02-22</th>\n      <td>117.37</td>\n      <td>118.97</td>\n      <td>116.18</td>\n      <td>118.01</td>\n      <td>6809386</td>\n    </tr>\n    <tr>\n      <th>2010-02-23</th>\n      <td>118.01</td>\n      <td>119.25</td>\n      <td>116.51</td>\n      <td>117.24</td>\n      <td>7069011</td>\n    </tr>\n    <tr>\n      <th>2010-02-24</th>\n      <td>117.96</td>\n      <td>119.80</td>\n      <td>117.15</td>\n      <td>119.72</td>\n      <td>7393039</td>\n    </tr>\n    <tr>\n      <th>2010-02-25</th>\n      <td>118.17</td>\n      <td>118.34</td>\n      <td>115.85</td>\n      <td>118.20</td>\n      <td>9535889</td>\n    </tr>\n    <tr>\n      <th>2010-02-26</th>\n      <td>117.88</td>\n      <td>119.43</td>\n      <td>117.00</td>\n      <td>118.40</td>\n      <td>5721864</td>\n    </tr>\n    <tr>\n      <th>2010-03-01</th>\n      <td>118.85</td>\n      <td>124.66</td>\n      <td>117.53</td>\n      <td>124.54</td>\n      <td>13300501</td>\n    </tr>\n    <tr>\n      <th>2010-03-02</th>\n      <td>125.01</td>\n      <td>127.35</td>\n      <td>124.80</td>\n      <td>125.53</td>\n      <td>12098298</td>\n    </tr>\n    <tr>\n      <th>2010-03-03</th>\n      <td>125.40</td>\n      <td>126.94</td>\n      <td>124.43</td>\n      <td>125.89</td>\n      <td>6443021</td>\n    </tr>\n    <tr>\n      <th>2010-03-04</th>\n      <td>125.96</td>\n      <td>128.85</td>\n      <td>125.57</td>\n      <td>128.53</td>\n      <td>7509644</td>\n    </tr>\n    <tr>\n      <th>2010-03-05</th>\n      <td>129.13</td>\n      <td>129.45</td>\n      <td>127.07</td>\n      <td>128.91</td>\n      <td>6771126</td>\n    </tr>\n    <tr>\n      <th>2010-03-08</th>\n      <td>128.30</td>\n      <td>130.85</td>\n      <td>127.71</td>\n      <td>130.11</td>\n      <td>5607327</td>\n    </tr>\n    <tr>\n      <th>2010-03-09</th>\n      <td>129.59</td>\n      <td>130.81</td>\n      <td>127.97</td>\n      <td>128.82</td>\n      <td>6071029</td>\n    </tr>\n    <tr>\n      <th>2010-03-10</th>\n      <td>129.11</td>\n      <td>131.17</td>\n      <td>128.48</td>\n      <td>130.51</td>\n      <td>5627431</td>\n    </tr>\n    <tr>\n      <th>2010-03-11</th>\n      <td>130.45</td>\n      <td>133.62</td>\n      <td>130.36</td>\n      <td>133.58</td>\n      <td>7244668</td>\n    </tr>\n    <tr>\n      <th>2010-03-12</th>\n      <td>134.20</td>\n      <td>134.20</td>\n      <td>131.18</td>\n      <td>131.82</td>\n      <td>6151927</td>\n    </tr>\n    <tr>\n      <th>2010-03-15</th>\n      <td>131.70</td>\n      <td>132.00</td>\n      <td>128.63</td>\n      <td>131.13</td>\n      <td>6329310</td>\n    </tr>\n    <tr>\n      <th>2010-03-16</th>\n      <td>131.24</td>\n      <td>132.29</td>\n      <td>130.50</td>\n      <td>131.79</td>\n      <td>4136434</td>\n    </tr>\n    <tr>\n      <th>2010-03-17</th>\n      <td>132.41</td>\n      <td>132.69</td>\n      <td>131.22</td>\n      <td>131.34</td>\n      <td>4358962</td>\n    </tr>\n    <tr>\n      <th>2010-03-18</th>\n      <td>131.02</td>\n      <td>132.85</td>\n      <td>130.44</td>\n      <td>132.76</td>\n      <td>5024120</td>\n    </tr>\n    <tr>\n      <th>2010-03-19</th>\n      <td>133.71</td>\n      <td>133.71</td>\n      <td>129.66</td>\n      <td>130.35</td>\n      <td>8906225</td>\n    </tr>\n    <tr>\n      <th>2010-03-22</th>\n      <td>130.20</td>\n      <td>130.96</td>\n      <td>128.64</td>\n      <td>130.47</td>\n      <td>5383302</td>\n    </tr>\n    <tr>\n      <th>2010-03-23</th>\n      <td>130.89</td>\n      <td>130.94</td>\n      <td>128.07</td>\n      <td>129.26</td>\n      <td>4213607</td>\n    </tr>\n    <tr>\n      <th>2010-03-24</th>\n      <td>128.64</td>\n      <td>129.40</td>\n      <td>127.20</td>\n      <td>128.04</td>\n      <td>4703238</td>\n    </tr>\n    <tr>\n      <th>2010-03-25</th>\n      <td>129.14</td>\n      <td>136.91</td>\n      <td>128.04</td>\n      <td>134.73</td>\n      <td>16212627</td>\n    </tr>\n    <tr>\n      <th>2010-03-26</th>\n      <td>134.90</td>\n      <td>136.99</td>\n      <td>133.76</td>\n      <td>135.06</td>\n      <td>6575480</td>\n    </tr>\n    <tr>\n      <th>2010-03-29</th>\n      <td>135.37</td>\n      <td>136.63</td>\n      <td>134.33</td>\n      <td>135.12</td>\n      <td>4627668</td>\n    </tr>\n    <tr>\n      <th>2010-03-30</th>\n      <td>135.74</td>\n      <td>138.19</td>\n      <td>135.36</td>\n      <td>136.58</td>\n      <td>6202284</td>\n    </tr>\n    <tr>\n      <th>2010-03-31</th>\n      <td>136.00</td>\n      <td>136.80</td>\n      <td>134.48</td>\n      <td>135.77</td>\n      <td>4602196</td>\n    </tr>\n  </tbody>\n</table>\n</div>"
     },
     "metadata": {},
     "output_type": "execute_result",
     "execution_count": 23
    }
   ],
   "source": [
    "stock['2010-02':'2010-03']"
   ],
   "metadata": {
    "collapsed": false,
    "pycharm": {
     "name": "#%%\n",
     "is_executing": false
    }
   }
  },
  {
   "cell_type": "code",
   "execution_count": 25,
   "outputs": [
    {
     "data": {
      "text/plain": "                       Open    High     Low  Close     Volume\nDate                                                         \n2010-01-04 00:00:00  136.25  136.61  133.14  133.9  7600543.0\n2010-01-04 02:00:00     NaN     NaN     NaN    NaN        NaN\n2010-01-04 04:00:00     NaN     NaN     NaN    NaN        NaN\n2010-01-04 06:00:00     NaN     NaN     NaN    NaN        NaN\n2010-01-04 08:00:00     NaN     NaN     NaN    NaN        NaN",
      "text/html": "<div>\n<style scoped>\n    .dataframe tbody tr th:only-of-type {\n        vertical-align: middle;\n    }\n\n    .dataframe tbody tr th {\n        vertical-align: top;\n    }\n\n    .dataframe thead th {\n        text-align: right;\n    }\n</style>\n<table border=\"1\" class=\"dataframe\">\n  <thead>\n    <tr style=\"text-align: right;\">\n      <th></th>\n      <th>Open</th>\n      <th>High</th>\n      <th>Low</th>\n      <th>Close</th>\n      <th>Volume</th>\n    </tr>\n    <tr>\n      <th>Date</th>\n      <th></th>\n      <th></th>\n      <th></th>\n      <th></th>\n      <th></th>\n    </tr>\n  </thead>\n  <tbody>\n    <tr>\n      <th>2010-01-04 00:00:00</th>\n      <td>136.25</td>\n      <td>136.61</td>\n      <td>133.14</td>\n      <td>133.9</td>\n      <td>7600543.0</td>\n    </tr>\n    <tr>\n      <th>2010-01-04 02:00:00</th>\n      <td>NaN</td>\n      <td>NaN</td>\n      <td>NaN</td>\n      <td>NaN</td>\n      <td>NaN</td>\n    </tr>\n    <tr>\n      <th>2010-01-04 04:00:00</th>\n      <td>NaN</td>\n      <td>NaN</td>\n      <td>NaN</td>\n      <td>NaN</td>\n      <td>NaN</td>\n    </tr>\n    <tr>\n      <th>2010-01-04 06:00:00</th>\n      <td>NaN</td>\n      <td>NaN</td>\n      <td>NaN</td>\n      <td>NaN</td>\n      <td>NaN</td>\n    </tr>\n    <tr>\n      <th>2010-01-04 08:00:00</th>\n      <td>NaN</td>\n      <td>NaN</td>\n      <td>NaN</td>\n      <td>NaN</td>\n      <td>NaN</td>\n    </tr>\n  </tbody>\n</table>\n</div>"
     },
     "metadata": {},
     "output_type": "execute_result",
     "execution_count": 25
    }
   ],
   "source": [
    "stock.resample('2h').asfreq().head()"
   ],
   "metadata": {
    "collapsed": false,
    "pycharm": {
     "name": "#%%\n",
     "is_executing": false
    }
   }
  },
  {
   "cell_type": "code",
   "execution_count": 27,
   "outputs": [
    {
     "data": {
      "text/plain": "                 Open      High        Low     Close       Volume\nDate                                                             \n2010-01-10   133.3700   134.564   130.8860   132.872   8900385.80\n2010-01-17   129.5660   130.472   126.9940   128.252  10756782.40\n2010-01-24   126.5475   128.255   123.7925   125.360   9883903.25\n2010-01-31   123.5780   125.528   120.5840   122.796  18627194.20\n2010-02-07   118.7220   120.286   114.9240   117.884  19415862.60\n...               ...       ...        ...       ...          ...\n2017-06-25  1003.6940  1007.236   993.9580   999.006   3435057.40\n2017-07-02   987.3720   994.062   974.0140   981.004   3719885.20\n2017-07-09   967.1325   976.000   958.6025   967.240   3116265.75\n2017-07-16   997.1340  1003.062   991.6220   999.910   3024161.20\n2017-07-23  1004.6900  1014.750  1003.8100  1010.040   3668721.00\n\n[394 rows x 5 columns]",
      "text/html": "<div>\n<style scoped>\n    .dataframe tbody tr th:only-of-type {\n        vertical-align: middle;\n    }\n\n    .dataframe tbody tr th {\n        vertical-align: top;\n    }\n\n    .dataframe thead th {\n        text-align: right;\n    }\n</style>\n<table border=\"1\" class=\"dataframe\">\n  <thead>\n    <tr style=\"text-align: right;\">\n      <th></th>\n      <th>Open</th>\n      <th>High</th>\n      <th>Low</th>\n      <th>Close</th>\n      <th>Volume</th>\n    </tr>\n    <tr>\n      <th>Date</th>\n      <th></th>\n      <th></th>\n      <th></th>\n      <th></th>\n      <th></th>\n    </tr>\n  </thead>\n  <tbody>\n    <tr>\n      <th>2010-01-10</th>\n      <td>133.3700</td>\n      <td>134.564</td>\n      <td>130.8860</td>\n      <td>132.872</td>\n      <td>8900385.80</td>\n    </tr>\n    <tr>\n      <th>2010-01-17</th>\n      <td>129.5660</td>\n      <td>130.472</td>\n      <td>126.9940</td>\n      <td>128.252</td>\n      <td>10756782.40</td>\n    </tr>\n    <tr>\n      <th>2010-01-24</th>\n      <td>126.5475</td>\n      <td>128.255</td>\n      <td>123.7925</td>\n      <td>125.360</td>\n      <td>9883903.25</td>\n    </tr>\n    <tr>\n      <th>2010-01-31</th>\n      <td>123.5780</td>\n      <td>125.528</td>\n      <td>120.5840</td>\n      <td>122.796</td>\n      <td>18627194.20</td>\n    </tr>\n    <tr>\n      <th>2010-02-07</th>\n      <td>118.7220</td>\n      <td>120.286</td>\n      <td>114.9240</td>\n      <td>117.884</td>\n      <td>19415862.60</td>\n    </tr>\n    <tr>\n      <th>...</th>\n      <td>...</td>\n      <td>...</td>\n      <td>...</td>\n      <td>...</td>\n      <td>...</td>\n    </tr>\n    <tr>\n      <th>2017-06-25</th>\n      <td>1003.6940</td>\n      <td>1007.236</td>\n      <td>993.9580</td>\n      <td>999.006</td>\n      <td>3435057.40</td>\n    </tr>\n    <tr>\n      <th>2017-07-02</th>\n      <td>987.3720</td>\n      <td>994.062</td>\n      <td>974.0140</td>\n      <td>981.004</td>\n      <td>3719885.20</td>\n    </tr>\n    <tr>\n      <th>2017-07-09</th>\n      <td>967.1325</td>\n      <td>976.000</td>\n      <td>958.6025</td>\n      <td>967.240</td>\n      <td>3116265.75</td>\n    </tr>\n    <tr>\n      <th>2017-07-16</th>\n      <td>997.1340</td>\n      <td>1003.062</td>\n      <td>991.6220</td>\n      <td>999.910</td>\n      <td>3024161.20</td>\n    </tr>\n    <tr>\n      <th>2017-07-23</th>\n      <td>1004.6900</td>\n      <td>1014.750</td>\n      <td>1003.8100</td>\n      <td>1010.040</td>\n      <td>3668721.00</td>\n    </tr>\n  </tbody>\n</table>\n<p>394 rows × 5 columns</p>\n</div>"
     },
     "metadata": {},
     "output_type": "execute_result",
     "execution_count": 27
    }
   ],
   "source": [
    "stock.resample('1w').mean()"
   ],
   "metadata": {
    "collapsed": false,
    "pycharm": {
     "name": "#%%\n",
     "is_executing": false
    }
   }
  },
  {
   "cell_type": "code",
   "execution_count": 30,
   "outputs": [
    {
     "data": {
      "text/plain": "                  Open        High         Low       Close        Volume\nDate                                                                    \n2010-01-04  136.250000  136.610000  133.140000  133.900000  7.600543e+06\n2010-01-05  134.840000  136.045000  132.475000  134.295000  8.228500e+06\n2010-01-06  134.760000  135.606667  132.200000  133.613333  7.879325e+06\n2010-01-07  133.346667  134.176667  130.753333  132.313333  9.022519e+06\n2010-01-08  132.390000  133.576667  129.826667  131.923333  9.348310e+06",
      "text/html": "<div>\n<style scoped>\n    .dataframe tbody tr th:only-of-type {\n        vertical-align: middle;\n    }\n\n    .dataframe tbody tr th {\n        vertical-align: top;\n    }\n\n    .dataframe thead th {\n        text-align: right;\n    }\n</style>\n<table border=\"1\" class=\"dataframe\">\n  <thead>\n    <tr style=\"text-align: right;\">\n      <th></th>\n      <th>Open</th>\n      <th>High</th>\n      <th>Low</th>\n      <th>Close</th>\n      <th>Volume</th>\n    </tr>\n    <tr>\n      <th>Date</th>\n      <th></th>\n      <th></th>\n      <th></th>\n      <th></th>\n      <th></th>\n    </tr>\n  </thead>\n  <tbody>\n    <tr>\n      <th>2010-01-04</th>\n      <td>136.250000</td>\n      <td>136.610000</td>\n      <td>133.140000</td>\n      <td>133.900000</td>\n      <td>7.600543e+06</td>\n    </tr>\n    <tr>\n      <th>2010-01-05</th>\n      <td>134.840000</td>\n      <td>136.045000</td>\n      <td>132.475000</td>\n      <td>134.295000</td>\n      <td>8.228500e+06</td>\n    </tr>\n    <tr>\n      <th>2010-01-06</th>\n      <td>134.760000</td>\n      <td>135.606667</td>\n      <td>132.200000</td>\n      <td>133.613333</td>\n      <td>7.879325e+06</td>\n    </tr>\n    <tr>\n      <th>2010-01-07</th>\n      <td>133.346667</td>\n      <td>134.176667</td>\n      <td>130.753333</td>\n      <td>132.313333</td>\n      <td>9.022519e+06</td>\n    </tr>\n    <tr>\n      <th>2010-01-08</th>\n      <td>132.390000</td>\n      <td>133.576667</td>\n      <td>129.826667</td>\n      <td>131.923333</td>\n      <td>9.348310e+06</td>\n    </tr>\n  </tbody>\n</table>\n</div>"
     },
     "metadata": {},
     "output_type": "execute_result",
     "execution_count": 30
    }
   ],
   "source": [
    "stock.rolling(3, min_periods=1).mean().head()"
   ],
   "metadata": {
    "collapsed": false,
    "pycharm": {
     "name": "#%%\n",
     "is_executing": false
    }
   }
  },
  {
   "cell_type": "code",
   "execution_count": 31,
   "outputs": [
    {
     "data": {
      "text/plain": "                Open        High      Low       Close        Volume\nDate                                                               \n2010-01-04  136.2500  136.610000  133.140  133.900000  7.600543e+06\n2010-01-05  134.8400  136.045000  132.475  134.295000  8.228500e+06\n2010-01-06  134.7600  135.606667  132.200  133.613333  7.879325e+06\n2010-01-07  134.0725  134.785000  131.350  132.710000  8.667025e+06\n2010-01-08  133.3700  134.564000  130.886  132.872000  8.900386e+06",
      "text/html": "<div>\n<style scoped>\n    .dataframe tbody tr th:only-of-type {\n        vertical-align: middle;\n    }\n\n    .dataframe tbody tr th {\n        vertical-align: top;\n    }\n\n    .dataframe thead th {\n        text-align: right;\n    }\n</style>\n<table border=\"1\" class=\"dataframe\">\n  <thead>\n    <tr style=\"text-align: right;\">\n      <th></th>\n      <th>Open</th>\n      <th>High</th>\n      <th>Low</th>\n      <th>Close</th>\n      <th>Volume</th>\n    </tr>\n    <tr>\n      <th>Date</th>\n      <th></th>\n      <th></th>\n      <th></th>\n      <th></th>\n      <th></th>\n    </tr>\n  </thead>\n  <tbody>\n    <tr>\n      <th>2010-01-04</th>\n      <td>136.2500</td>\n      <td>136.610000</td>\n      <td>133.140</td>\n      <td>133.900000</td>\n      <td>7.600543e+06</td>\n    </tr>\n    <tr>\n      <th>2010-01-05</th>\n      <td>134.8400</td>\n      <td>136.045000</td>\n      <td>132.475</td>\n      <td>134.295000</td>\n      <td>8.228500e+06</td>\n    </tr>\n    <tr>\n      <th>2010-01-06</th>\n      <td>134.7600</td>\n      <td>135.606667</td>\n      <td>132.200</td>\n      <td>133.613333</td>\n      <td>7.879325e+06</td>\n    </tr>\n    <tr>\n      <th>2010-01-07</th>\n      <td>134.0725</td>\n      <td>134.785000</td>\n      <td>131.350</td>\n      <td>132.710000</td>\n      <td>8.667025e+06</td>\n    </tr>\n    <tr>\n      <th>2010-01-08</th>\n      <td>133.3700</td>\n      <td>134.564000</td>\n      <td>130.886</td>\n      <td>132.872000</td>\n      <td>8.900386e+06</td>\n    </tr>\n  </tbody>\n</table>\n</div>"
     },
     "metadata": {},
     "output_type": "execute_result",
     "execution_count": 31
    }
   ],
   "source": [
    "stock.mean().head()"
   ],
   "metadata": {
    "collapsed": false,
    "pycharm": {
     "name": "#%%\n",
     "is_executing": false
    }
   }
  },
  {
   "cell_type": "code",
   "execution_count": 32,
   "outputs": [
    {
     "data": {
      "text/plain": "                Open        High      Low       Close        Volume\nDate                                                               \n2010-01-04       NaN         NaN      NaN         NaN           NaN\n2010-01-05       NaN         NaN      NaN         NaN           NaN\n2010-01-06  134.7600  135.606667  132.200  133.613333  7.879325e+06\n2010-01-07  134.0725  134.785000  131.350  132.710000  8.667025e+06\n2010-01-08  133.3700  134.564000  130.886  132.872000  8.900386e+06",
      "text/html": "<div>\n<style scoped>\n    .dataframe tbody tr th:only-of-type {\n        vertical-align: middle;\n    }\n\n    .dataframe tbody tr th {\n        vertical-align: top;\n    }\n\n    .dataframe thead th {\n        text-align: right;\n    }\n</style>\n<table border=\"1\" class=\"dataframe\">\n  <thead>\n    <tr style=\"text-align: right;\">\n      <th></th>\n      <th>Open</th>\n      <th>High</th>\n      <th>Low</th>\n      <th>Close</th>\n      <th>Volume</th>\n    </tr>\n    <tr>\n      <th>Date</th>\n      <th></th>\n      <th></th>\n      <th></th>\n      <th></th>\n      <th></th>\n    </tr>\n  </thead>\n  <tbody>\n    <tr>\n      <th>2010-01-04</th>\n      <td>NaN</td>\n      <td>NaN</td>\n      <td>NaN</td>\n      <td>NaN</td>\n      <td>NaN</td>\n    </tr>\n    <tr>\n      <th>2010-01-05</th>\n      <td>NaN</td>\n      <td>NaN</td>\n      <td>NaN</td>\n      <td>NaN</td>\n      <td>NaN</td>\n    </tr>\n    <tr>\n      <th>2010-01-06</th>\n      <td>134.7600</td>\n      <td>135.606667</td>\n      <td>132.200</td>\n      <td>133.613333</td>\n      <td>7.879325e+06</td>\n    </tr>\n    <tr>\n      <th>2010-01-07</th>\n      <td>134.0725</td>\n      <td>134.785000</td>\n      <td>131.350</td>\n      <td>132.710000</td>\n      <td>8.667025e+06</td>\n    </tr>\n    <tr>\n      <th>2010-01-08</th>\n      <td>133.3700</td>\n      <td>134.564000</td>\n      <td>130.886</td>\n      <td>132.872000</td>\n      <td>8.900386e+06</td>\n    </tr>\n  </tbody>\n</table>\n</div>"
     },
     "metadata": {},
     "output_type": "execute_result",
     "execution_count": 32
    }
   ],
   "source": [
    "stock.expanding(3).mean().head()"
   ],
   "metadata": {
    "collapsed": false,
    "pycharm": {
     "name": "#%%\n",
     "is_executing": false
    }
   }
  },
  {
   "cell_type": "code",
   "execution_count": 34,
   "outputs": [
    {
     "data": {
      "text/plain": "                   Open         High          Low        Close        Volume\nDate                                                                        \n2010-01-04   136.250000   136.610000   133.140000   133.900000  7.600543e+06\n2010-01-05   134.080769   135.740769   132.116923   134.507692  8.566630e+06\n2010-01-06   134.454317   135.013597   131.781007   132.883453  7.569757e+06\n2010-01-07   132.729323   133.112682   129.677262   130.848553  1.001179e+07\n2010-01-08   131.207098   133.510772   129.223075   132.723121  9.886915e+06\n...                 ...          ...          ...          ...           ...\n2017-07-11   989.084881   995.142613   982.059585   992.890941  3.089057e+06\n2017-07-12   997.180464  1004.527784   993.287876  1002.424282  3.452719e+06\n2017-07-13  1002.388139  1006.174335   995.116363  1001.168285  3.052354e+06\n2017-07-14  1002.396442  1004.967301   996.357909  1001.617485  2.387434e+06\n2017-07-17  1004.001933  1011.815190  1001.574373  1007.513246  3.284335e+06\n\n[1896 rows x 5 columns]",
      "text/html": "<div>\n<style scoped>\n    .dataframe tbody tr th:only-of-type {\n        vertical-align: middle;\n    }\n\n    .dataframe tbody tr th {\n        vertical-align: top;\n    }\n\n    .dataframe thead th {\n        text-align: right;\n    }\n</style>\n<table border=\"1\" class=\"dataframe\">\n  <thead>\n    <tr style=\"text-align: right;\">\n      <th></th>\n      <th>Open</th>\n      <th>High</th>\n      <th>Low</th>\n      <th>Close</th>\n      <th>Volume</th>\n    </tr>\n    <tr>\n      <th>Date</th>\n      <th></th>\n      <th></th>\n      <th></th>\n      <th></th>\n      <th></th>\n    </tr>\n  </thead>\n  <tbody>\n    <tr>\n      <th>2010-01-04</th>\n      <td>136.250000</td>\n      <td>136.610000</td>\n      <td>133.140000</td>\n      <td>133.900000</td>\n      <td>7.600543e+06</td>\n    </tr>\n    <tr>\n      <th>2010-01-05</th>\n      <td>134.080769</td>\n      <td>135.740769</td>\n      <td>132.116923</td>\n      <td>134.507692</td>\n      <td>8.566630e+06</td>\n    </tr>\n    <tr>\n      <th>2010-01-06</th>\n      <td>134.454317</td>\n      <td>135.013597</td>\n      <td>131.781007</td>\n      <td>132.883453</td>\n      <td>7.569757e+06</td>\n    </tr>\n    <tr>\n      <th>2010-01-07</th>\n      <td>132.729323</td>\n      <td>133.112682</td>\n      <td>129.677262</td>\n      <td>130.848553</td>\n      <td>1.001179e+07</td>\n    </tr>\n    <tr>\n      <th>2010-01-08</th>\n      <td>131.207098</td>\n      <td>133.510772</td>\n      <td>129.223075</td>\n      <td>132.723121</td>\n      <td>9.886915e+06</td>\n    </tr>\n    <tr>\n      <th>...</th>\n      <td>...</td>\n      <td>...</td>\n      <td>...</td>\n      <td>...</td>\n      <td>...</td>\n    </tr>\n    <tr>\n      <th>2017-07-11</th>\n      <td>989.084881</td>\n      <td>995.142613</td>\n      <td>982.059585</td>\n      <td>992.890941</td>\n      <td>3.089057e+06</td>\n    </tr>\n    <tr>\n      <th>2017-07-12</th>\n      <td>997.180464</td>\n      <td>1004.527784</td>\n      <td>993.287876</td>\n      <td>1002.424282</td>\n      <td>3.452719e+06</td>\n    </tr>\n    <tr>\n      <th>2017-07-13</th>\n      <td>1002.388139</td>\n      <td>1006.174335</td>\n      <td>995.116363</td>\n      <td>1001.168285</td>\n      <td>3.052354e+06</td>\n    </tr>\n    <tr>\n      <th>2017-07-14</th>\n      <td>1002.396442</td>\n      <td>1004.967301</td>\n      <td>996.357909</td>\n      <td>1001.617485</td>\n      <td>2.387434e+06</td>\n    </tr>\n    <tr>\n      <th>2017-07-17</th>\n      <td>1004.001933</td>\n      <td>1011.815190</td>\n      <td>1001.574373</td>\n      <td>1007.513246</td>\n      <td>3.284335e+06</td>\n    </tr>\n  </tbody>\n</table>\n<p>1896 rows × 5 columns</p>\n</div>"
     },
     "metadata": {},
     "output_type": "execute_result",
     "execution_count": 34
    }
   ],
   "source": [
    "stock.ewm(alpha=0.7).mean()"
   ],
   "metadata": {
    "collapsed": false,
    "pycharm": {
     "name": "#%%\n",
     "is_executing": false
    }
   }
  },
  {
   "cell_type": "code",
   "execution_count": 35,
   "outputs": [
    {
     "data": {
      "text/plain": "<matplotlib.axes._subplots.AxesSubplot at 0x14dc02c8>"
     },
     "metadata": {},
     "output_type": "execute_result",
     "execution_count": 35
    },
    {
     "data": {
      "text/plain": "<Figure size 432x288 with 1 Axes>",
      "image/png": "[encoded data removed]"
     },
     "metadata": {
      "needs_background": "light"
     },
     "output_type": "display_data"
    }
   ],
   "source": [
    "stock['Open'].plot()"
   ],
   "metadata": {
    "collapsed": false,
    "pycharm": {
     "name": "#%%\n",
     "is_executing": false
    }
   }
  },
  {
   "cell_type": "code",
   "execution_count": 36,
   "outputs": [
    {
     "data": {
      "text/plain": "<matplotlib.axes._subplots.AxesSubplot at 0x14caf2c8>"
     },
     "metadata": {},
     "output_type": "execute_result",
     "execution_count": 36
    },
    {
     "data": {
      "text/plain": "<Figure size 432x288 with 1 Axes>",
      "image/png": "[encoded data removed]"
     },
     "metadata": {
      "needs_background": "light"
     },
     "output_type": "display_data"
    }
   ],
   "source": [
    "ns = stock['Open'].rolling(10, min_periods=1).mean()\n",
    "ns.plot()"
   ],
   "metadata": {
    "collapsed": false,
    "pycharm": {
     "name": "#%%\n",
     "is_executing": false
    }
   }
  },
  {
   "cell_type": "code",
   "execution_count": 39,
   "outputs": [
    {
     "data": {
      "text/plain": "2    390\n1    389\n3    382\n4    380\n0    355\nName: Date, dtype: int64"
     },
     "metadata": {},
     "output_type": "execute_result",
     "execution_count": 39
    }
   ],
   "source": [
    "stock.index.weekday.value_counts()"
   ],
   "metadata": {
    "collapsed": false,
    "pycharm": {
     "name": "#%%\n",
     "is_executing": false
    }
   }
  },
  {
   "cell_type": "code",
   "execution_count": 40,
   "outputs": [
    {
     "data": {
      "text/plain": "Int64Index([  4,   5,   6,   7,   8,  11,  12,  13,  14,  15,\n            ...\n            184, 186, 187, 188, 191, 192, 193, 194, 195, 198],\n           dtype='int64', name='Date', length=1896)"
     },
     "metadata": {},
     "output_type": "execute_result",
     "execution_count": 40
    }
   ],
   "source": [
    "stock.index.dayofyear\n"
   ],
   "metadata": {
    "collapsed": false,
    "pycharm": {
     "name": "#%%\n",
     "is_executing": false
    }
   }
  }
 ],
 "metadata": {
  "kernelspec": {
   "display_name": "Python 3",
   "language": "python",
   "name": "python3"
  },
  "language_info": {
   "codemirror_mode": {
    "name": "ipython",
    "version": 2
   },
   "file_extension": ".py",
   "mimetype": "text/x-python",
   "name": "python",
   "nbconvert_exporter": "python",
   "pygments_lexer": "ipython2",
   "version": "2.7.6"
  },
  "pycharm": {
   "stem_cell": {
    "cell_type": "raw",
    "source": [],
    "metadata": {
     "collapsed": false
    }
   }
  }
 },
 "nbformat": 4,
 "nbformat_minor": 0
}