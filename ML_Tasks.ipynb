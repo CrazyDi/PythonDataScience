{
 "cells": [
  {
   "cell_type": "markdown",
   "metadata": {
    "collapsed": true,
    "pycharm": {
     "name": "#%% md\n"
    }
   },
   "source": [
    "## Задача\n",
    "\n",
    "Давайте найдем такой стэп, используя данные о сабмитах. Для каждого пользователя найдите \n",
    "такой шаг, который он не смог решить, и после этого не пытался решать другие шаги. \n",
    "Затем найдите id шага,  который стал финальной точкой практического обучения на курсе \n",
    "для максимального числа пользователей. "
   ]
  },
  {
   "cell_type": "code",
   "execution_count": 1,
   "outputs": [],
   "source": [
    "import pandas as pd"
   ],
   "metadata": {
    "collapsed": false,
    "pycharm": {
     "name": "#%%\n",
     "is_executing": false
    }
   }
  },
  {
   "cell_type": "code",
   "execution_count": 2,
   "outputs": [
    {
     "data": {
      "text/plain": "   step_id   timestamp submission_status  user_id\n0    31971  1434349275           correct    15853\n1    31972  1434348300           correct    15853\n2    31972  1478852149             wrong    15853\n3    31972  1478852164           correct    15853\n4    31976  1434348123             wrong    15853",
      "text/html": "<div>\n<style scoped>\n    .dataframe tbody tr th:only-of-type {\n        vertical-align: middle;\n    }\n\n    .dataframe tbody tr th {\n        vertical-align: top;\n    }\n\n    .dataframe thead th {\n        text-align: right;\n    }\n</style>\n<table border=\"1\" class=\"dataframe\">\n  <thead>\n    <tr style=\"text-align: right;\">\n      <th></th>\n      <th>step_id</th>\n      <th>timestamp</th>\n      <th>submission_status</th>\n      <th>user_id</th>\n    </tr>\n  </thead>\n  <tbody>\n    <tr>\n      <th>0</th>\n      <td>31971</td>\n      <td>1434349275</td>\n      <td>correct</td>\n      <td>15853</td>\n    </tr>\n    <tr>\n      <th>1</th>\n      <td>31972</td>\n      <td>1434348300</td>\n      <td>correct</td>\n      <td>15853</td>\n    </tr>\n    <tr>\n      <th>2</th>\n      <td>31972</td>\n      <td>1478852149</td>\n      <td>wrong</td>\n      <td>15853</td>\n    </tr>\n    <tr>\n      <th>3</th>\n      <td>31972</td>\n      <td>1478852164</td>\n      <td>correct</td>\n      <td>15853</td>\n    </tr>\n    <tr>\n      <th>4</th>\n      <td>31976</td>\n      <td>1434348123</td>\n      <td>wrong</td>\n      <td>15853</td>\n    </tr>\n  </tbody>\n</table>\n</div>"
     },
     "metadata": {},
     "output_type": "execute_result",
     "execution_count": 2
    }
   ],
   "source": [
    "submission_data = pd.read_csv('data/submissions_data_train.csv')\n",
    "submission_data.head()"
   ],
   "metadata": {
    "collapsed": false,
    "pycharm": {
     "name": "#%%\n",
     "is_executing": false
    }
   }
  },
  {
   "cell_type": "code",
   "execution_count": 5,
   "outputs": [
    {
     "data": {
      "text/plain": "   user_id  max_timestamp\n0        2     1514383485\n1        3     1444573728\n2        5     1499859730\n3        8     1480604143\n4       14     1436368601",
      "text/html": "<div>\n<style scoped>\n    .dataframe tbody tr th:only-of-type {\n        vertical-align: middle;\n    }\n\n    .dataframe tbody tr th {\n        vertical-align: top;\n    }\n\n    .dataframe thead th {\n        text-align: right;\n    }\n</style>\n<table border=\"1\" class=\"dataframe\">\n  <thead>\n    <tr style=\"text-align: right;\">\n      <th></th>\n      <th>user_id</th>\n      <th>max_timestamp</th>\n    </tr>\n  </thead>\n  <tbody>\n    <tr>\n      <th>0</th>\n      <td>2</td>\n      <td>1514383485</td>\n    </tr>\n    <tr>\n      <th>1</th>\n      <td>3</td>\n      <td>1444573728</td>\n    </tr>\n    <tr>\n      <th>2</th>\n      <td>5</td>\n      <td>1499859730</td>\n    </tr>\n    <tr>\n      <th>3</th>\n      <td>8</td>\n      <td>1480604143</td>\n    </tr>\n    <tr>\n      <th>4</th>\n      <td>14</td>\n      <td>1436368601</td>\n    </tr>\n  </tbody>\n</table>\n</div>"
     },
     "metadata": {},
     "output_type": "execute_result",
     "execution_count": 5
    }
   ],
   "source": [
    "user_max_timestamp = submission_data.groupby('user_id', as_index=False).agg({'timestamp': 'max'}).rename(columns={'timestamp': 'max_timestamp'})\n",
    "user_max_timestamp.head()"
   ],
   "metadata": {
    "collapsed": false,
    "pycharm": {
     "name": "#%%\n",
     "is_executing": false
    }
   }
  },
  {
   "cell_type": "code",
   "execution_count": 6,
   "outputs": [
    {
     "data": {
      "text/plain": "   step_id   timestamp submission_status  user_id  max_timestamp\n0    31971  1434349275           correct    15853     1479734163\n1    31972  1434348300           correct    15853     1479734163\n2    31972  1478852149             wrong    15853     1479734163\n3    31972  1478852164           correct    15853     1479734163\n4    31976  1434348123             wrong    15853     1479734163",
      "text/html": "<div>\n<style scoped>\n    .dataframe tbody tr th:only-of-type {\n        vertical-align: middle;\n    }\n\n    .dataframe tbody tr th {\n        vertical-align: top;\n    }\n\n    .dataframe thead th {\n        text-align: right;\n    }\n</style>\n<table border=\"1\" class=\"dataframe\">\n  <thead>\n    <tr style=\"text-align: right;\">\n      <th></th>\n      <th>step_id</th>\n      <th>timestamp</th>\n      <th>submission_status</th>\n      <th>user_id</th>\n      <th>max_timestamp</th>\n    </tr>\n  </thead>\n  <tbody>\n    <tr>\n      <th>0</th>\n      <td>31971</td>\n      <td>1434349275</td>\n      <td>correct</td>\n      <td>15853</td>\n      <td>1479734163</td>\n    </tr>\n    <tr>\n      <th>1</th>\n      <td>31972</td>\n      <td>1434348300</td>\n      <td>correct</td>\n      <td>15853</td>\n      <td>1479734163</td>\n    </tr>\n    <tr>\n      <th>2</th>\n      <td>31972</td>\n      <td>1478852149</td>\n      <td>wrong</td>\n      <td>15853</td>\n      <td>1479734163</td>\n    </tr>\n    <tr>\n      <th>3</th>\n      <td>31972</td>\n      <td>1478852164</td>\n      <td>correct</td>\n      <td>15853</td>\n      <td>1479734163</td>\n    </tr>\n    <tr>\n      <th>4</th>\n      <td>31976</td>\n      <td>1434348123</td>\n      <td>wrong</td>\n      <td>15853</td>\n      <td>1479734163</td>\n    </tr>\n  </tbody>\n</table>\n</div>"
     },
     "metadata": {},
     "output_type": "execute_result",
     "execution_count": 6
    }
   ],
   "source": [
    "submission_data = submission_data.merge(user_max_timestamp, how='left')\n",
    "submission_data.head()"
   ],
   "metadata": {
    "collapsed": false,
    "pycharm": {
     "name": "#%%\n",
     "is_executing": false
    }
   }
  },
  {
   "cell_type": "code",
   "execution_count": 7,
   "outputs": [
    {
     "data": {
      "text/plain": "     step_id   timestamp submission_status  user_id  max_timestamp\n46     33025  1479734163           correct    15853     1479734163\n133    31991  1436207389           correct     6640     1436207389\n262    33669  1436338096           correct     8624     1436338096\n629    33685  1435854481           correct    24821     1435854481\n783    33669  1436806235           correct    16503     1436806235",
      "text/html": "<div>\n<style scoped>\n    .dataframe tbody tr th:only-of-type {\n        vertical-align: middle;\n    }\n\n    .dataframe tbody tr th {\n        vertical-align: top;\n    }\n\n    .dataframe thead th {\n        text-align: right;\n    }\n</style>\n<table border=\"1\" class=\"dataframe\">\n  <thead>\n    <tr style=\"text-align: right;\">\n      <th></th>\n      <th>step_id</th>\n      <th>timestamp</th>\n      <th>submission_status</th>\n      <th>user_id</th>\n      <th>max_timestamp</th>\n    </tr>\n  </thead>\n  <tbody>\n    <tr>\n      <th>46</th>\n      <td>33025</td>\n      <td>1479734163</td>\n      <td>correct</td>\n      <td>15853</td>\n      <td>1479734163</td>\n    </tr>\n    <tr>\n      <th>133</th>\n      <td>31991</td>\n      <td>1436207389</td>\n      <td>correct</td>\n      <td>6640</td>\n      <td>1436207389</td>\n    </tr>\n    <tr>\n      <th>262</th>\n      <td>33669</td>\n      <td>1436338096</td>\n      <td>correct</td>\n      <td>8624</td>\n      <td>1436338096</td>\n    </tr>\n    <tr>\n      <th>629</th>\n      <td>33685</td>\n      <td>1435854481</td>\n      <td>correct</td>\n      <td>24821</td>\n      <td>1435854481</td>\n    </tr>\n    <tr>\n      <th>783</th>\n      <td>33669</td>\n      <td>1436806235</td>\n      <td>correct</td>\n      <td>16503</td>\n      <td>1436806235</td>\n    </tr>\n  </tbody>\n</table>\n</div>"
     },
     "metadata": {},
     "output_type": "execute_result",
     "execution_count": 7
    }
   ],
   "source": [
    "last_submission = submission_data.query('timestamp == max_timestamp')\n",
    "last_submission.head()"
   ],
   "metadata": {
    "collapsed": false,
    "pycharm": {
     "name": "#%%\n",
     "is_executing": false
    }
   }
  },
  {
   "cell_type": "code",
   "execution_count": 8,
   "outputs": [
    {
     "data": {
      "text/plain": "      step_id   timestamp submission_status  user_id  max_timestamp\n1696    33025  1436094981             wrong    18175     1436094981\n5588    32173  1435303058             wrong     6053     1435303058\n5848    33669  1436431976             wrong    13793     1436431976\n6184    33350  1490785375             wrong    19739     1490785375\n7332    32202  1492184437             wrong    17578     1492184437",
      "text/html": "<div>\n<style scoped>\n    .dataframe tbody tr th:only-of-type {\n        vertical-align: middle;\n    }\n\n    .dataframe tbody tr th {\n        vertical-align: top;\n    }\n\n    .dataframe thead th {\n        text-align: right;\n    }\n</style>\n<table border=\"1\" class=\"dataframe\">\n  <thead>\n    <tr style=\"text-align: right;\">\n      <th></th>\n      <th>step_id</th>\n      <th>timestamp</th>\n      <th>submission_status</th>\n      <th>user_id</th>\n      <th>max_timestamp</th>\n    </tr>\n  </thead>\n  <tbody>\n    <tr>\n      <th>1696</th>\n      <td>33025</td>\n      <td>1436094981</td>\n      <td>wrong</td>\n      <td>18175</td>\n      <td>1436094981</td>\n    </tr>\n    <tr>\n      <th>5588</th>\n      <td>32173</td>\n      <td>1435303058</td>\n      <td>wrong</td>\n      <td>6053</td>\n      <td>1435303058</td>\n    </tr>\n    <tr>\n      <th>5848</th>\n      <td>33669</td>\n      <td>1436431976</td>\n      <td>wrong</td>\n      <td>13793</td>\n      <td>1436431976</td>\n    </tr>\n    <tr>\n      <th>6184</th>\n      <td>33350</td>\n      <td>1490785375</td>\n      <td>wrong</td>\n      <td>19739</td>\n      <td>1490785375</td>\n    </tr>\n    <tr>\n      <th>7332</th>\n      <td>32202</td>\n      <td>1492184437</td>\n      <td>wrong</td>\n      <td>17578</td>\n      <td>1492184437</td>\n    </tr>\n  </tbody>\n</table>\n</div>"
     },
     "metadata": {},
     "output_type": "execute_result",
     "execution_count": 8
    }
   ],
   "source": [
    "last_submission = last_submission.query(\"submission_status == 'wrong'\")\n",
    "last_submission.head()"
   ],
   "metadata": {
    "collapsed": false,
    "pycharm": {
     "name": "#%%\n",
     "is_executing": false
    }
   }
  },
  {
   "cell_type": "code",
   "execution_count": 17,
   "outputs": [
    {
     "data": {
      "text/plain": "154"
     },
     "metadata": {},
     "output_type": "execute_result",
     "execution_count": 17
    }
   ],
   "source": [
    "max_try = last_submission.groupby('step_id').count().max().timestamp\n",
    "max_try"
   ],
   "metadata": {
    "collapsed": false,
    "pycharm": {
     "name": "#%%\n",
     "is_executing": false
    }
   }
  },
  {
   "cell_type": "code",
   "execution_count": 18,
   "outputs": [
    {
     "data": {
      "text/plain": "   step_id  timestamp  submission_status  user_id  max_timestamp\n4    31978        154                154      154            154",
      "text/html": "<div>\n<style scoped>\n    .dataframe tbody tr th:only-of-type {\n        vertical-align: middle;\n    }\n\n    .dataframe tbody tr th {\n        vertical-align: top;\n    }\n\n    .dataframe thead th {\n        text-align: right;\n    }\n</style>\n<table border=\"1\" class=\"dataframe\">\n  <thead>\n    <tr style=\"text-align: right;\">\n      <th></th>\n      <th>step_id</th>\n      <th>timestamp</th>\n      <th>submission_status</th>\n      <th>user_id</th>\n      <th>max_timestamp</th>\n    </tr>\n  </thead>\n  <tbody>\n    <tr>\n      <th>4</th>\n      <td>31978</td>\n      <td>154</td>\n      <td>154</td>\n      <td>154</td>\n      <td>154</td>\n    </tr>\n  </tbody>\n</table>\n</div>"
     },
     "metadata": {},
     "output_type": "execute_result",
     "execution_count": 18
    }
   ],
   "source": [
    "last_submission.groupby('step_id', as_index=False).count().query('max_timestamp == @max_try')\n"
   ],
   "metadata": {
    "collapsed": false,
    "pycharm": {
     "name": "#%%\n",
     "is_executing": false
    }
   }
  }
 ],
 "metadata": {
  "kernelspec": {
   "display_name": "Python 3",
   "language": "python",
   "name": "python3"
  },
  "language_info": {
   "codemirror_mode": {
    "name": "ipython",
    "version": 2
   },
   "file_extension": ".py",
   "mimetype": "text/x-python",
   "name": "python",
   "nbconvert_exporter": "python",
   "pygments_lexer": "ipython2",
   "version": "2.7.6"
  },
  "pycharm": {
   "stem_cell": {
    "cell_type": "raw",
    "source": [],
    "metadata": {
     "collapsed": false
    }
   }
  }
 },
 "nbformat": 4,
 "nbformat_minor": 0
}