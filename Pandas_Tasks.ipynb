{
 "cells": [
  {
   "cell_type": "markdown",
   "metadata": {
    "collapsed": true,
    "pycharm": {
     "name": "#%% md\n"
    }
   },
   "source": [
    "## ЗАДАЧА\n",
    "\n",
    "Пересчитаем число ног у героев игры Dota2! \n",
    "Сгруппируйте героев из датасэта по числу их ног (колонка legs), и заполните их число в задании ниже."
   ]
  },
  {
   "cell_type": "code",
   "execution_count": 1,
   "outputs": [],
   "source": [
    "import pandas as pd"
   ],
   "metadata": {
    "collapsed": false,
    "pycharm": {
     "name": "#%%\n",
     "is_executing": false
    }
   }
  },
  {
   "cell_type": "code",
   "execution_count": 2,
   "outputs": [
    {
     "data": {
      "text/plain": "   Unnamed: 0 attack_type  id  legs  localized_name  \\\n0           0       Melee   1     2       Anti-Mage   \n1           1       Melee   2     2             Axe   \n2           2      Ranged   3     4            Bane   \n3           3       Melee   4     2     Bloodseeker   \n4           4      Ranged   5     2  Crystal Maiden   \n\n                           name primary_attr  \\\n0        npc_dota_hero_antimage          agi   \n1             npc_dota_hero_axe          str   \n2            npc_dota_hero_bane          int   \n3     npc_dota_hero_bloodseeker          agi   \n4  npc_dota_hero_crystal_maiden          int   \n\n                                               roles  \n0                       ['Carry', 'Escape', 'Nuker']  \n1    ['Initiator', 'Durable', 'Disabler', 'Jungler']  \n2        ['Support', 'Disabler', 'Nuker', 'Durable']  \n3  ['Carry', 'Disabler', 'Jungler', 'Nuker', 'Ini...  \n4        ['Support', 'Disabler', 'Nuker', 'Jungler']  ",
      "text/html": "<div>\n<style scoped>\n    .dataframe tbody tr th:only-of-type {\n        vertical-align: middle;\n    }\n\n    .dataframe tbody tr th {\n        vertical-align: top;\n    }\n\n    .dataframe thead th {\n        text-align: right;\n    }\n</style>\n<table border=\"1\" class=\"dataframe\">\n  <thead>\n    <tr style=\"text-align: right;\">\n      <th></th>\n      <th>Unnamed: 0</th>\n      <th>attack_type</th>\n      <th>id</th>\n      <th>legs</th>\n      <th>localized_name</th>\n      <th>name</th>\n      <th>primary_attr</th>\n      <th>roles</th>\n    </tr>\n  </thead>\n  <tbody>\n    <tr>\n      <th>0</th>\n      <td>0</td>\n      <td>Melee</td>\n      <td>1</td>\n      <td>2</td>\n      <td>Anti-Mage</td>\n      <td>npc_dota_hero_antimage</td>\n      <td>agi</td>\n      <td>['Carry', 'Escape', 'Nuker']</td>\n    </tr>\n    <tr>\n      <th>1</th>\n      <td>1</td>\n      <td>Melee</td>\n      <td>2</td>\n      <td>2</td>\n      <td>Axe</td>\n      <td>npc_dota_hero_axe</td>\n      <td>str</td>\n      <td>['Initiator', 'Durable', 'Disabler', 'Jungler']</td>\n    </tr>\n    <tr>\n      <th>2</th>\n      <td>2</td>\n      <td>Ranged</td>\n      <td>3</td>\n      <td>4</td>\n      <td>Bane</td>\n      <td>npc_dota_hero_bane</td>\n      <td>int</td>\n      <td>['Support', 'Disabler', 'Nuker', 'Durable']</td>\n    </tr>\n    <tr>\n      <th>3</th>\n      <td>3</td>\n      <td>Melee</td>\n      <td>4</td>\n      <td>2</td>\n      <td>Bloodseeker</td>\n      <td>npc_dota_hero_bloodseeker</td>\n      <td>agi</td>\n      <td>['Carry', 'Disabler', 'Jungler', 'Nuker', 'Ini...</td>\n    </tr>\n    <tr>\n      <th>4</th>\n      <td>4</td>\n      <td>Ranged</td>\n      <td>5</td>\n      <td>2</td>\n      <td>Crystal Maiden</td>\n      <td>npc_dota_hero_crystal_maiden</td>\n      <td>int</td>\n      <td>['Support', 'Disabler', 'Nuker', 'Jungler']</td>\n    </tr>\n  </tbody>\n</table>\n</div>"
     },
     "metadata": {},
     "output_type": "execute_result",
     "execution_count": 2
    }
   ],
   "source": [
    "df = pd.read_csv('data/dota_hero_stats.csv')\n",
    "df.head()"
   ],
   "metadata": {
    "collapsed": false,
    "pycharm": {
     "name": "#%%\n",
     "is_executing": false
    }
   }
  },
  {
   "cell_type": "code",
   "execution_count": 4,
   "outputs": [
    {
     "data": {
      "text/plain": "   legs  Unnamed: 0  attack_type  id  localized_name  name  primary_attr  \\\n0     0          11           11  11              11    11            11   \n1     2          95           95  95              95    95            95   \n2     4           7            7   7               7     7             7   \n3     6           3            3   3               3     3             3   \n4     8           1            1   1               1     1             1   \n\n   roles  \n0     11  \n1     95  \n2      7  \n3      3  \n4      1  ",
      "text/html": "<div>\n<style scoped>\n    .dataframe tbody tr th:only-of-type {\n        vertical-align: middle;\n    }\n\n    .dataframe tbody tr th {\n        vertical-align: top;\n    }\n\n    .dataframe thead th {\n        text-align: right;\n    }\n</style>\n<table border=\"1\" class=\"dataframe\">\n  <thead>\n    <tr style=\"text-align: right;\">\n      <th></th>\n      <th>legs</th>\n      <th>Unnamed: 0</th>\n      <th>attack_type</th>\n      <th>id</th>\n      <th>localized_name</th>\n      <th>name</th>\n      <th>primary_attr</th>\n      <th>roles</th>\n    </tr>\n  </thead>\n  <tbody>\n    <tr>\n      <th>0</th>\n      <td>0</td>\n      <td>11</td>\n      <td>11</td>\n      <td>11</td>\n      <td>11</td>\n      <td>11</td>\n      <td>11</td>\n      <td>11</td>\n    </tr>\n    <tr>\n      <th>1</th>\n      <td>2</td>\n      <td>95</td>\n      <td>95</td>\n      <td>95</td>\n      <td>95</td>\n      <td>95</td>\n      <td>95</td>\n      <td>95</td>\n    </tr>\n    <tr>\n      <th>2</th>\n      <td>4</td>\n      <td>7</td>\n      <td>7</td>\n      <td>7</td>\n      <td>7</td>\n      <td>7</td>\n      <td>7</td>\n      <td>7</td>\n    </tr>\n    <tr>\n      <th>3</th>\n      <td>6</td>\n      <td>3</td>\n      <td>3</td>\n      <td>3</td>\n      <td>3</td>\n      <td>3</td>\n      <td>3</td>\n      <td>3</td>\n    </tr>\n    <tr>\n      <th>4</th>\n      <td>8</td>\n      <td>1</td>\n      <td>1</td>\n      <td>1</td>\n      <td>1</td>\n      <td>1</td>\n      <td>1</td>\n      <td>1</td>\n    </tr>\n  </tbody>\n</table>\n</div>"
     },
     "metadata": {},
     "output_type": "execute_result",
     "execution_count": 4
    }
   ],
   "source": [
    "df.groupby('legs', as_index=False).count()"
   ],
   "metadata": {
    "collapsed": false,
    "pycharm": {
     "name": "#%%\n",
     "is_executing": false
    }
   }
  },
  {
   "cell_type": "markdown",
   "source": [
    "## ЗАДАЧА\n",
    "\n",
    "К нам поступили данные из бухгалтерии о заработках Лупы и Пупы за разные задачи! \n",
    "Посмотрите у кого из них больше средний заработок в различных категориях (колонка Type) \n",
    "и заполните таблицу, указывая исполнителя с большим заработком в каждой из категорий."
   ],
   "metadata": {
    "collapsed": false
   }
  },
  {
   "cell_type": "code",
   "execution_count": 5,
   "outputs": [
    {
     "data": {
      "text/plain": "   Unnamed: 0 Executor Type  Salary\n0           0     Pupa    D      63\n1           1     Pupa    A     158\n2           2     Pupa    D     194\n3           3     Pupa    E     109\n4           4    Loopa    E     184",
      "text/html": "<div>\n<style scoped>\n    .dataframe tbody tr th:only-of-type {\n        vertical-align: middle;\n    }\n\n    .dataframe tbody tr th {\n        vertical-align: top;\n    }\n\n    .dataframe thead th {\n        text-align: right;\n    }\n</style>\n<table border=\"1\" class=\"dataframe\">\n  <thead>\n    <tr style=\"text-align: right;\">\n      <th></th>\n      <th>Unnamed: 0</th>\n      <th>Executor</th>\n      <th>Type</th>\n      <th>Salary</th>\n    </tr>\n  </thead>\n  <tbody>\n    <tr>\n      <th>0</th>\n      <td>0</td>\n      <td>Pupa</td>\n      <td>D</td>\n      <td>63</td>\n    </tr>\n    <tr>\n      <th>1</th>\n      <td>1</td>\n      <td>Pupa</td>\n      <td>A</td>\n      <td>158</td>\n    </tr>\n    <tr>\n      <th>2</th>\n      <td>2</td>\n      <td>Pupa</td>\n      <td>D</td>\n      <td>194</td>\n    </tr>\n    <tr>\n      <th>3</th>\n      <td>3</td>\n      <td>Pupa</td>\n      <td>E</td>\n      <td>109</td>\n    </tr>\n    <tr>\n      <th>4</th>\n      <td>4</td>\n      <td>Loopa</td>\n      <td>E</td>\n      <td>184</td>\n    </tr>\n  </tbody>\n</table>\n</div>"
     },
     "metadata": {},
     "output_type": "execute_result",
     "execution_count": 5
    }
   ],
   "source": [
    "df = pd.read_csv('data/accountancy.csv')\n",
    "df.head()"
   ],
   "metadata": {
    "collapsed": false,
    "pycharm": {
     "name": "#%%\n",
     "is_executing": false
    }
   }
  },
  {
   "cell_type": "code",
   "execution_count": 6,
   "outputs": [
    {
     "data": {
      "text/plain": "   Executor Type  Unnamed: 0      Salary\n0     Loopa    A   46.000000   58.000000\n1     Loopa    B   24.000000  145.166667\n2     Loopa    C   31.666667  154.333333\n3     Loopa    D   31.857143  137.714286\n4     Loopa    E   23.500000  164.000000\n5     Loopa    F   20.000000  238.000000\n6      Pupa    A   16.000000  160.833333\n7      Pupa    B   41.000000   77.000000\n8      Pupa    C   23.000000   74.500000\n9      Pupa    D   14.000000  146.500000\n10     Pupa    E   19.800000  131.200000\n11     Pupa    F   25.750000  136.250000",
      "text/html": "<div>\n<style scoped>\n    .dataframe tbody tr th:only-of-type {\n        vertical-align: middle;\n    }\n\n    .dataframe tbody tr th {\n        vertical-align: top;\n    }\n\n    .dataframe thead th {\n        text-align: right;\n    }\n</style>\n<table border=\"1\" class=\"dataframe\">\n  <thead>\n    <tr style=\"text-align: right;\">\n      <th></th>\n      <th>Executor</th>\n      <th>Type</th>\n      <th>Unnamed: 0</th>\n      <th>Salary</th>\n    </tr>\n  </thead>\n  <tbody>\n    <tr>\n      <th>0</th>\n      <td>Loopa</td>\n      <td>A</td>\n      <td>46.000000</td>\n      <td>58.000000</td>\n    </tr>\n    <tr>\n      <th>1</th>\n      <td>Loopa</td>\n      <td>B</td>\n      <td>24.000000</td>\n      <td>145.166667</td>\n    </tr>\n    <tr>\n      <th>2</th>\n      <td>Loopa</td>\n      <td>C</td>\n      <td>31.666667</td>\n      <td>154.333333</td>\n    </tr>\n    <tr>\n      <th>3</th>\n      <td>Loopa</td>\n      <td>D</td>\n      <td>31.857143</td>\n      <td>137.714286</td>\n    </tr>\n    <tr>\n      <th>4</th>\n      <td>Loopa</td>\n      <td>E</td>\n      <td>23.500000</td>\n      <td>164.000000</td>\n    </tr>\n    <tr>\n      <th>5</th>\n      <td>Loopa</td>\n      <td>F</td>\n      <td>20.000000</td>\n      <td>238.000000</td>\n    </tr>\n    <tr>\n      <th>6</th>\n      <td>Pupa</td>\n      <td>A</td>\n      <td>16.000000</td>\n      <td>160.833333</td>\n    </tr>\n    <tr>\n      <th>7</th>\n      <td>Pupa</td>\n      <td>B</td>\n      <td>41.000000</td>\n      <td>77.000000</td>\n    </tr>\n    <tr>\n      <th>8</th>\n      <td>Pupa</td>\n      <td>C</td>\n      <td>23.000000</td>\n      <td>74.500000</td>\n    </tr>\n    <tr>\n      <th>9</th>\n      <td>Pupa</td>\n      <td>D</td>\n      <td>14.000000</td>\n      <td>146.500000</td>\n    </tr>\n    <tr>\n      <th>10</th>\n      <td>Pupa</td>\n      <td>E</td>\n      <td>19.800000</td>\n      <td>131.200000</td>\n    </tr>\n    <tr>\n      <th>11</th>\n      <td>Pupa</td>\n      <td>F</td>\n      <td>25.750000</td>\n      <td>136.250000</td>\n    </tr>\n  </tbody>\n</table>\n</div>"
     },
     "metadata": {},
     "output_type": "execute_result",
     "execution_count": 6
    }
   ],
   "source": [
    "df.groupby(['Executor', 'Type'], as_index=False).mean()"
   ],
   "metadata": {
    "collapsed": false,
    "pycharm": {
     "name": "#%%\n",
     "is_executing": false
    }
   }
  },
  {
   "cell_type": "markdown",
   "source": [
    "## ЗАДАЧА\n",
    "\n",
    "Продолжим исследование героев Dota2. Сгруппируйте по колонкам attack_type и primary_attr \n",
    "и выберите самый распространённый набор характеристик."
   ],
   "metadata": {
    "collapsed": false
   }
  },
  {
   "cell_type": "code",
   "execution_count": 7,
   "outputs": [
    {
     "data": {
      "text/plain": "   Unnamed: 0 attack_type  id  legs  localized_name  \\\n0           0       Melee   1     2       Anti-Mage   \n1           1       Melee   2     2             Axe   \n2           2      Ranged   3     4            Bane   \n3           3       Melee   4     2     Bloodseeker   \n4           4      Ranged   5     2  Crystal Maiden   \n\n                           name primary_attr  \\\n0        npc_dota_hero_antimage          agi   \n1             npc_dota_hero_axe          str   \n2            npc_dota_hero_bane          int   \n3     npc_dota_hero_bloodseeker          agi   \n4  npc_dota_hero_crystal_maiden          int   \n\n                                               roles  \n0                       ['Carry', 'Escape', 'Nuker']  \n1    ['Initiator', 'Durable', 'Disabler', 'Jungler']  \n2        ['Support', 'Disabler', 'Nuker', 'Durable']  \n3  ['Carry', 'Disabler', 'Jungler', 'Nuker', 'Ini...  \n4        ['Support', 'Disabler', 'Nuker', 'Jungler']  ",
      "text/html": "<div>\n<style scoped>\n    .dataframe tbody tr th:only-of-type {\n        vertical-align: middle;\n    }\n\n    .dataframe tbody tr th {\n        vertical-align: top;\n    }\n\n    .dataframe thead th {\n        text-align: right;\n    }\n</style>\n<table border=\"1\" class=\"dataframe\">\n  <thead>\n    <tr style=\"text-align: right;\">\n      <th></th>\n      <th>Unnamed: 0</th>\n      <th>attack_type</th>\n      <th>id</th>\n      <th>legs</th>\n      <th>localized_name</th>\n      <th>name</th>\n      <th>primary_attr</th>\n      <th>roles</th>\n    </tr>\n  </thead>\n  <tbody>\n    <tr>\n      <th>0</th>\n      <td>0</td>\n      <td>Melee</td>\n      <td>1</td>\n      <td>2</td>\n      <td>Anti-Mage</td>\n      <td>npc_dota_hero_antimage</td>\n      <td>agi</td>\n      <td>['Carry', 'Escape', 'Nuker']</td>\n    </tr>\n    <tr>\n      <th>1</th>\n      <td>1</td>\n      <td>Melee</td>\n      <td>2</td>\n      <td>2</td>\n      <td>Axe</td>\n      <td>npc_dota_hero_axe</td>\n      <td>str</td>\n      <td>['Initiator', 'Durable', 'Disabler', 'Jungler']</td>\n    </tr>\n    <tr>\n      <th>2</th>\n      <td>2</td>\n      <td>Ranged</td>\n      <td>3</td>\n      <td>4</td>\n      <td>Bane</td>\n      <td>npc_dota_hero_bane</td>\n      <td>int</td>\n      <td>['Support', 'Disabler', 'Nuker', 'Durable']</td>\n    </tr>\n    <tr>\n      <th>3</th>\n      <td>3</td>\n      <td>Melee</td>\n      <td>4</td>\n      <td>2</td>\n      <td>Bloodseeker</td>\n      <td>npc_dota_hero_bloodseeker</td>\n      <td>agi</td>\n      <td>['Carry', 'Disabler', 'Jungler', 'Nuker', 'Ini...</td>\n    </tr>\n    <tr>\n      <th>4</th>\n      <td>4</td>\n      <td>Ranged</td>\n      <td>5</td>\n      <td>2</td>\n      <td>Crystal Maiden</td>\n      <td>npc_dota_hero_crystal_maiden</td>\n      <td>int</td>\n      <td>['Support', 'Disabler', 'Nuker', 'Jungler']</td>\n    </tr>\n  </tbody>\n</table>\n</div>"
     },
     "metadata": {},
     "output_type": "execute_result",
     "execution_count": 7
    }
   ],
   "source": [
    "df = pd.read_csv('data/dota_hero_stats.csv')\n",
    "df.head()"
   ],
   "metadata": {
    "collapsed": false,
    "pycharm": {
     "name": "#%%\n",
     "is_executing": false
    }
   }
  },
  {
   "cell_type": "code",
   "execution_count": 12,
   "outputs": [
    {
     "data": {
      "text/plain": "  attack_type primary_attr  localized_name\n4      Ranged          int              40\n2       Melee          str              35\n0       Melee          agi              19\n3      Ranged          agi              18\n5      Ranged          str               3\n1       Melee          int               2",
      "text/html": "<div>\n<style scoped>\n    .dataframe tbody tr th:only-of-type {\n        vertical-align: middle;\n    }\n\n    .dataframe tbody tr th {\n        vertical-align: top;\n    }\n\n    .dataframe thead th {\n        text-align: right;\n    }\n</style>\n<table border=\"1\" class=\"dataframe\">\n  <thead>\n    <tr style=\"text-align: right;\">\n      <th></th>\n      <th>attack_type</th>\n      <th>primary_attr</th>\n      <th>localized_name</th>\n    </tr>\n  </thead>\n  <tbody>\n    <tr>\n      <th>4</th>\n      <td>Ranged</td>\n      <td>int</td>\n      <td>40</td>\n    </tr>\n    <tr>\n      <th>2</th>\n      <td>Melee</td>\n      <td>str</td>\n      <td>35</td>\n    </tr>\n    <tr>\n      <th>0</th>\n      <td>Melee</td>\n      <td>agi</td>\n      <td>19</td>\n    </tr>\n    <tr>\n      <th>3</th>\n      <td>Ranged</td>\n      <td>agi</td>\n      <td>18</td>\n    </tr>\n    <tr>\n      <th>5</th>\n      <td>Ranged</td>\n      <td>str</td>\n      <td>3</td>\n    </tr>\n    <tr>\n      <th>1</th>\n      <td>Melee</td>\n      <td>int</td>\n      <td>2</td>\n    </tr>\n  </tbody>\n</table>\n</div>"
     },
     "metadata": {},
     "output_type": "execute_result",
     "execution_count": 12
    }
   ],
   "source": [
    "df.groupby(['attack_type', 'primary_attr'], as_index=False).aggregate({'localized_name': 'count'})\\\n",
    "    .sort_values('localized_name', ascending=False)"
   ],
   "metadata": {
    "collapsed": false,
    "pycharm": {
     "name": "#%%\n",
     "is_executing": false
    }
   }
  },
  {
   "cell_type": "markdown",
   "source": [
    "## ЗАДАЧА\n",
    "\n",
    "Аспирант Ростислав изучает метаболом водорослей и получил такую табличку. \n",
    "В ней он записал вид каждой водоросли, её род (группа, объединяющая близкие виды), \n",
    "группа (ещё одно объединение водорослей в крупные фракции) и концентрации анализируемых веществ.\n",
    "\n",
    "Помогите Ростиславу найти среднюю концентрацию каждого из веществ в каждом из родов (колонка genus)! \n",
    "Для этого проведите группировку датафрэйма, сохранённого в переменной concentrations, \n",
    "и примените метод, сохранив результат в переменной mean_concentrations."
   ],
   "metadata": {
    "collapsed": false
   }
  },
  {
   "cell_type": "code",
   "execution_count": 14,
   "outputs": [
    {
     "data": {
      "text/plain": "               species       genus  group   sucrose    alanin   citrate  \\\n0    Fucus_vesiculosus       Fucus  brown  3.001472  3.711498  5.004262   \n1  Saccharina_japonica  Saccharina  brown  6.731070  1.255251  5.621499   \n2       Fucus_serratus       Fucus  brown  3.276870  0.346431  1.216767   \n3      Fucus_distichus       Fucus  brown  6.786996  6.641303  6.423606   \n4    Cladophora_fracta  Cladophora  green  3.861470  1.648450  6.940588   \n\n    glucose  oleic_acid  \n0  2.548459    6.405165  \n1  6.013219    4.156700  \n2  3.623225    0.304573  \n3  2.272724    3.393203  \n4  2.316955    2.528886  ",
      "text/html": "<div>\n<style scoped>\n    .dataframe tbody tr th:only-of-type {\n        vertical-align: middle;\n    }\n\n    .dataframe tbody tr th {\n        vertical-align: top;\n    }\n\n    .dataframe thead th {\n        text-align: right;\n    }\n</style>\n<table border=\"1\" class=\"dataframe\">\n  <thead>\n    <tr style=\"text-align: right;\">\n      <th></th>\n      <th>species</th>\n      <th>genus</th>\n      <th>group</th>\n      <th>sucrose</th>\n      <th>alanin</th>\n      <th>citrate</th>\n      <th>glucose</th>\n      <th>oleic_acid</th>\n    </tr>\n  </thead>\n  <tbody>\n    <tr>\n      <th>0</th>\n      <td>Fucus_vesiculosus</td>\n      <td>Fucus</td>\n      <td>brown</td>\n      <td>3.001472</td>\n      <td>3.711498</td>\n      <td>5.004262</td>\n      <td>2.548459</td>\n      <td>6.405165</td>\n    </tr>\n    <tr>\n      <th>1</th>\n      <td>Saccharina_japonica</td>\n      <td>Saccharina</td>\n      <td>brown</td>\n      <td>6.731070</td>\n      <td>1.255251</td>\n      <td>5.621499</td>\n      <td>6.013219</td>\n      <td>4.156700</td>\n    </tr>\n    <tr>\n      <th>2</th>\n      <td>Fucus_serratus</td>\n      <td>Fucus</td>\n      <td>brown</td>\n      <td>3.276870</td>\n      <td>0.346431</td>\n      <td>1.216767</td>\n      <td>3.623225</td>\n      <td>0.304573</td>\n    </tr>\n    <tr>\n      <th>3</th>\n      <td>Fucus_distichus</td>\n      <td>Fucus</td>\n      <td>brown</td>\n      <td>6.786996</td>\n      <td>6.641303</td>\n      <td>6.423606</td>\n      <td>2.272724</td>\n      <td>3.393203</td>\n    </tr>\n    <tr>\n      <th>4</th>\n      <td>Cladophora_fracta</td>\n      <td>Cladophora</td>\n      <td>green</td>\n      <td>3.861470</td>\n      <td>1.648450</td>\n      <td>6.940588</td>\n      <td>2.316955</td>\n      <td>2.528886</td>\n    </tr>\n  </tbody>\n</table>\n</div>"
     },
     "metadata": {},
     "output_type": "execute_result",
     "execution_count": 14
    }
   ],
   "source": [
    "concentrations = pd.read_csv('data/algae.csv')\n",
    "concentrations.head()"
   ],
   "metadata": {
    "collapsed": false,
    "pycharm": {
     "name": "#%%\n",
     "is_executing": false
    }
   }
  },
  {
   "cell_type": "code",
   "execution_count": 15,
   "outputs": [
    {
     "data": {
      "text/plain": "              sucrose    alanin   citrate   glucose  oleic_acid\ngenus                                                          \nAscophyllum  6.825467  0.875429  5.253527  3.414961    2.432526\nCladophora   4.008792  3.997055  5.288311  2.800276    2.263472\nFucus        4.355112  3.566411  4.214878  2.814803    3.367647\nPalmaria     0.704580  3.176440  5.573905  3.242090    2.245538\nSaccharina   4.183596  3.524207  3.346710  4.980594    4.487252",
      "text/html": "<div>\n<style scoped>\n    .dataframe tbody tr th:only-of-type {\n        vertical-align: middle;\n    }\n\n    .dataframe tbody tr th {\n        vertical-align: top;\n    }\n\n    .dataframe thead th {\n        text-align: right;\n    }\n</style>\n<table border=\"1\" class=\"dataframe\">\n  <thead>\n    <tr style=\"text-align: right;\">\n      <th></th>\n      <th>sucrose</th>\n      <th>alanin</th>\n      <th>citrate</th>\n      <th>glucose</th>\n      <th>oleic_acid</th>\n    </tr>\n    <tr>\n      <th>genus</th>\n      <th></th>\n      <th></th>\n      <th></th>\n      <th></th>\n      <th></th>\n    </tr>\n  </thead>\n  <tbody>\n    <tr>\n      <th>Ascophyllum</th>\n      <td>6.825467</td>\n      <td>0.875429</td>\n      <td>5.253527</td>\n      <td>3.414961</td>\n      <td>2.432526</td>\n    </tr>\n    <tr>\n      <th>Cladophora</th>\n      <td>4.008792</td>\n      <td>3.997055</td>\n      <td>5.288311</td>\n      <td>2.800276</td>\n      <td>2.263472</td>\n    </tr>\n    <tr>\n      <th>Fucus</th>\n      <td>4.355112</td>\n      <td>3.566411</td>\n      <td>4.214878</td>\n      <td>2.814803</td>\n      <td>3.367647</td>\n    </tr>\n    <tr>\n      <th>Palmaria</th>\n      <td>0.704580</td>\n      <td>3.176440</td>\n      <td>5.573905</td>\n      <td>3.242090</td>\n      <td>2.245538</td>\n    </tr>\n    <tr>\n      <th>Saccharina</th>\n      <td>4.183596</td>\n      <td>3.524207</td>\n      <td>3.346710</td>\n      <td>4.980594</td>\n      <td>4.487252</td>\n    </tr>\n  </tbody>\n</table>\n</div>"
     },
     "metadata": {},
     "output_type": "execute_result",
     "execution_count": 15
    }
   ],
   "source": [
    "concentrations.groupby('genus').mean()"
   ],
   "metadata": {
    "collapsed": false,
    "pycharm": {
     "name": "#%%\n",
     "is_executing": false
    }
   }
  },
  {
   "cell_type": "markdown",
   "source": [
    "## ЗАДАЧА\n",
    "\n",
    "Пользуясь предыдущими данными, укажите через пробел (без запятых) чему равны минимальная, \n",
    "средняя и максимальная концентрации аланина (alanin) среди видов рода Fucus. \n",
    "Округлите до 2-ого знака, десятичным разделителем является точка."
   ],
   "metadata": {
    "collapsed": false
   }
  },
  {
   "cell_type": "code",
   "execution_count": 20,
   "outputs": [
    {
     "data": {
      "text/plain": "alanin    3.566411\ndtype: float64"
     },
     "metadata": {},
     "output_type": "execute_result",
     "execution_count": 20
    }
   ],
   "source": [
    "concentrations.filter(items=['genus', 'alanin']).query(\"genus == 'Fucus'\").mean()"
   ],
   "metadata": {
    "collapsed": false,
    "pycharm": {
     "name": "#%%\n",
     "is_executing": false
    }
   }
  },
  {
   "cell_type": "markdown",
   "source": [
    "## ЗАДАЧА\n",
    "\n",
    "Сгруппируйте данные по переменной group и соотнесите вопросы с ответами"
   ],
   "metadata": {
    "collapsed": false
   }
  },
  {
   "cell_type": "code",
   "execution_count": 23,
   "outputs": [
    {
     "data": {
      "text/plain": "        sucrose\ngroup          \nbrown  6.825467\ngreen  5.712284\nred    0.704580",
      "text/html": "<div>\n<style scoped>\n    .dataframe tbody tr th:only-of-type {\n        vertical-align: middle;\n    }\n\n    .dataframe tbody tr th {\n        vertical-align: top;\n    }\n\n    .dataframe thead th {\n        text-align: right;\n    }\n</style>\n<table border=\"1\" class=\"dataframe\">\n  <thead>\n    <tr style=\"text-align: right;\">\n      <th></th>\n      <th>sucrose</th>\n    </tr>\n    <tr>\n      <th>group</th>\n      <th></th>\n    </tr>\n  </thead>\n  <tbody>\n    <tr>\n      <th>brown</th>\n      <td>6.825467</td>\n    </tr>\n    <tr>\n      <th>green</th>\n      <td>5.712284</td>\n    </tr>\n    <tr>\n      <th>red</th>\n      <td>0.704580</td>\n    </tr>\n  </tbody>\n</table>\n</div>"
     },
     "metadata": {},
     "output_type": "execute_result",
     "execution_count": 23
    }
   ],
   "source": [
    "concentrations.groupby('group').aggregate({'sucrose': 'max'})"
   ],
   "metadata": {
    "collapsed": false,
    "pycharm": {
     "name": "#%%\n",
     "is_executing": false
    }
   }
  },
  {
   "cell_type": "code",
   "execution_count": 24,
   "outputs": [
    {
     "data": {
      "text/plain": "        sucrose\ngroup          \nbrown  1.636122\ngreen  2.452623\nred    0.704580",
      "text/html": "<div>\n<style scoped>\n    .dataframe tbody tr th:only-of-type {\n        vertical-align: middle;\n    }\n\n    .dataframe tbody tr th {\n        vertical-align: top;\n    }\n\n    .dataframe thead th {\n        text-align: right;\n    }\n</style>\n<table border=\"1\" class=\"dataframe\">\n  <thead>\n    <tr style=\"text-align: right;\">\n      <th></th>\n      <th>sucrose</th>\n    </tr>\n    <tr>\n      <th>group</th>\n      <th></th>\n    </tr>\n  </thead>\n  <tbody>\n    <tr>\n      <th>brown</th>\n      <td>1.636122</td>\n    </tr>\n    <tr>\n      <th>green</th>\n      <td>2.452623</td>\n    </tr>\n    <tr>\n      <th>red</th>\n      <td>0.704580</td>\n    </tr>\n  </tbody>\n</table>\n</div>"
     },
     "metadata": {},
     "output_type": "execute_result",
     "execution_count": 24
    }
   ],
   "source": [
    "concentrations.groupby('group').aggregate({'sucrose': 'min'})"
   ],
   "metadata": {
    "collapsed": false,
    "pycharm": {
     "name": "#%%\n",
     "is_executing": false
    }
   }
  },
  {
   "cell_type": "code",
   "execution_count": 25,
   "outputs": [
    {
     "data": {
      "text/plain": "        citrate\ngroup          \nbrown  5.468942\ngreen  3.950113\nred         NaN",
      "text/html": "<div>\n<style scoped>\n    .dataframe tbody tr th:only-of-type {\n        vertical-align: middle;\n    }\n\n    .dataframe tbody tr th {\n        vertical-align: top;\n    }\n\n    .dataframe thead th {\n        text-align: right;\n    }\n</style>\n<table border=\"1\" class=\"dataframe\">\n  <thead>\n    <tr style=\"text-align: right;\">\n      <th></th>\n      <th>citrate</th>\n    </tr>\n    <tr>\n      <th>group</th>\n      <th></th>\n    </tr>\n  </thead>\n  <tbody>\n    <tr>\n      <th>brown</th>\n      <td>5.468942</td>\n    </tr>\n    <tr>\n      <th>green</th>\n      <td>3.950113</td>\n    </tr>\n    <tr>\n      <th>red</th>\n      <td>NaN</td>\n    </tr>\n  </tbody>\n</table>\n</div>"
     },
     "metadata": {},
     "output_type": "execute_result",
     "execution_count": 25
    }
   ],
   "source": [
    "concentrations.groupby('group').aggregate({'citrate': 'var'})\n"
   ],
   "metadata": {
    "collapsed": false,
    "pycharm": {
     "name": "#%%\n",
     "is_executing": false
    }
   }
  }
 ],
 "metadata": {
  "kernelspec": {
   "display_name": "Python 3",
   "language": "python",
   "name": "python3"
  },
  "language_info": {
   "codemirror_mode": {
    "name": "ipython",
    "version": 2
   },
   "file_extension": ".py",
   "mimetype": "text/x-python",
   "name": "python",
   "nbconvert_exporter": "python",
   "pygments_lexer": "ipython2",
   "version": "2.7.6"
  },
  "pycharm": {
   "stem_cell": {
    "cell_type": "raw",
    "source": [],
    "metadata": {
     "collapsed": false
    }
   }
  }
 },
 "nbformat": 4,
 "nbformat_minor": 0
}